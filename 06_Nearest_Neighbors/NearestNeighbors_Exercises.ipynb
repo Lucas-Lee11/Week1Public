{
 "cells": [
  {
   "cell_type": "markdown",
   "source": "# Nearest Neighbors Exercises",
   "metadata": {
    "colab_type": "text",
    "id": "3hHvV20eD58o",
    "cell_id": "00000-c2e7636f-01eb-4539-9615-f462e6f2f682",
    "deepnote_cell_type": "markdown"
   }
  },
  {
   "cell_type": "code",
   "metadata": {
    "colab_type": "code",
    "id": "z1h_AAj_D4kX",
    "colab": {},
    "cell_id": "00001-f904f2ff-f49d-4cf5-a2bf-8f8d4d09a9f4",
    "deepnote_to_be_reexecuted": false,
    "source_hash": "ab7040a7",
    "execution_start": 1625684255650,
    "execution_millis": 2071,
    "deepnote_cell_type": "code"
   },
   "source": "import numpy as np\nimport pandas as po\nimport matplotlib.pyplot as plt\n\nfrom sklearn.model_selection import train_test_split\nfrom sklearn.neighbors import KNeighborsClassifier\nfrom sklearn.metrics import accuracy_score",
   "execution_count": null,
   "outputs": []
  },
  {
   "cell_type": "markdown",
   "source": "## Problem 1\n\nConsider the following simple data-set:\n\n<img src=\"https://github.com/BeaverWorksMedlytics2020/Data_Public/raw/master/Images/Week1/knn_notebook_example_table.png\" alt=\"Example Table\" width=\"600\">\n\nNow consider the Sample:\n    $$X= 4, Y = 4, Z = 2$$",
   "metadata": {
    "id": "87tmgzNMb9tV",
    "colab_type": "text",
    "cell_id": "00002-2beb2222-d4f3-4315-93f0-65c78469f97c",
    "deepnote_cell_type": "markdown"
   }
  },
  {
   "cell_type": "markdown",
   "source": "Using kNN, what is the class for this sample for $k = 1$ and $k = 3?$ Use the Eucledian metric.\n\n(YOUR ANSWER HERE)",
   "metadata": {
    "colab_type": "text",
    "id": "gqjait37Qws0",
    "cell_id": "00003-18cde72a-8ca0-4c0d-b013-47e1989dbbb6",
    "deepnote_cell_type": "markdown"
   }
  },
  {
   "cell_type": "code",
   "metadata": {
    "tags": [],
    "cell_id": "00004-f98fbc51-9dac-4c51-a3de-e73987a6bbbf",
    "deepnote_to_be_reexecuted": false,
    "source_hash": "c48f966",
    "execution_start": 1625684257735,
    "execution_millis": 14,
    "deepnote_cell_type": "code"
   },
   "source": "import math\n\ndef euclidean_dist(datum1, datum2):\n    inner_val = 0.0\n    \n    for g in range(len(datum1)):  #0,1,2\n        #print(g)\n        inner_val += (datum1[g]- datum2[g]) ** 2\n    \n    distance = math.sqrt(inner_val)\n    return(distance)\n\ntest = [4,4,2]\ns_1 = [5,4,3]\ns_2 = [1,2,2]\ns_3 = [1,2,3]\n\nprint(euclidean_dist(test, s_1))\nprint(euclidean_dist(test, s_2))\nprint(euclidean_dist(test, s_3))",
   "execution_count": null,
   "outputs": [
    {
     "name": "stdout",
     "text": "1.4142135623730951\n3.605551275463989\n3.7416573867739413\n",
     "output_type": "stream"
    }
   ]
  },
  {
   "cell_type": "markdown",
   "source": "## Problem 2\nEarlier in the tutorial we were told that kNN depends on several factors, one of them being $k$. Consider the following datasets below, find the optimal value of $k$ that gives the highest accuracy. Visualize your data! Can you come up with some rule for getting a good idea of what $k$ is? \n\nHINT: look for a pattern/bound! Answer should be in terms of the size of the dataset $n$. ",
   "metadata": {
    "colab_type": "text",
    "id": "MtE0uiKuTWsI",
    "cell_id": "00004-1e5b3c66-acca-4989-9b28-d291cabf73b5",
    "deepnote_cell_type": "markdown"
   }
  },
  {
   "cell_type": "code",
   "metadata": {
    "id": "aapncOgUo_5r",
    "colab_type": "code",
    "colab": {},
    "cell_id": "00005-5ace4d9e-53cb-4a41-984a-68dc97516054",
    "deepnote_to_be_reexecuted": false,
    "source_hash": "4dd7889",
    "execution_start": 1625684257744,
    "execution_millis": 80,
    "deepnote_cell_type": "code"
   },
   "source": "# Solve this problem for each of these datasets\nfrom sklearn.datasets import load_iris \nfrom sklearn.datasets import load_breast_cancer\nfrom sklearn.datasets import load_wine \nfrom sklearn.model_selection import train_test_split\nfrom sklearn.neighbors import KNeighborsClassifier\nfrom sklearn.metrics import accuracy_score\n\n# Load those datasets into some easily accessible variables\n# The datasets are already normalized, so that saves us some steps!\niris = load_iris()                    #iris dataset: size = 150\nbreast_cancer = load_breast_cancer()  #diabetes dataset: size = 569\nwine = load_wine()                    #wine dataset: size 178\n\n# This function will perfom KNN classification for a specified k\ndef split_train_test_dataset(dataset, k, test_size=0.2):\n    \"\"\"Loads and performs KNN classification on the provided dataset\"\"\"\n    # Grab and split the dataset\n    X_train, X_val, y_train, y_val = train_test_split(\n        dataset.data, dataset.target, test_size=test_size, random_state=0)\n\n    # Build a KNN classifier, fit it and test its predictions\n    knn = KNeighborsClassifier(n_neighbors=k)\n    knn.fit(X_train, y_train)\n    print(\"Validation Accuracy is {:5.1%}\".format(\n        accuracy_score(y_val, knn.predict(X_val))))\n",
   "execution_count": null,
   "outputs": []
  },
  {
   "cell_type": "code",
   "metadata": {
    "id": "lQk-b90Kgz-S",
    "colab_type": "code",
    "colab": {},
    "cell_id": "00006-e64c614d-ef64-4987-be50-dc0a108ff803",
    "deepnote_to_be_reexecuted": false,
    "source_hash": "ccac61e9",
    "execution_start": 1625684257868,
    "execution_millis": 322,
    "deepnote_cell_type": "code"
   },
   "source": "# YOUR CODE HERE\nimport numpy as np\n\ndset = wine\nn = len(dset['data'])\nk_vals = np.linspace(n//50, n//2, dtype=int)  #3-89\n\nfor k in k_vals:\n    print(k/n)\n    split_train_test_dataset(dset, k)\n    print('\\n')",
   "execution_count": null,
   "outputs": [
    {
     "name": "stdout",
     "text": "0.016853932584269662\nValidation Accuracy is 77.8%\n\n\n0.02247191011235955\nValidation Accuracy is 75.0%\n\n\n0.033707865168539325\nValidation Accuracy is 75.0%\n\n\n0.0449438202247191\nValidation Accuracy is 69.4%\n\n\n0.056179775280898875\nValidation Accuracy is 72.2%\n\n\n0.06179775280898876\nValidation Accuracy is 72.2%\n\n\n0.07303370786516854\nValidation Accuracy is 75.0%\n\n\n0.08426966292134831\nValidation Accuracy is 72.2%\n\n\n0.09550561797752809\nValidation Accuracy is 77.8%\n\n\n0.10112359550561797\nValidation Accuracy is 75.0%\n\n\n0.11235955056179775\nValidation Accuracy is 77.8%\n\n\n0.12359550561797752\nValidation Accuracy is 75.0%\n\n\n0.1348314606741573\nValidation Accuracy is 75.0%\n\n\n0.1404494382022472\nValidation Accuracy is 75.0%\n\n\n0.15168539325842698\nValidation Accuracy is 75.0%\n\n\n0.16292134831460675\nValidation Accuracy is 75.0%\n\n\n0.17415730337078653\nValidation Accuracy is 75.0%\n\n\n0.1797752808988764\nValidation Accuracy is 75.0%\n\n\n0.19101123595505617\nValidation Accuracy is 75.0%\n\n\n0.20224719101123595\nValidation Accuracy is 75.0%\n\n\n0.21348314606741572\nValidation Accuracy is 75.0%\n\n\n0.21910112359550563\nValidation Accuracy is 75.0%\n\n\n0.2303370786516854\nValidation Accuracy is 75.0%\n\n\n0.24157303370786518\nValidation Accuracy is 75.0%\n\n\n0.25280898876404495\nValidation Accuracy is 75.0%\n\n\n0.25842696629213485\nValidation Accuracy is 75.0%\n\n\n0.2696629213483146\nValidation Accuracy is 75.0%\n\n\n0.2808988764044944\nValidation Accuracy is 75.0%\n\n\n0.29213483146067415\nValidation Accuracy is 75.0%\n\n\n0.29775280898876405\nValidation Accuracy is 75.0%\n\n\n0.3089887640449438\nValidation Accuracy is 75.0%\n\n\n0.3202247191011236\nValidation Accuracy is 75.0%\n\n\n0.33146067415730335\nValidation Accuracy is 75.0%\n\n\n0.33707865168539325\nValidation Accuracy is 75.0%\n\n\n0.34831460674157305\nValidation Accuracy is 75.0%\n\n\n0.3595505617977528\nValidation Accuracy is 75.0%\n\n\n0.3707865168539326\nValidation Accuracy is 75.0%\n\n\n0.37640449438202245\nValidation Accuracy is 75.0%\n\n\n0.38764044943820225\nValidation Accuracy is 75.0%\n\n\n0.398876404494382\nValidation Accuracy is 75.0%\n\n\n0.4101123595505618\nValidation Accuracy is 75.0%\n\n\n0.4157303370786517\nValidation Accuracy is 75.0%\n\n\n0.42696629213483145\nValidation Accuracy is 77.8%\n\n\n0.43820224719101125\nValidation Accuracy is 77.8%\n\n\n0.449438202247191\nValidation Accuracy is 77.8%\n\n\n0.4550561797752809\nValidation Accuracy is 77.8%\n\n\n0.46629213483146065\nValidation Accuracy is 77.8%\n\n\n0.47752808988764045\nValidation Accuracy is 77.8%\n\n\n0.4887640449438202\nValidation Accuracy is 75.0%\n\n\n0.5\nValidation Accuracy is 75.0%\n\n\n",
     "output_type": "stream"
    }
   ]
  },
  {
   "cell_type": "markdown",
   "source": "Write a single mathematical expression describing the relationship you found between $n$ (the size of the dataset) and $k$ (the number of datapoints used to classify each validation datum).",
   "metadata": {
    "id": "n1_EbFlqzjAT",
    "colab_type": "text",
    "cell_id": "00007-9e31e134-f849-45d6-980b-81094c4e074f",
    "deepnote_cell_type": "markdown"
   }
  },
  {
   "cell_type": "markdown",
   "source": "(YOUR ANSWER HERE)",
   "metadata": {
    "id": "PbbrX6rGq6CV",
    "colab_type": "text",
    "cell_id": "00008-01630e1e-58e1-480d-b182-928216e4dc1d",
    "deepnote_cell_type": "markdown"
   }
  },
  {
   "cell_type": "markdown",
   "source": "## Problem 3\nNow, we will **be writing our k-NNA**. Recall that we said a kNN is comprised of a predictions and using those predictions to classify the data. Here we will try to mimic sklearn's kNN methods. We will be using the Pima diabetes dataset. ",
   "metadata": {
    "colab_type": "text",
    "id": "-vDZy0F3eyeH",
    "cell_id": "00009-6b713464-0106-4edd-946f-132b72febf84",
    "deepnote_cell_type": "markdown"
   }
  },
  {
   "cell_type": "markdown",
   "source": "### Loading and splitting data",
   "metadata": {
    "id": "8YFfjG9G3lVO",
    "colab_type": "text",
    "cell_id": "00010-84a30058-7b6a-4895-b6d3-3c2289005067",
    "deepnote_cell_type": "markdown"
   }
  },
  {
   "cell_type": "code",
   "metadata": {
    "colab_type": "code",
    "id": "zbs8WICFgITd",
    "colab": {},
    "cell_id": "00011-1c057c97-58b6-4874-80b7-10c7451fa29c",
    "deepnote_to_be_reexecuted": false,
    "source_hash": "549aaad3",
    "execution_start": 1625684258234,
    "execution_millis": 80,
    "deepnote_cell_type": "code"
   },
   "source": "import pandas as pd\n\nurl = \"https://github.com/BeaverWorksMedlytics2020/Data_Public/raw/master/NotebookExampleData/Week1/diabetes.csv\"\nnames = ['preg', 'plas', 'pres', 'skin', 'test', 'mass', 'pedi', 'age', 'class']\ndata = pd.read_csv(url, names=names)\n\n# Dropping NaN rows\ninvalid = ['plas', 'pres', 'skin', 'test', 'mass']\n\nfor i in invalid:\n    data[i].replace(to_replace=0, value=np.nan, inplace=True)\n    \ndata = data.dropna(axis=0).reset_index(drop=True)",
   "execution_count": null,
   "outputs": []
  },
  {
   "cell_type": "markdown",
   "source": "Now, let's clearly define which columns will act as explanatory variables, and which column will be the target value, and split the dataset between your training data and testing data. Let's try an 80-20 split and use sklearn's [train_test_split](http://scikit-learn.org/stable/modules/generated/sklearn.model_selection.train_test_split.html) method (set random_state = 0 so we get the same output each time).",
   "metadata": {
    "id": "aSUwHL6-4P2F",
    "colab_type": "text",
    "cell_id": "00012-edbb2bcc-a36e-4f35-82dc-f76f34842e05",
    "deepnote_cell_type": "markdown"
   }
  },
  {
   "cell_type": "code",
   "metadata": {
    "colab_type": "code",
    "id": "9MXZjxRcgy78",
    "colab": {
     "base_uri": "https://localhost:8080/",
     "height": 68
    },
    "outputId": "91bb35f5-9c29-4c6b-dbba-7a0644a3e2ca",
    "cell_id": "00013-92ad0b5c-3054-4097-b3ae-6285d5b03669",
    "deepnote_to_be_reexecuted": false,
    "source_hash": "d98a6cd6",
    "execution_start": 1625684258371,
    "execution_millis": 7,
    "deepnote_cell_type": "code"
   },
   "source": "# Columns we will use to make predictions with (features!) feel free to play around with these\nX_cols = ['preg', 'plas', 'pres', 'skin', 'test', 'mass', 'pedi', 'age']\n\n# Column that we want to predict (the labels)\ny_col = 'class'\n\n# 80-20 train-test split of datset\ntest_size = 0.2\nX_train, X_test, y_train, y_test = train_test_split(data[X_cols], data[y_col], test_size=test_size, random_state=0)\n\n# Further split X and y of training into training and validation sets\nX_train, X_val, y_train, y_val = train_test_split(X_train, y_train, test_size=test_size, random_state=0)\n\nprint('There are {} training samples with {} features and {} associated classification labels'.format(*X_train.shape, *y_train.shape))\nprint('There are {} validation samples with {} features and {} associated classification labels'.format(*X_val.shape, *y_val.shape))\nprint('There are {} test samples with {} features and {} associated classification labels'.format(*X_test.shape, *y_test.shape))",
   "execution_count": null,
   "outputs": [
    {
     "name": "stdout",
     "text": "There are 250 training samples with 8 features and 250 associated classification labels\nThere are 63 validation samples with 8 features and 63 associated classification labels\nThere are 79 test samples with 8 features and 79 associated classification labels\n",
     "output_type": "stream"
    }
   ]
  },
  {
   "cell_type": "markdown",
   "source": "### Normalizing Data\n\nLet's not forget to normalize the data! We'll use sklearn's StandardScaler normalization like we did before to normalize the training **and** validation/data.",
   "metadata": {
    "colab_type": "text",
    "id": "De_EJnYKgz_6",
    "cell_id": "00014-d3d19f71-9aab-4cb2-a5bc-bd51c048aaab",
    "deepnote_cell_type": "markdown"
   }
  },
  {
   "cell_type": "code",
   "metadata": {
    "colab_type": "code",
    "id": "6PD6-ibriBJO",
    "colab": {},
    "cell_id": "00015-3c4b33fb-bf48-4a47-888f-26f963243ca1",
    "deepnote_to_be_reexecuted": false,
    "source_hash": "844e8ff7",
    "execution_start": 1625684258415,
    "execution_millis": 0,
    "deepnote_cell_type": "code"
   },
   "source": "from sklearn.preprocessing import StandardScaler\n\nscaler = StandardScaler()\n\nfor i in list(X_train):\n    feature_data_train = X_train[i].values.reshape(-1, 1)\n    scaler.fit(feature_data_train)\n    X_train[i] = scaler.transform(feature_data_train)\n\nfor j in list(X_test):\n    feature_data_test = X_test[j].values.reshape(-1, 1)\n    scaler.fit(feature_data_test)\n    X_test[j] = scaler.transform(feature_data_test)\n    \nfor k in list(X_val):\n    feature_data_val = X_val[k].values.reshape(-1, 1)\n    scaler.fit(feature_data_val)\n    X_val[k] = scaler.transform(feature_data_val)",
   "execution_count": null,
   "outputs": []
  },
  {
   "cell_type": "markdown",
   "source": "### Writing your kNN\n\nNow for the fun part! Fill in the 3 following methods, euclidean_dist(), predict(), and knn().\n\nThe predict method that we'll make below needs to: \n1. Compute the euclidean distance between the “new” observation and all the data points in the training set. \n2. Assign the corresponding label to the observation\n3. Select the k nearest ones and perform a \"majority vote\"",
   "metadata": {
    "colab_type": "text",
    "id": "hnv61aiiitxU",
    "cell_id": "00016-936a23e0-5940-4cd3-bfbf-f65294228af4",
    "deepnote_cell_type": "markdown"
   }
  },
  {
   "cell_type": "code",
   "metadata": {
    "id": "xXkIw6zN3lVb",
    "colab_type": "code",
    "colab": {},
    "cell_id": "00017-14b68561-0190-4b35-9b04-3b33196a69b9",
    "deepnote_to_be_reexecuted": false,
    "source_hash": "9c4668ff",
    "execution_start": 1625684258415,
    "execution_millis": 1,
    "deepnote_cell_type": "code"
   },
   "source": "# Euclidean distance function from tutorial\ndef euclidean_dist(datum1, datum2):\n    inner_val = 0.0\n    \n    for g in range(datum1.shape[0]):\n        inner_val += (datum1[g]- datum2[g]) ** 2\n    \n    distance = np.sqrt(inner_val)\n    return(distance)",
   "execution_count": null,
   "outputs": []
  },
  {
   "cell_type": "code",
   "metadata": {
    "tags": [],
    "cell_id": "00025-fb42d781-80ef-47e6-b045-799366809de2",
    "deepnote_to_be_reexecuted": false,
    "source_hash": "eeae10ca",
    "execution_start": 1625684258416,
    "execution_millis": 49,
    "deepnote_cell_type": "code"
   },
   "source": " X_train.loc[3]",
   "execution_count": null,
   "outputs": [
    {
     "output_type": "execute_result",
     "execution_count": 9,
     "data": {
      "text/plain": "preg   -0.448246\nplas    2.377934\npres   -0.097262\nskin    1.543167\ntest    3.210721\nmass   -0.390728\npedi   -1.087344\nage     1.957219\nName: 3, dtype: float64"
     },
     "metadata": {}
    }
   ]
  },
  {
   "cell_type": "code",
   "metadata": {
    "colab_type": "code",
    "id": "FqJkm_ytjFgM",
    "colab": {},
    "cell_id": "00018-7a3be6d5-55b3-4735-9047-9e5f47a66054",
    "deepnote_to_be_reexecuted": false,
    "source_hash": "f3e2509d",
    "execution_start": 1625693628747,
    "execution_millis": 111,
    "deepnote_cell_type": "code"
   },
   "source": "from collections import Counter\n\ndef predict(x_training, y_training, x_test_sample, k):\n    \n    # Create list for distances and targets\n    d = []\n    t = []\n\n    # YOUR CODE HERE\n    for i in list(x_training.index):\n        dist = euclidean_dist(x_training.loc[i], x_test_sample)\n\n        d.append([dist, i])\n\n    d = sorted(d)\n    print(d)\n \n    for i in range(k):\n        f = d[i][1]\n        t.append(y_training.loc[f]['class'])\n    print(t)\n    \n    c = Counter(t)\n    print(c.most_common())\n    return c.most_common()[0][0]\n\n\n\npredict(X_train.reset_index(), y_train.reset_index(), X_val.reset_index().loc[0], 9)",
   "execution_count": null,
   "outputs": [
    {
     "name": "stdout",
     "text": "[[4.212907686139265, 2], [4.823898296704433, 37], [5.9888575125734524, 64], [6.186740656944471, 89], [7.01027292357956, 77], [7.125120707791731, 118], [7.4849172588437, 168], [8.015220403506452, 133], [8.140991453364858, 211], [9.075826933072383, 169], [9.527508306059191, 198], [10.667891867596737, 39], [11.940572248235805, 248], [12.5621563514558, 137], [13.261086592368903, 183], [13.827972837373123, 35], [14.130842093803043, 120], [14.64260097157668, 164], [16.000021730163265, 206], [16.101897763308834, 176], [16.507062858843646, 52], [17.64524729472018, 92], [17.690691646102344, 49], [18.993558348336272, 99], [19.298626112903037, 129], [19.878971122534217, 138], [20.27875445806183, 104], [21.323641256690347, 16], [21.379899209725654, 212], [24.21436476362365, 18], [24.333438959890454, 90], [25.56625586682046, 231], [26.263084830115428, 82], [27.27704486038634, 67], [27.531597226419677, 153], [29.327575945919037, 122], [29.483150009042276, 175], [30.250363358998218, 150], [30.419560696197863, 108], [31.280044699556903, 88], [31.416522597458783, 80], [32.228666813437975, 38], [33.229261412088974, 181], [35.26197855801429, 209], [35.319682293531166, 203], [36.22537712935641, 177], [37.20128850069763, 42], [37.46104112332283, 91], [38.19804022370947, 123], [39.25499389072141, 195], [39.42464346195662, 227], [40.19399168771279, 194], [42.26529941067643, 232], [42.33436943155281, 48], [43.301486593166665, 237], [44.385501617708215, 202], [45.1308986319731, 190], [45.23497573589644, 51], [46.34472999890141, 139], [46.362951612540634, 95], [48.23570730292394, 192], [51.18059521800713, 148], [53.13557757801895, 106], [54.12330438457396, 56], [54.27514470856456, 102], [56.18982356298315, 86], [57.121074047091824, 130], [59.13093400819797, 22], [60.046800064279935, 60], [61.08021687623575, 223], [61.30139426195315, 0], [62.15954537329972, 144], [62.25723225092057, 239], [63.202680556676704, 30], [63.28488511465778, 205], [64.21148202840519, 65], [65.09572843467186, 111], [65.12423240558905, 184], [66.22970076725917, 238], [68.08819255739525, 136], [69.15102264436335, 4], [70.21987299050673, 11], [71.05246501971779, 27], [71.10686399094551, 70], [72.22959687783367, 207], [73.07700308901796, 53], [73.20817931628238, 32], [74.10415654868395, 199], [75.15395917370299, 242], [76.0256657027161, 174], [76.13537413232606, 185], [77.13015092818394, 226], [78.12226467531839, 46], [79.15651753439235, 100], [80.12161934660777, 110], [80.16435620542298, 161], [81.15535090202293, 193], [81.24248170680991, 127], [82.12027792322412, 63], [83.16509338024974, 17], [83.23901983946558, 87], [84.23421391498341, 160], [85.02829865698833, 43], [85.13399778877742, 45], [86.14481213741196, 47], [87.04719549381923, 221], [87.07805682167985, 105], [88.04647165479722, 76], [88.18113345052122, 204], [89.03124568990982, 132], [90.15305821063853, 154], [90.21175727881136, 109], [91.21500165413872, 171], [92.06443427925954, 103], [93.06983645827758, 222], [93.1198125886804, 69], [94.12411053502582, 15], [95.0820909725656, 113], [95.10139501740663, 152], [96.12240714509099, 145], [96.12684365615911, 124], [97.15554999475344, 213], [99.09667321374933, 6], [100.110129126417, 5], [100.1710133566797, 24], [101.05811508048868, 246], [101.08469320089738, 29], [103.07083607331765, 200], [103.12945902641573, 189], [104.03369934250264, 215], [106.0755803859622, 157], [108.05497594725645, 79], [108.15708835265218, 230], [109.074192717419, 178], [110.12843842040368, 12], [110.1544476485355, 170], [111.12876049979882, 140], [112.08878479602528, 54], [112.13543925441844, 58], [113.33890488363919, 191], [114.14029598704094, 155], [115.09665514807747, 75], [116.11783120672439, 214], [122.03766898746056, 115], [123.06483615963704, 9], [124.08721603091666, 163], [125.06545261583861, 210], [126.16124590568396, 220], [127.17102945674363, 59], [128.09369622022854, 97], [129.05299863684866, 119], [130.0673435683689, 233], [131.08636982787948, 219], [132.0578597131578, 182], [133.03846075030782, 23], [135.0849960919497, 112], [136.0668258651316, 249], [137.07942921381138, 247], [138.05197739580626, 28], [139.08954606592704, 7], [140.0724231843966, 158], [142.05232994359167, 57], [144.10791709907403, 142], [145.05333818446636, 245], [146.0677456147019, 50], [149.1155923204322, 197], [153.07073273189386, 101], [154.09818139294242, 244], [155.05408435540255, 143], [156.1289191215231, 146], [157.0864699968773, 187], [159.09329876286623, 34], [160.08239643795784, 156], [161.11662067470502, 72], [163.05737266783672, 228], [165.05171591278318, 78], [166.0653480334082, 134], [169.03204190808466, 14], [171.03988247376031, 196], [173.0882214457533, 117], [174.0643893148899, 208], [176.05923201759774, 162], [177.06523898493435, 1], [179.10512421668386, 83], [180.07170667138462, 71], [181.03207996031585, 68], [183.04585546418068, 217], [184.07584227894262, 96], [185.0721072864226, 235], [186.0631768963927, 186], [187.08287151601755, 114], [188.08153123820932, 73], [189.03490176978576, 243], [190.04285551377004, 25], [193.0305150567698, 173], [194.0797330894941, 166], [197.01721699012975, 84], [198.07029987801866, 180], [199.09431194156357, 188], [201.08111783614189, 93], [202.0630164837552, 40], [206.1065848263841, 116], [207.03665521326312, 125], [208.0578855433976, 13], [211.06307702625608, 20], [212.06520878648493, 147], [213.03544951687155, 216], [217.02949049895926, 179], [218.05986619653763, 85], [221.07620896414767, 159], [222.0522114483087, 19], [223.0356741914274, 3], [225.05226374546206, 218], [226.0740360379005, 66], [227.03711764932282, 128], [228.06416685595025, 165], [230.02055815711677, 201], [233.02175210878283, 26], [234.0192907822856, 229], [235.04240871702365, 36], [236.05389295120665, 55], [237.06556064315774, 41], [239.05071787967597, 149], [244.01777495751267, 167], [245.02090933521617, 121], [246.0406144781995, 225], [247.0417040252486, 107], [249.04369303536538, 62], [250.05393094492734, 241], [253.03041591534617, 8], [256.0361391878454, 98], [257.0434200072867, 240], [258.03914134949014, 81], [259.0297840429628, 172], [261.0346321688348, 151], [262.0346993389319, 224], [263.03913496590826, 236], [264.05083031314246, 94], [265.05341688866855, 141], [267.01348912799097, 61], [270.0327277317998, 44], [271.02376881439943, 74], [272.0453078990355, 135], [273.02683080698637, 31], [274.03236361793614, 33], [275.03899807597946, 131], [276.0337836565246, 21], [277.0626104267881, 10], [278.0130469921758, 126], [279.03538102387216, 234]]\n[1, 0, 0, 0, 0, 0, 1, 0, 0]\n[(0, 7), (1, 2)]\n",
     "output_type": "stream"
    },
    {
     "output_type": "execute_result",
     "execution_count": 20,
     "data": {
      "text/plain": "0"
     },
     "metadata": {}
    }
   ]
  },
  {
   "cell_type": "code",
   "metadata": {
    "id": "BguZLcRa3lVh",
    "colab_type": "code",
    "colab": {},
    "cell_id": "00019-0630ca1e-0300-4f0e-8a92-1b703be12bbe",
    "deepnote_to_be_reexecuted": false,
    "source_hash": "824091ea",
    "execution_start": 1625684315659,
    "execution_millis": 12,
    "deepnote_cell_type": "code"
   },
   "source": "def knn(x_training, y_training, x_testing, k):\n    out = []\n    for i in range(len(x_testing)):\n        out.append(predict(x_training.reset_index(), y_training.reset_index(), x_testing.reset_index().loc[i], k))\n    \n    return out\n",
   "execution_count": null,
   "outputs": []
  },
  {
   "cell_type": "markdown",
   "source": "When done, test your code by running the methods here!",
   "metadata": {
    "colab_type": "text",
    "id": "4uhQZPIpjdo9",
    "cell_id": "00020-cfffd903-553f-4ecc-8220-5636a082d81a",
    "deepnote_cell_type": "markdown"
   }
  },
  {
   "cell_type": "code",
   "metadata": {
    "colab_type": "code",
    "id": "AHRJXVr7jcao",
    "colab": {},
    "cell_id": "00021-89b4af94-0959-47b8-ac7a-1c2f48e40679",
    "deepnote_to_be_reexecuted": false,
    "source_hash": "411446fa",
    "execution_start": 1625684319621,
    "execution_millis": 5483,
    "deepnote_cell_type": "code"
   },
   "source": "from sklearn.metrics import accuracy_score\nimport time\n\nstart = time.time()\npredictions_slow = knn(X_train, y_train, X_val, k=5)\n\nprint('Took {} seconds'.format(time.time() - start))\nprint(\"Validation Accuracy is \", accuracy_score(y_val,predictions_slow)*100)",
   "execution_count": null,
   "outputs": [
    {
     "name": "stdout",
     "text": "Took 5.476712703704834 seconds\nValidation Accuracy is  65.07936507936508\n",
     "output_type": "stream"
    }
   ]
  },
  {
   "cell_type": "markdown",
   "source": "Check sklearn's predictions on validation data from the tutorial notebook and make sure they match yours. Sklearn is faster, but you should get the same answers.",
   "metadata": {
    "id": "2a51RcbJ3lVq",
    "colab_type": "text",
    "cell_id": "00022-4a85eefc-cd74-4a60-894d-aa845d36111f",
    "deepnote_cell_type": "markdown"
   }
  },
  {
   "cell_type": "markdown",
   "source": "<a style='text-decoration:none;line-height:16px;display:flex;color:#5B5B62;padding:10px;justify-content:end;' href='https://deepnote.com?utm_source=created-in-deepnote-cell&projectId=783c3aa1-1225-4605-b690-395c43d54391' target=\"_blank\">\n<img alt='Created in deepnote.com' style='display:inline;max-height:16px;margin:0px;margin-right:7.5px;' src='data:image/svg+xml;base64,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' > </img>\nCreated in <span style='font-weight:600;margin-left:4px;'>Deepnote</span></a>",
   "metadata": {
    "tags": [],
    "created_in_deepnote_cell": true,
    "deepnote_cell_type": "markdown"
   }
  }
 ],
 "nbformat": 4,
 "nbformat_minor": 0,
 "metadata": {
  "colab": {
   "name": "NearestNeighbors_Exercises",
   "provenance": [],
   "collapsed_sections": []
  },
  "kernelspec": {
   "display_name": "Python 3",
   "language": "python",
   "name": "python3"
  },
  "language_info": {
   "codemirror_mode": {
    "name": "ipython",
    "version": 3
   },
   "file_extension": ".py",
   "mimetype": "text/x-python",
   "name": "python",
   "nbconvert_exporter": "python",
   "pygments_lexer": "ipython3",
   "version": "3.7.3"
  },
  "deepnote_notebook_id": "9b6a0168-bffb-4750-b7a9-565c6addf8e5",
  "deepnote": {},
  "deepnote_execution_queue": []
 }
}