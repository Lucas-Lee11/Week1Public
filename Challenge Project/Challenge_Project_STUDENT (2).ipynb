{
 "cells": [
  {
   "cell_type": "markdown",
   "source": "# Week 1 Challenge Project\n### Lyle Lalunio\n---\nHypothyroidism, also called underactive thyroid or low thyroid, is a disorder of the endocrine system in which the thyroid gland does not produce enough thyroid hormone. It can cause a number of symptoms, such as poor ability to tolerate cold, a feeling of tiredness, constipation, depression, and weight gain. Occasionally there may be swelling of the front part of the neck due to goitre. Untreated hypothyroidism during pregnancy can lead to delays in growth and intellectual development in the baby or cretinism.\n\nWorldwide, too little iodine in the diet is the most common cause of hypothyroidism. In countries with enough iodine in the diet, the most common cause of hypothyroidism is the autoimmune condition Hashimoto's thyroiditis. Less common causes include: previous treatment with radioactive iodine, injury to the hypothalamus or the anterior pituitary gland, certain medications, a lack of a functioning thyroid at birth, or previous thyroid surgery. The diagnosis of hypothyroidism, when suspected, can be confirmed with blood tests measuring thyroid-stimulating hormone (TSH) and thyroxine levels.\n\nWorldwide about one billion people are estimated to be iodine deficient; however, it is unknown how often this results in hypothyroidism. In the United States, hypothyroidism occurs in 0.3–0.4% of people.\n\nAnd that is why we iodize salt.\n\n![alt text](https://www.mayoclinic.org/-/media/kcms/gbs/patient-consumer/images/2013/11/15/17/39/ds00181_-ds00344_-ds00353_-ds00491_-ds00492_-ds00567_-ds00660_-my00709_im01872_thyroid_gif.jpg)\n\n",
   "metadata": {
    "colab_type": "text",
    "id": "XQDE8pPCpFRb",
    "cell_id": "00000-8b5d522d-fc03-43db-aaff-a40f052bec90",
    "deepnote_cell_type": "markdown"
   }
  },
  {
   "cell_type": "markdown",
   "source": "Background: Doctors all around the world need our help to predict whether a patient has hypothyroid disease. We have already overspent our budget to collect such complete data on about 30 attributes for 2800 patients--a good starting number, but a larger sample would certainly be preferred. Moving forward, however, we simply cannot afford to spend so much money on data collection. Therefore, we also need to determine which attributes are the most meaningful to the predictive models, and cut out the rest that don't contribute much. \n\nThe boss wants to see a **balanced** model that can predict with a **high sensitivity** and **high specificity** while using a ***low amount of features***. Collecting complete data such as this is very rare, very time-consuming, and often very expensive. By minimizing the number of features, it will optimize future data collection by deciding what needs to be collected, and what doesn't.",
   "metadata": {
    "colab_type": "text",
    "id": "OFF1-BLiSLZ8",
    "cell_id": "00001-0e5a6dfa-b096-43d7-b48a-e2621857d4f4",
    "deepnote_cell_type": "markdown"
   }
  },
  {
   "cell_type": "markdown",
   "source": "## Loading the data",
   "metadata": {
    "colab_type": "text",
    "id": "HsZB_SGvp4mP",
    "cell_id": "00002-b5d69cb5-0118-40c5-b8a2-fb1f84c8a4ac",
    "deepnote_cell_type": "markdown"
   }
  },
  {
   "cell_type": "markdown",
   "source": "Let's read the data into a Pandas dataframe and look at the first 20 records.",
   "metadata": {
    "colab_type": "text",
    "id": "DWrUz9OQ0uAU",
    "cell_id": "00003-c0f7d2a4-4fa9-4018-a10d-9368c9ec1204",
    "deepnote_cell_type": "markdown"
   }
  },
  {
   "cell_type": "code",
   "metadata": {
    "colab": {
     "autoexec": {
      "startup": false,
      "wait_interval": 0
     }
    },
    "colab_type": "code",
    "id": "s9AtXQPkzC8j",
    "cell_id": "00004-4c43f37e-a713-4459-a63a-b7c11bec377c",
    "deepnote_to_be_reexecuted": false,
    "source_hash": "c3c0724a",
    "execution_start": 1625692497878,
    "execution_millis": 552,
    "deepnote_cell_type": "code"
   },
   "source": "import pandas as po\nimport numpy as np\n\n%matplotlib inline\n### Your code here\n\ntrain_url = \"https://raw.githubusercontent.com/Medlytics2021/Week1Public/master/Datasets/allhypo.train.data\"\ndataset= po.read_csv(train_url) \n\n# identify columns by what time of data they hold\nnumeric_columns=list([\"Age\",\"TSH\",\"T3\",\"TT4\",\"T4U\",\"FTI\"])\n# categorical columns are everything else (minus 'Class')\ncategorical_columns = list(set(dataset.columns)-set(numeric_columns)-set(['Class']))\n\ndataset.columns = ['Age', 'Sex', 'On Thyroxine', 'Query on Thyroxine', 'On Antithyroid Medication', 'Sick', 'Pregnant', 'Thyroid Surgery', 'I131 Treatment', 'Query Hypothyroid', 'Query Hyperthyroid', 'Lithium', 'Goiter', 'Tumor', 'Hypopituitary', 'Psych', 'TSH Measured', 'TSH', 'T3 Measured', 'T3', 'TT4 Measured', 'TT4', 'T4U Measured', 'T4U', 'FTI Measured', 'FTI', 'TBG Measured', 'TBG', 'Referral Source', 'Class']\ndataset.head()",
   "outputs": [
    {
     "output_type": "execute_result",
     "execution_count": 1,
     "data": {
      "application/vnd.deepnote.dataframe.v2+json": {
       "row_count": 5,
       "column_count": 30,
       "columns": [
        {
         "name": "Age",
         "dtype": "object",
         "stats": {
          "unique_count": 4,
          "nan_count": 0,
          "categories": [
           {
            "name": "70",
            "count": 2
           },
           {
            "name": "41",
            "count": 1
           },
           {
            "name": "2 others",
            "count": 2
           }
          ]
         }
        },
        {
         "name": "Sex",
         "dtype": "object",
         "stats": {
          "unique_count": 2,
          "nan_count": 0,
          "categories": [
           {
            "name": "F",
            "count": 4
           },
           {
            "name": "M",
            "count": 1
           }
          ]
         }
        },
        {
         "name": "On Thyroxine",
         "dtype": "object",
         "stats": {
          "unique_count": 2,
          "nan_count": 0,
          "categories": [
           {
            "name": "f",
            "count": 4
           },
           {
            "name": "t",
            "count": 1
           }
          ]
         }
        },
        {
         "name": "Query on Thyroxine",
         "dtype": "object",
         "stats": {
          "unique_count": 1,
          "nan_count": 0,
          "categories": [
           {
            "name": "f",
            "count": 5
           }
          ]
         }
        },
        {
         "name": "On Antithyroid Medication",
         "dtype": "object",
         "stats": {
          "unique_count": 1,
          "nan_count": 0,
          "categories": [
           {
            "name": "f",
            "count": 5
           }
          ]
         }
        },
        {
         "name": "Sick",
         "dtype": "object",
         "stats": {
          "unique_count": 1,
          "nan_count": 0,
          "categories": [
           {
            "name": "f",
            "count": 5
           }
          ]
         }
        },
        {
         "name": "Pregnant",
         "dtype": "object",
         "stats": {
          "unique_count": 1,
          "nan_count": 0,
          "categories": [
           {
            "name": "f",
            "count": 5
           }
          ]
         }
        },
        {
         "name": "Thyroid Surgery",
         "dtype": "object",
         "stats": {
          "unique_count": 1,
          "nan_count": 0,
          "categories": [
           {
            "name": "f",
            "count": 5
           }
          ]
         }
        },
        {
         "name": "I131 Treatment",
         "dtype": "object",
         "stats": {
          "unique_count": 1,
          "nan_count": 0,
          "categories": [
           {
            "name": "f",
            "count": 5
           }
          ]
         }
        },
        {
         "name": "Query Hypothyroid",
         "dtype": "object",
         "stats": {
          "unique_count": 1,
          "nan_count": 0,
          "categories": [
           {
            "name": "f",
            "count": 5
           }
          ]
         }
        },
        {
         "name": "Query Hyperthyroid",
         "dtype": "object",
         "stats": {
          "unique_count": 1,
          "nan_count": 0,
          "categories": [
           {
            "name": "f",
            "count": 5
           }
          ]
         }
        },
        {
         "name": "Lithium",
         "dtype": "object",
         "stats": {
          "unique_count": 1,
          "nan_count": 0,
          "categories": [
           {
            "name": "f",
            "count": 5
           }
          ]
         }
        },
        {
         "name": "Goiter",
         "dtype": "object",
         "stats": {
          "unique_count": 1,
          "nan_count": 0,
          "categories": [
           {
            "name": "f",
            "count": 5
           }
          ]
         }
        },
        {
         "name": "Tumor",
         "dtype": "object",
         "stats": {
          "unique_count": 1,
          "nan_count": 0,
          "categories": [
           {
            "name": "f",
            "count": 5
           }
          ]
         }
        },
        {
         "name": "Hypopituitary",
         "dtype": "object",
         "stats": {
          "unique_count": 1,
          "nan_count": 0,
          "categories": [
           {
            "name": "f",
            "count": 5
           }
          ]
         }
        },
        {
         "name": "Psych",
         "dtype": "object",
         "stats": {
          "unique_count": 1,
          "nan_count": 0,
          "categories": [
           {
            "name": "f",
            "count": 5
           }
          ]
         }
        },
        {
         "name": "TSH Measured",
         "dtype": "object",
         "stats": {
          "unique_count": 1,
          "nan_count": 0,
          "categories": [
           {
            "name": "t",
            "count": 5
           }
          ]
         }
        },
        {
         "name": "TSH",
         "dtype": "object",
         "stats": {
          "unique_count": 5,
          "nan_count": 0,
          "categories": [
           {
            "name": "1.3",
            "count": 1
           },
           {
            "name": "4.1",
            "count": 1
           },
           {
            "name": "3 others",
            "count": 3
           }
          ]
         }
        },
        {
         "name": "T3 Measured",
         "dtype": "object",
         "stats": {
          "unique_count": 2,
          "nan_count": 0,
          "categories": [
           {
            "name": "t",
            "count": 4
           },
           {
            "name": "f",
            "count": 1
           }
          ]
         }
        },
        {
         "name": "T3",
         "dtype": "object",
         "stats": {
          "unique_count": 5,
          "nan_count": 0,
          "categories": [
           {
            "name": "2.5",
            "count": 1
           },
           {
            "name": "2",
            "count": 1
           },
           {
            "name": "3 others",
            "count": 3
           }
          ]
         }
        },
        {
         "name": "TT4 Measured",
         "dtype": "object",
         "stats": {
          "unique_count": 1,
          "nan_count": 0,
          "categories": [
           {
            "name": "t",
            "count": 5
           }
          ]
         }
        },
        {
         "name": "TT4",
         "dtype": "object",
         "stats": {
          "unique_count": 5,
          "nan_count": 0,
          "categories": [
           {
            "name": "125",
            "count": 1
           },
           {
            "name": "102",
            "count": 1
           },
           {
            "name": "3 others",
            "count": 3
           }
          ]
         }
        },
        {
         "name": "T4U Measured",
         "dtype": "object",
         "stats": {
          "unique_count": 2,
          "nan_count": 0,
          "categories": [
           {
            "name": "t",
            "count": 3
           },
           {
            "name": "f",
            "count": 2
           }
          ]
         }
        },
        {
         "name": "T4U",
         "dtype": "object",
         "stats": {
          "unique_count": 4,
          "nan_count": 0,
          "categories": [
           {
            "name": "?",
            "count": 2
           },
           {
            "name": "1.14",
            "count": 1
           },
           {
            "name": "2 others",
            "count": 2
           }
          ]
         }
        },
        {
         "name": "FTI Measured",
         "dtype": "object",
         "stats": {
          "unique_count": 2,
          "nan_count": 0,
          "categories": [
           {
            "name": "t",
            "count": 3
           },
           {
            "name": "f",
            "count": 2
           }
          ]
         }
        },
        {
         "name": "FTI",
         "dtype": "object",
         "stats": {
          "unique_count": 4,
          "nan_count": 0,
          "categories": [
           {
            "name": "?",
            "count": 2
           },
           {
            "name": "109",
            "count": 1
           },
           {
            "name": "2 others",
            "count": 2
           }
          ]
         }
        },
        {
         "name": "TBG Measured",
         "dtype": "object",
         "stats": {
          "unique_count": 1,
          "nan_count": 0,
          "categories": [
           {
            "name": "f",
            "count": 5
           }
          ]
         }
        },
        {
         "name": "TBG",
         "dtype": "object",
         "stats": {
          "unique_count": 1,
          "nan_count": 0,
          "categories": [
           {
            "name": "?",
            "count": 5
           }
          ]
         }
        },
        {
         "name": "Referral Source",
         "dtype": "object",
         "stats": {
          "unique_count": 3,
          "nan_count": 0,
          "categories": [
           {
            "name": "other",
            "count": 3
           },
           {
            "name": "SVHC",
            "count": 1
           },
           {
            "name": "SVI",
            "count": 1
           }
          ]
         }
        },
        {
         "name": "Class",
         "dtype": "object",
         "stats": {
          "unique_count": 5,
          "nan_count": 0,
          "categories": [
           {
            "name": "negative.|3733",
            "count": 1
           },
           {
            "name": "negative.|1442",
            "count": 1
           },
           {
            "name": "3 others",
            "count": 3
           }
          ]
         }
        },
        {
         "name": "_deepnote_index_column",
         "dtype": "int64"
        }
       ],
       "rows_top": [
        {
         "Age": "41",
         "Sex": "F",
         "On Thyroxine": "f",
         "Query on Thyroxine": "f",
         "On Antithyroid Medication": "f",
         "Sick": "f",
         "Pregnant": "f",
         "Thyroid Surgery": "f",
         "I131 Treatment": "f",
         "Query Hypothyroid": "f",
         "Query Hyperthyroid": "f",
         "Lithium": "f",
         "Goiter": "f",
         "Tumor": "f",
         "Hypopituitary": "f",
         "Psych": "f",
         "TSH Measured": "t",
         "TSH": "1.3",
         "T3 Measured": "t",
         "T3": "2.5",
         "TT4 Measured": "t",
         "TT4": "125",
         "T4U Measured": "t",
         "T4U": "1.14",
         "FTI Measured": "t",
         "FTI": "109",
         "TBG Measured": "f",
         "TBG": "?",
         "Referral Source": "SVHC",
         "Class": "negative.|3733",
         "_deepnote_index_column": 0
        },
        {
         "Age": "23",
         "Sex": "F",
         "On Thyroxine": "f",
         "Query on Thyroxine": "f",
         "On Antithyroid Medication": "f",
         "Sick": "f",
         "Pregnant": "f",
         "Thyroid Surgery": "f",
         "I131 Treatment": "f",
         "Query Hypothyroid": "f",
         "Query Hyperthyroid": "f",
         "Lithium": "f",
         "Goiter": "f",
         "Tumor": "f",
         "Hypopituitary": "f",
         "Psych": "f",
         "TSH Measured": "t",
         "TSH": "4.1",
         "T3 Measured": "t",
         "T3": "2",
         "TT4 Measured": "t",
         "TT4": "102",
         "T4U Measured": "f",
         "T4U": "?",
         "FTI Measured": "f",
         "FTI": "?",
         "TBG Measured": "f",
         "TBG": "?",
         "Referral Source": "other",
         "Class": "negative.|1442",
         "_deepnote_index_column": 1
        },
        {
         "Age": "46",
         "Sex": "M",
         "On Thyroxine": "f",
         "Query on Thyroxine": "f",
         "On Antithyroid Medication": "f",
         "Sick": "f",
         "Pregnant": "f",
         "Thyroid Surgery": "f",
         "I131 Treatment": "f",
         "Query Hypothyroid": "f",
         "Query Hyperthyroid": "f",
         "Lithium": "f",
         "Goiter": "f",
         "Tumor": "f",
         "Hypopituitary": "f",
         "Psych": "f",
         "TSH Measured": "t",
         "TSH": "0.98",
         "T3 Measured": "f",
         "T3": "?",
         "TT4 Measured": "t",
         "TT4": "109",
         "T4U Measured": "t",
         "T4U": "0.91",
         "FTI Measured": "t",
         "FTI": "120",
         "TBG Measured": "f",
         "TBG": "?",
         "Referral Source": "other",
         "Class": "negative.|2965",
         "_deepnote_index_column": 2
        },
        {
         "Age": "70",
         "Sex": "F",
         "On Thyroxine": "t",
         "Query on Thyroxine": "f",
         "On Antithyroid Medication": "f",
         "Sick": "f",
         "Pregnant": "f",
         "Thyroid Surgery": "f",
         "I131 Treatment": "f",
         "Query Hypothyroid": "f",
         "Query Hyperthyroid": "f",
         "Lithium": "f",
         "Goiter": "f",
         "Tumor": "f",
         "Hypopituitary": "f",
         "Psych": "f",
         "TSH Measured": "t",
         "TSH": "0.16",
         "T3 Measured": "t",
         "T3": "1.9",
         "TT4 Measured": "t",
         "TT4": "175",
         "T4U Measured": "f",
         "T4U": "?",
         "FTI Measured": "f",
         "FTI": "?",
         "TBG Measured": "f",
         "TBG": "?",
         "Referral Source": "other",
         "Class": "negative.|806",
         "_deepnote_index_column": 3
        },
        {
         "Age": "70",
         "Sex": "F",
         "On Thyroxine": "f",
         "Query on Thyroxine": "f",
         "On Antithyroid Medication": "f",
         "Sick": "f",
         "Pregnant": "f",
         "Thyroid Surgery": "f",
         "I131 Treatment": "f",
         "Query Hypothyroid": "f",
         "Query Hyperthyroid": "f",
         "Lithium": "f",
         "Goiter": "f",
         "Tumor": "f",
         "Hypopituitary": "f",
         "Psych": "f",
         "TSH Measured": "t",
         "TSH": "0.72",
         "T3 Measured": "t",
         "T3": "1.2",
         "TT4 Measured": "t",
         "TT4": "61",
         "T4U Measured": "t",
         "T4U": "0.87",
         "FTI Measured": "t",
         "FTI": "70",
         "TBG Measured": "f",
         "TBG": "?",
         "Referral Source": "SVI",
         "Class": "negative.|2807",
         "_deepnote_index_column": 4
        }
       ],
       "rows_bottom": null
      },
      "text/plain": "  Age Sex On Thyroxine Query on Thyroxine On Antithyroid Medication Sick  \\\n0  41   F            f                  f                         f    f   \n1  23   F            f                  f                         f    f   \n2  46   M            f                  f                         f    f   \n3  70   F            t                  f                         f    f   \n4  70   F            f                  f                         f    f   \n\n  Pregnant Thyroid Surgery I131 Treatment Query Hypothyroid  ... TT4 Measured  \\\n0        f               f              f                 f  ...            t   \n1        f               f              f                 f  ...            t   \n2        f               f              f                 f  ...            t   \n3        f               f              f                 f  ...            t   \n4        f               f              f                 f  ...            t   \n\n   TT4 T4U Measured   T4U FTI Measured  FTI TBG Measured TBG Referral Source  \\\n0  125            t  1.14            t  109            f   ?            SVHC   \n1  102            f     ?            f    ?            f   ?           other   \n2  109            t  0.91            t  120            f   ?           other   \n3  175            f     ?            f    ?            f   ?           other   \n4   61            t  0.87            t   70            f   ?             SVI   \n\n            Class  \n0  negative.|3733  \n1  negative.|1442  \n2  negative.|2965  \n3   negative.|806  \n4  negative.|2807  \n\n[5 rows x 30 columns]",
      "text/html": "<div>\n<style scoped>\n    .dataframe tbody tr th:only-of-type {\n        vertical-align: middle;\n    }\n\n    .dataframe tbody tr th {\n        vertical-align: top;\n    }\n\n    .dataframe thead th {\n        text-align: right;\n    }\n</style>\n<table border=\"1\" class=\"dataframe\">\n  <thead>\n    <tr style=\"text-align: right;\">\n      <th></th>\n      <th>Age</th>\n      <th>Sex</th>\n      <th>On Thyroxine</th>\n      <th>Query on Thyroxine</th>\n      <th>On Antithyroid Medication</th>\n      <th>Sick</th>\n      <th>Pregnant</th>\n      <th>Thyroid Surgery</th>\n      <th>I131 Treatment</th>\n      <th>Query Hypothyroid</th>\n      <th>...</th>\n      <th>TT4 Measured</th>\n      <th>TT4</th>\n      <th>T4U Measured</th>\n      <th>T4U</th>\n      <th>FTI Measured</th>\n      <th>FTI</th>\n      <th>TBG Measured</th>\n      <th>TBG</th>\n      <th>Referral Source</th>\n      <th>Class</th>\n    </tr>\n  </thead>\n  <tbody>\n    <tr>\n      <th>0</th>\n      <td>41</td>\n      <td>F</td>\n      <td>f</td>\n      <td>f</td>\n      <td>f</td>\n      <td>f</td>\n      <td>f</td>\n      <td>f</td>\n      <td>f</td>\n      <td>f</td>\n      <td>...</td>\n      <td>t</td>\n      <td>125</td>\n      <td>t</td>\n      <td>1.14</td>\n      <td>t</td>\n      <td>109</td>\n      <td>f</td>\n      <td>?</td>\n      <td>SVHC</td>\n      <td>negative.|3733</td>\n    </tr>\n    <tr>\n      <th>1</th>\n      <td>23</td>\n      <td>F</td>\n      <td>f</td>\n      <td>f</td>\n      <td>f</td>\n      <td>f</td>\n      <td>f</td>\n      <td>f</td>\n      <td>f</td>\n      <td>f</td>\n      <td>...</td>\n      <td>t</td>\n      <td>102</td>\n      <td>f</td>\n      <td>?</td>\n      <td>f</td>\n      <td>?</td>\n      <td>f</td>\n      <td>?</td>\n      <td>other</td>\n      <td>negative.|1442</td>\n    </tr>\n    <tr>\n      <th>2</th>\n      <td>46</td>\n      <td>M</td>\n      <td>f</td>\n      <td>f</td>\n      <td>f</td>\n      <td>f</td>\n      <td>f</td>\n      <td>f</td>\n      <td>f</td>\n      <td>f</td>\n      <td>...</td>\n      <td>t</td>\n      <td>109</td>\n      <td>t</td>\n      <td>0.91</td>\n      <td>t</td>\n      <td>120</td>\n      <td>f</td>\n      <td>?</td>\n      <td>other</td>\n      <td>negative.|2965</td>\n    </tr>\n    <tr>\n      <th>3</th>\n      <td>70</td>\n      <td>F</td>\n      <td>t</td>\n      <td>f</td>\n      <td>f</td>\n      <td>f</td>\n      <td>f</td>\n      <td>f</td>\n      <td>f</td>\n      <td>f</td>\n      <td>...</td>\n      <td>t</td>\n      <td>175</td>\n      <td>f</td>\n      <td>?</td>\n      <td>f</td>\n      <td>?</td>\n      <td>f</td>\n      <td>?</td>\n      <td>other</td>\n      <td>negative.|806</td>\n    </tr>\n    <tr>\n      <th>4</th>\n      <td>70</td>\n      <td>F</td>\n      <td>f</td>\n      <td>f</td>\n      <td>f</td>\n      <td>f</td>\n      <td>f</td>\n      <td>f</td>\n      <td>f</td>\n      <td>f</td>\n      <td>...</td>\n      <td>t</td>\n      <td>61</td>\n      <td>t</td>\n      <td>0.87</td>\n      <td>t</td>\n      <td>70</td>\n      <td>f</td>\n      <td>?</td>\n      <td>SVI</td>\n      <td>negative.|2807</td>\n    </tr>\n  </tbody>\n</table>\n<p>5 rows × 30 columns</p>\n</div>"
     },
     "metadata": {}
    }
   ],
   "execution_count": null
  },
  {
   "cell_type": "markdown",
   "source": "Great, looks like the data loaded in properly. Let's continue looking at some summary statistics on our data.",
   "metadata": {
    "colab_type": "text",
    "id": "tYhtoqdR6Y3J",
    "cell_id": "00005-f0353135-7fee-4c88-96f3-1874b7fd9b18",
    "deepnote_cell_type": "markdown"
   }
  },
  {
   "cell_type": "markdown",
   "source": "## Viewing summary statistics\nThe functions describe() and info() are your friends",
   "metadata": {
    "colab_type": "text",
    "id": "sGKbG-eBqBjF",
    "cell_id": "00006-86706ee1-5d51-44f9-847b-471d75f7193c",
    "deepnote_cell_type": "markdown"
   }
  },
  {
   "cell_type": "code",
   "metadata": {
    "colab": {
     "autoexec": {
      "startup": false,
      "wait_interval": 0
     }
    },
    "colab_type": "code",
    "id": "rnp3nN9b6ZNw",
    "cell_id": "00007-6c5d1792-60ac-4055-a37e-481025d882bf",
    "deepnote_to_be_reexecuted": false,
    "source_hash": "674a2a6",
    "execution_start": 1625692498474,
    "execution_millis": 146,
    "deepnote_cell_type": "code"
   },
   "source": "dataset.describe()",
   "outputs": [
    {
     "output_type": "execute_result",
     "execution_count": 2,
     "data": {
      "application/vnd.deepnote.dataframe.v2+json": {
       "row_count": 4,
       "column_count": 30,
       "columns": [
        {
         "name": "Age",
         "dtype": "object",
         "stats": {
          "unique_count": 4,
          "nan_count": 0,
          "categories": [
           {
            "name": "2800",
            "count": 1
           },
           {
            "name": "94",
            "count": 1
           },
           {
            "name": "2 others",
            "count": 2
           }
          ]
         }
        },
        {
         "name": "Sex",
         "dtype": "object",
         "stats": {
          "unique_count": 4,
          "nan_count": 0,
          "categories": [
           {
            "name": "2800",
            "count": 1
           },
           {
            "name": "3",
            "count": 1
           },
           {
            "name": "2 others",
            "count": 2
           }
          ]
         }
        },
        {
         "name": "On Thyroxine",
         "dtype": "object",
         "stats": {
          "unique_count": 4,
          "nan_count": 0,
          "categories": [
           {
            "name": "2800",
            "count": 1
           },
           {
            "name": "2",
            "count": 1
           },
           {
            "name": "2 others",
            "count": 2
           }
          ]
         }
        },
        {
         "name": "Query on Thyroxine",
         "dtype": "object",
         "stats": {
          "unique_count": 4,
          "nan_count": 0,
          "categories": [
           {
            "name": "2800",
            "count": 1
           },
           {
            "name": "2",
            "count": 1
           },
           {
            "name": "2 others",
            "count": 2
           }
          ]
         }
        },
        {
         "name": "On Antithyroid Medication",
         "dtype": "object",
         "stats": {
          "unique_count": 4,
          "nan_count": 0,
          "categories": [
           {
            "name": "2800",
            "count": 1
           },
           {
            "name": "2",
            "count": 1
           },
           {
            "name": "2 others",
            "count": 2
           }
          ]
         }
        },
        {
         "name": "Sick",
         "dtype": "object",
         "stats": {
          "unique_count": 4,
          "nan_count": 0,
          "categories": [
           {
            "name": "2800",
            "count": 1
           },
           {
            "name": "2",
            "count": 1
           },
           {
            "name": "2 others",
            "count": 2
           }
          ]
         }
        },
        {
         "name": "Pregnant",
         "dtype": "object",
         "stats": {
          "unique_count": 4,
          "nan_count": 0,
          "categories": [
           {
            "name": "2800",
            "count": 1
           },
           {
            "name": "2",
            "count": 1
           },
           {
            "name": "2 others",
            "count": 2
           }
          ]
         }
        },
        {
         "name": "Thyroid Surgery",
         "dtype": "object",
         "stats": {
          "unique_count": 4,
          "nan_count": 0,
          "categories": [
           {
            "name": "2800",
            "count": 1
           },
           {
            "name": "2",
            "count": 1
           },
           {
            "name": "2 others",
            "count": 2
           }
          ]
         }
        },
        {
         "name": "I131 Treatment",
         "dtype": "object",
         "stats": {
          "unique_count": 4,
          "nan_count": 0,
          "categories": [
           {
            "name": "2800",
            "count": 1
           },
           {
            "name": "2",
            "count": 1
           },
           {
            "name": "2 others",
            "count": 2
           }
          ]
         }
        },
        {
         "name": "Query Hypothyroid",
         "dtype": "object",
         "stats": {
          "unique_count": 4,
          "nan_count": 0,
          "categories": [
           {
            "name": "2800",
            "count": 1
           },
           {
            "name": "2",
            "count": 1
           },
           {
            "name": "2 others",
            "count": 2
           }
          ]
         }
        },
        {
         "name": "Query Hyperthyroid",
         "dtype": "object",
         "stats": {
          "unique_count": 4,
          "nan_count": 0,
          "categories": [
           {
            "name": "2800",
            "count": 1
           },
           {
            "name": "2",
            "count": 1
           },
           {
            "name": "2 others",
            "count": 2
           }
          ]
         }
        },
        {
         "name": "Lithium",
         "dtype": "object",
         "stats": {
          "unique_count": 4,
          "nan_count": 0,
          "categories": [
           {
            "name": "2800",
            "count": 1
           },
           {
            "name": "2",
            "count": 1
           },
           {
            "name": "2 others",
            "count": 2
           }
          ]
         }
        },
        {
         "name": "Goiter",
         "dtype": "object",
         "stats": {
          "unique_count": 4,
          "nan_count": 0,
          "categories": [
           {
            "name": "2800",
            "count": 1
           },
           {
            "name": "2",
            "count": 1
           },
           {
            "name": "2 others",
            "count": 2
           }
          ]
         }
        },
        {
         "name": "Tumor",
         "dtype": "object",
         "stats": {
          "unique_count": 4,
          "nan_count": 0,
          "categories": [
           {
            "name": "2800",
            "count": 1
           },
           {
            "name": "2",
            "count": 1
           },
           {
            "name": "2 others",
            "count": 2
           }
          ]
         }
        },
        {
         "name": "Hypopituitary",
         "dtype": "object",
         "stats": {
          "unique_count": 4,
          "nan_count": 0,
          "categories": [
           {
            "name": "2800",
            "count": 1
           },
           {
            "name": "2",
            "count": 1
           },
           {
            "name": "2 others",
            "count": 2
           }
          ]
         }
        },
        {
         "name": "Psych",
         "dtype": "object",
         "stats": {
          "unique_count": 4,
          "nan_count": 0,
          "categories": [
           {
            "name": "2800",
            "count": 1
           },
           {
            "name": "2",
            "count": 1
           },
           {
            "name": "2 others",
            "count": 2
           }
          ]
         }
        },
        {
         "name": "TSH Measured",
         "dtype": "object",
         "stats": {
          "unique_count": 4,
          "nan_count": 0,
          "categories": [
           {
            "name": "2800",
            "count": 1
           },
           {
            "name": "2",
            "count": 1
           },
           {
            "name": "2 others",
            "count": 2
           }
          ]
         }
        },
        {
         "name": "TSH",
         "dtype": "object",
         "stats": {
          "unique_count": 4,
          "nan_count": 0,
          "categories": [
           {
            "name": "2800",
            "count": 1
           },
           {
            "name": "264",
            "count": 1
           },
           {
            "name": "2 others",
            "count": 2
           }
          ]
         }
        },
        {
         "name": "T3 Measured",
         "dtype": "object",
         "stats": {
          "unique_count": 4,
          "nan_count": 0,
          "categories": [
           {
            "name": "2800",
            "count": 1
           },
           {
            "name": "2",
            "count": 1
           },
           {
            "name": "2 others",
            "count": 2
           }
          ]
         }
        },
        {
         "name": "T3",
         "dtype": "object",
         "stats": {
          "unique_count": 4,
          "nan_count": 0,
          "categories": [
           {
            "name": "2800",
            "count": 1
           },
           {
            "name": "65",
            "count": 1
           },
           {
            "name": "2 others",
            "count": 2
           }
          ]
         }
        },
        {
         "name": "TT4 Measured",
         "dtype": "object",
         "stats": {
          "unique_count": 4,
          "nan_count": 0,
          "categories": [
           {
            "name": "2800",
            "count": 1
           },
           {
            "name": "2",
            "count": 1
           },
           {
            "name": "2 others",
            "count": 2
           }
          ]
         }
        },
        {
         "name": "TT4",
         "dtype": "object",
         "stats": {
          "unique_count": 4,
          "nan_count": 0,
          "categories": [
           {
            "name": "2800",
            "count": 1
           },
           {
            "name": "218",
            "count": 1
           },
           {
            "name": "2 others",
            "count": 2
           }
          ]
         }
        },
        {
         "name": "T4U Measured",
         "dtype": "object",
         "stats": {
          "unique_count": 4,
          "nan_count": 0,
          "categories": [
           {
            "name": "2800",
            "count": 1
           },
           {
            "name": "2",
            "count": 1
           },
           {
            "name": "2 others",
            "count": 2
           }
          ]
         }
        },
        {
         "name": "T4U",
         "dtype": "object",
         "stats": {
          "unique_count": 4,
          "nan_count": 0,
          "categories": [
           {
            "name": "2800",
            "count": 1
           },
           {
            "name": "139",
            "count": 1
           },
           {
            "name": "2 others",
            "count": 2
           }
          ]
         }
        },
        {
         "name": "FTI Measured",
         "dtype": "object",
         "stats": {
          "unique_count": 4,
          "nan_count": 0,
          "categories": [
           {
            "name": "2800",
            "count": 1
           },
           {
            "name": "2",
            "count": 1
           },
           {
            "name": "2 others",
            "count": 2
           }
          ]
         }
        },
        {
         "name": "FTI",
         "dtype": "object",
         "stats": {
          "unique_count": 4,
          "nan_count": 0,
          "categories": [
           {
            "name": "2800",
            "count": 1
           },
           {
            "name": "210",
            "count": 1
           },
           {
            "name": "2 others",
            "count": 2
           }
          ]
         }
        },
        {
         "name": "TBG Measured",
         "dtype": "object",
         "stats": {
          "unique_count": 3,
          "nan_count": 0,
          "categories": [
           {
            "name": "2800",
            "count": 2
           },
           {
            "name": "1",
            "count": 1
           },
           {
            "name": "f",
            "count": 1
           }
          ]
         }
        },
        {
         "name": "TBG",
         "dtype": "object",
         "stats": {
          "unique_count": 3,
          "nan_count": 0,
          "categories": [
           {
            "name": "2800",
            "count": 2
           },
           {
            "name": "1",
            "count": 1
           },
           {
            "name": "?",
            "count": 1
           }
          ]
         }
        },
        {
         "name": "Referral Source",
         "dtype": "object",
         "stats": {
          "unique_count": 4,
          "nan_count": 0,
          "categories": [
           {
            "name": "2800",
            "count": 1
           },
           {
            "name": "5",
            "count": 1
           },
           {
            "name": "2 others",
            "count": 2
           }
          ]
         }
        },
        {
         "name": "Class",
         "dtype": "object",
         "stats": {
          "unique_count": 3,
          "nan_count": 0,
          "categories": [
           {
            "name": "2800",
            "count": 2
           },
           {
            "name": "negative.|269",
            "count": 1
           },
           {
            "name": "1",
            "count": 1
           }
          ]
         }
        },
        {
         "name": "_deepnote_index_column",
         "dtype": "object"
        }
       ],
       "rows_top": [
        {
         "Age": "2800",
         "Sex": "2800",
         "On Thyroxine": "2800",
         "Query on Thyroxine": "2800",
         "On Antithyroid Medication": "2800",
         "Sick": "2800",
         "Pregnant": "2800",
         "Thyroid Surgery": "2800",
         "I131 Treatment": "2800",
         "Query Hypothyroid": "2800",
         "Query Hyperthyroid": "2800",
         "Lithium": "2800",
         "Goiter": "2800",
         "Tumor": "2800",
         "Hypopituitary": "2800",
         "Psych": "2800",
         "TSH Measured": "2800",
         "TSH": "2800",
         "T3 Measured": "2800",
         "T3": "2800",
         "TT4 Measured": "2800",
         "TT4": "2800",
         "T4U Measured": "2800",
         "T4U": "2800",
         "FTI Measured": "2800",
         "FTI": "2800",
         "TBG Measured": "2800",
         "TBG": "2800",
         "Referral Source": "2800",
         "Class": "2800",
         "_deepnote_index_column": "count"
        },
        {
         "Age": "94",
         "Sex": "3",
         "On Thyroxine": "2",
         "Query on Thyroxine": "2",
         "On Antithyroid Medication": "2",
         "Sick": "2",
         "Pregnant": "2",
         "Thyroid Surgery": "2",
         "I131 Treatment": "2",
         "Query Hypothyroid": "2",
         "Query Hyperthyroid": "2",
         "Lithium": "2",
         "Goiter": "2",
         "Tumor": "2",
         "Hypopituitary": "2",
         "Psych": "2",
         "TSH Measured": "2",
         "TSH": "264",
         "T3 Measured": "2",
         "T3": "65",
         "TT4 Measured": "2",
         "TT4": "218",
         "T4U Measured": "2",
         "T4U": "139",
         "FTI Measured": "2",
         "FTI": "210",
         "TBG Measured": "1",
         "TBG": "1",
         "Referral Source": "5",
         "Class": "2800",
         "_deepnote_index_column": "unique"
        },
        {
         "Age": "59",
         "Sex": "F",
         "On Thyroxine": "f",
         "Query on Thyroxine": "f",
         "On Antithyroid Medication": "f",
         "Sick": "f",
         "Pregnant": "f",
         "Thyroid Surgery": "f",
         "I131 Treatment": "f",
         "Query Hypothyroid": "f",
         "Query Hyperthyroid": "f",
         "Lithium": "f",
         "Goiter": "f",
         "Tumor": "f",
         "Hypopituitary": "f",
         "Psych": "f",
         "TSH Measured": "t",
         "TSH": "?",
         "T3 Measured": "t",
         "T3": "?",
         "TT4 Measured": "t",
         "TT4": "?",
         "T4U Measured": "t",
         "T4U": "?",
         "FTI Measured": "t",
         "FTI": "?",
         "TBG Measured": "f",
         "TBG": "?",
         "Referral Source": "other",
         "Class": "negative.|269",
         "_deepnote_index_column": "top"
        },
        {
         "Age": "75",
         "Sex": "1830",
         "On Thyroxine": "2470",
         "Query on Thyroxine": "2760",
         "On Antithyroid Medication": "2766",
         "Sick": "2690",
         "Pregnant": "2759",
         "Thyroid Surgery": "2761",
         "I131 Treatment": "2752",
         "Query Hypothyroid": "2637",
         "Query Hyperthyroid": "2627",
         "Lithium": "2786",
         "Goiter": "2775",
         "Tumor": "2729",
         "Hypopituitary": "2799",
         "Psych": "2665",
         "TSH Measured": "2516",
         "TSH": "284",
         "T3 Measured": "2215",
         "T3": "585",
         "TT4 Measured": "2616",
         "TT4": "184",
         "T4U Measured": "2503",
         "T4U": "297",
         "FTI Measured": "2505",
         "FTI": "295",
         "TBG Measured": "2800",
         "TBG": "2800",
         "Referral Source": "1632",
         "Class": "1",
         "_deepnote_index_column": "freq"
        }
       ],
       "rows_bottom": null
      },
      "text/plain": "         Age   Sex On Thyroxine Query on Thyroxine On Antithyroid Medication  \\\ncount   2800  2800         2800               2800                      2800   \nunique    94     3            2                  2                         2   \ntop       59     F            f                  f                         f   \nfreq      75  1830         2470               2760                      2766   \n\n        Sick Pregnant Thyroid Surgery I131 Treatment Query Hypothyroid  ...  \\\ncount   2800     2800            2800           2800              2800  ...   \nunique     2        2               2              2                 2  ...   \ntop        f        f               f              f                 f  ...   \nfreq    2690     2759            2761           2752              2637  ...   \n\n       TT4 Measured   TT4 T4U Measured   T4U FTI Measured   FTI TBG Measured  \\\ncount          2800  2800         2800  2800         2800  2800         2800   \nunique            2   218            2   139            2   210            1   \ntop               t     ?            t     ?            t     ?            f   \nfreq           2616   184         2503   297         2505   295         2800   \n\n         TBG Referral Source          Class  \ncount   2800            2800           2800  \nunique     1               5           2800  \ntop        ?           other  negative.|269  \nfreq    2800            1632              1  \n\n[4 rows x 30 columns]",
      "text/html": "<div>\n<style scoped>\n    .dataframe tbody tr th:only-of-type {\n        vertical-align: middle;\n    }\n\n    .dataframe tbody tr th {\n        vertical-align: top;\n    }\n\n    .dataframe thead th {\n        text-align: right;\n    }\n</style>\n<table border=\"1\" class=\"dataframe\">\n  <thead>\n    <tr style=\"text-align: right;\">\n      <th></th>\n      <th>Age</th>\n      <th>Sex</th>\n      <th>On Thyroxine</th>\n      <th>Query on Thyroxine</th>\n      <th>On Antithyroid Medication</th>\n      <th>Sick</th>\n      <th>Pregnant</th>\n      <th>Thyroid Surgery</th>\n      <th>I131 Treatment</th>\n      <th>Query Hypothyroid</th>\n      <th>...</th>\n      <th>TT4 Measured</th>\n      <th>TT4</th>\n      <th>T4U Measured</th>\n      <th>T4U</th>\n      <th>FTI Measured</th>\n      <th>FTI</th>\n      <th>TBG Measured</th>\n      <th>TBG</th>\n      <th>Referral Source</th>\n      <th>Class</th>\n    </tr>\n  </thead>\n  <tbody>\n    <tr>\n      <th>count</th>\n      <td>2800</td>\n      <td>2800</td>\n      <td>2800</td>\n      <td>2800</td>\n      <td>2800</td>\n      <td>2800</td>\n      <td>2800</td>\n      <td>2800</td>\n      <td>2800</td>\n      <td>2800</td>\n      <td>...</td>\n      <td>2800</td>\n      <td>2800</td>\n      <td>2800</td>\n      <td>2800</td>\n      <td>2800</td>\n      <td>2800</td>\n      <td>2800</td>\n      <td>2800</td>\n      <td>2800</td>\n      <td>2800</td>\n    </tr>\n    <tr>\n      <th>unique</th>\n      <td>94</td>\n      <td>3</td>\n      <td>2</td>\n      <td>2</td>\n      <td>2</td>\n      <td>2</td>\n      <td>2</td>\n      <td>2</td>\n      <td>2</td>\n      <td>2</td>\n      <td>...</td>\n      <td>2</td>\n      <td>218</td>\n      <td>2</td>\n      <td>139</td>\n      <td>2</td>\n      <td>210</td>\n      <td>1</td>\n      <td>1</td>\n      <td>5</td>\n      <td>2800</td>\n    </tr>\n    <tr>\n      <th>top</th>\n      <td>59</td>\n      <td>F</td>\n      <td>f</td>\n      <td>f</td>\n      <td>f</td>\n      <td>f</td>\n      <td>f</td>\n      <td>f</td>\n      <td>f</td>\n      <td>f</td>\n      <td>...</td>\n      <td>t</td>\n      <td>?</td>\n      <td>t</td>\n      <td>?</td>\n      <td>t</td>\n      <td>?</td>\n      <td>f</td>\n      <td>?</td>\n      <td>other</td>\n      <td>negative.|269</td>\n    </tr>\n    <tr>\n      <th>freq</th>\n      <td>75</td>\n      <td>1830</td>\n      <td>2470</td>\n      <td>2760</td>\n      <td>2766</td>\n      <td>2690</td>\n      <td>2759</td>\n      <td>2761</td>\n      <td>2752</td>\n      <td>2637</td>\n      <td>...</td>\n      <td>2616</td>\n      <td>184</td>\n      <td>2503</td>\n      <td>297</td>\n      <td>2505</td>\n      <td>295</td>\n      <td>2800</td>\n      <td>2800</td>\n      <td>1632</td>\n      <td>1</td>\n    </tr>\n  </tbody>\n</table>\n<p>4 rows × 30 columns</p>\n</div>"
     },
     "metadata": {}
    }
   ],
   "execution_count": null
  },
  {
   "cell_type": "code",
   "metadata": {
    "colab": {
     "autoexec": {
      "startup": false,
      "wait_interval": 0
     }
    },
    "colab_type": "code",
    "id": "9QndSspU7lW4",
    "cell_id": "00008-a391e6da-8ee5-454d-a730-ae11b3937f1a",
    "deepnote_to_be_reexecuted": false,
    "source_hash": "90f3a161",
    "execution_start": 1625692498615,
    "execution_millis": 25,
    "deepnote_cell_type": "code"
   },
   "source": "dataset.info()",
   "outputs": [
    {
     "name": "stdout",
     "text": "<class 'pandas.core.frame.DataFrame'>\nRangeIndex: 2800 entries, 0 to 2799\nData columns (total 30 columns):\n #   Column                     Non-Null Count  Dtype \n---  ------                     --------------  ----- \n 0   Age                        2800 non-null   object\n 1   Sex                        2800 non-null   object\n 2   On Thyroxine               2800 non-null   object\n 3   Query on Thyroxine         2800 non-null   object\n 4   On Antithyroid Medication  2800 non-null   object\n 5   Sick                       2800 non-null   object\n 6   Pregnant                   2800 non-null   object\n 7   Thyroid Surgery            2800 non-null   object\n 8   I131 Treatment             2800 non-null   object\n 9   Query Hypothyroid          2800 non-null   object\n 10  Query Hyperthyroid         2800 non-null   object\n 11  Lithium                    2800 non-null   object\n 12  Goiter                     2800 non-null   object\n 13  Tumor                      2800 non-null   object\n 14  Hypopituitary              2800 non-null   object\n 15  Psych                      2800 non-null   object\n 16  TSH Measured               2800 non-null   object\n 17  TSH                        2800 non-null   object\n 18  T3 Measured                2800 non-null   object\n 19  T3                         2800 non-null   object\n 20  TT4 Measured               2800 non-null   object\n 21  TT4                        2800 non-null   object\n 22  T4U Measured               2800 non-null   object\n 23  T4U                        2800 non-null   object\n 24  FTI Measured               2800 non-null   object\n 25  FTI                        2800 non-null   object\n 26  TBG Measured               2800 non-null   object\n 27  TBG                        2800 non-null   object\n 28  Referral Source            2800 non-null   object\n 29  Class                      2800 non-null   object\ndtypes: object(30)\nmemory usage: 656.4+ KB\n",
     "output_type": "stream"
    }
   ],
   "execution_count": null
  },
  {
   "cell_type": "markdown",
   "source": "Note the data types are all objects--even columns that are obviously numeric like Age.\n",
   "metadata": {
    "colab_type": "text",
    "id": "olpFokrp8AIH",
    "cell_id": "00009-78093fca-671c-43cb-93cf-b2669de1b5e2",
    "deepnote_cell_type": "markdown"
   }
  },
  {
   "cell_type": "markdown",
   "source": "## Data cleaning",
   "metadata": {
    "colab_type": "text",
    "id": "0emOppVyqQS9",
    "cell_id": "00010-dfb76c7b-2af8-4815-abbf-b1f890b8dc2c",
    "deepnote_cell_type": "markdown"
   }
  },
  {
   "cell_type": "markdown",
   "source": "To start, let's make all the numerical columns contain the correct type of values and change the data type of those columns to numeric. Let's also replace all those question marks with the median of the respective column.\n\nHint: To make it easier, first try converting all the \"?\" to NaN.",
   "metadata": {
    "colab_type": "text",
    "id": "ZRQpnByEWrcx",
    "cell_id": "00011-fdede008-a1e0-4f04-a098-0a4066a990bb",
    "deepnote_cell_type": "markdown"
   }
  },
  {
   "cell_type": "code",
   "metadata": {
    "colab": {
     "autoexec": {
      "startup": false,
      "wait_interval": 0
     }
    },
    "colab_type": "code",
    "id": "BlTsaK5n5Bg1",
    "cell_id": "00012-5ad45718-f562-44fa-af92-c8cac4c9cf5e",
    "deepnote_to_be_reexecuted": false,
    "source_hash": "96f00681",
    "execution_start": 1625692498694,
    "execution_millis": 174,
    "deepnote_cell_type": "code"
   },
   "source": "### your code here\ndef handle_questions(df):\n    df.replace('?', 'NaN', inplace=True)\n    return df\n\nhandle_questions(dataset)\n\n",
   "outputs": [
    {
     "output_type": "execute_result",
     "execution_count": 4,
     "data": {
      "application/vnd.deepnote.dataframe.v2+json": {
       "row_count": 2800,
       "column_count": 30,
       "columns": [
        {
         "name": "Age",
         "dtype": "object",
         "stats": {
          "unique_count": 94,
          "nan_count": 0,
          "categories": [
           {
            "name": "59",
            "count": 75
           },
           {
            "name": "70",
            "count": 74
           },
           {
            "name": "92 others",
            "count": 2651
           }
          ]
         }
        },
        {
         "name": "Sex",
         "dtype": "object",
         "stats": {
          "unique_count": 3,
          "nan_count": 0,
          "categories": [
           {
            "name": "F",
            "count": 1830
           },
           {
            "name": "M",
            "count": 860
           },
           {
            "name": "NaN",
            "count": 110
           }
          ]
         }
        },
        {
         "name": "On Thyroxine",
         "dtype": "object",
         "stats": {
          "unique_count": 2,
          "nan_count": 0,
          "categories": [
           {
            "name": "f",
            "count": 2470
           },
           {
            "name": "t",
            "count": 330
           }
          ]
         }
        },
        {
         "name": "Query on Thyroxine",
         "dtype": "object",
         "stats": {
          "unique_count": 2,
          "nan_count": 0,
          "categories": [
           {
            "name": "f",
            "count": 2760
           },
           {
            "name": "t",
            "count": 40
           }
          ]
         }
        },
        {
         "name": "On Antithyroid Medication",
         "dtype": "object",
         "stats": {
          "unique_count": 2,
          "nan_count": 0,
          "categories": [
           {
            "name": "f",
            "count": 2766
           },
           {
            "name": "t",
            "count": 34
           }
          ]
         }
        },
        {
         "name": "Sick",
         "dtype": "object",
         "stats": {
          "unique_count": 2,
          "nan_count": 0,
          "categories": [
           {
            "name": "f",
            "count": 2690
           },
           {
            "name": "t",
            "count": 110
           }
          ]
         }
        },
        {
         "name": "Pregnant",
         "dtype": "object",
         "stats": {
          "unique_count": 2,
          "nan_count": 0,
          "categories": [
           {
            "name": "f",
            "count": 2759
           },
           {
            "name": "t",
            "count": 41
           }
          ]
         }
        },
        {
         "name": "Thyroid Surgery",
         "dtype": "object",
         "stats": {
          "unique_count": 2,
          "nan_count": 0,
          "categories": [
           {
            "name": "f",
            "count": 2761
           },
           {
            "name": "t",
            "count": 39
           }
          ]
         }
        },
        {
         "name": "I131 Treatment",
         "dtype": "object",
         "stats": {
          "unique_count": 2,
          "nan_count": 0,
          "categories": [
           {
            "name": "f",
            "count": 2752
           },
           {
            "name": "t",
            "count": 48
           }
          ]
         }
        },
        {
         "name": "Query Hypothyroid",
         "dtype": "object",
         "stats": {
          "unique_count": 2,
          "nan_count": 0,
          "categories": [
           {
            "name": "f",
            "count": 2637
           },
           {
            "name": "t",
            "count": 163
           }
          ]
         }
        },
        {
         "name": "Query Hyperthyroid",
         "dtype": "object",
         "stats": {
          "unique_count": 2,
          "nan_count": 0,
          "categories": [
           {
            "name": "f",
            "count": 2627
           },
           {
            "name": "t",
            "count": 173
           }
          ]
         }
        },
        {
         "name": "Lithium",
         "dtype": "object",
         "stats": {
          "unique_count": 2,
          "nan_count": 0,
          "categories": [
           {
            "name": "f",
            "count": 2786
           },
           {
            "name": "t",
            "count": 14
           }
          ]
         }
        },
        {
         "name": "Goiter",
         "dtype": "object",
         "stats": {
          "unique_count": 2,
          "nan_count": 0,
          "categories": [
           {
            "name": "f",
            "count": 2775
           },
           {
            "name": "t",
            "count": 25
           }
          ]
         }
        },
        {
         "name": "Tumor",
         "dtype": "object",
         "stats": {
          "unique_count": 2,
          "nan_count": 0,
          "categories": [
           {
            "name": "f",
            "count": 2729
           },
           {
            "name": "t",
            "count": 71
           }
          ]
         }
        },
        {
         "name": "Hypopituitary",
         "dtype": "object",
         "stats": {
          "unique_count": 2,
          "nan_count": 0,
          "categories": [
           {
            "name": "f",
            "count": 2799
           },
           {
            "name": "t",
            "count": 1
           }
          ]
         }
        },
        {
         "name": "Psych",
         "dtype": "object",
         "stats": {
          "unique_count": 2,
          "nan_count": 0,
          "categories": [
           {
            "name": "f",
            "count": 2665
           },
           {
            "name": "t",
            "count": 135
           }
          ]
         }
        },
        {
         "name": "TSH Measured",
         "dtype": "object",
         "stats": {
          "unique_count": 2,
          "nan_count": 0,
          "categories": [
           {
            "name": "t",
            "count": 2516
           },
           {
            "name": "f",
            "count": 284
           }
          ]
         }
        },
        {
         "name": "TSH",
         "dtype": "object",
         "stats": {
          "unique_count": 264,
          "nan_count": 0,
          "categories": [
           {
            "name": "NaN",
            "count": 284
           },
           {
            "name": "0.2",
            "count": 88
           },
           {
            "name": "262 others",
            "count": 2428
           }
          ]
         }
        },
        {
         "name": "T3 Measured",
         "dtype": "object",
         "stats": {
          "unique_count": 2,
          "nan_count": 0,
          "categories": [
           {
            "name": "t",
            "count": 2215
           },
           {
            "name": "f",
            "count": 585
           }
          ]
         }
        },
        {
         "name": "T3",
         "dtype": "object",
         "stats": {
          "unique_count": 65,
          "nan_count": 0,
          "categories": [
           {
            "name": "NaN",
            "count": 585
           },
           {
            "name": "2",
            "count": 169
           },
           {
            "name": "63 others",
            "count": 2046
           }
          ]
         }
        },
        {
         "name": "TT4 Measured",
         "dtype": "object",
         "stats": {
          "unique_count": 2,
          "nan_count": 0,
          "categories": [
           {
            "name": "t",
            "count": 2616
           },
           {
            "name": "f",
            "count": 184
           }
          ]
         }
        },
        {
         "name": "TT4",
         "dtype": "object",
         "stats": {
          "unique_count": 218,
          "nan_count": 0,
          "categories": [
           {
            "name": "NaN",
            "count": 184
           },
           {
            "name": "101",
            "count": 62
           },
           {
            "name": "216 others",
            "count": 2554
           }
          ]
         }
        },
        {
         "name": "T4U Measured",
         "dtype": "object",
         "stats": {
          "unique_count": 2,
          "nan_count": 0,
          "categories": [
           {
            "name": "t",
            "count": 2503
           },
           {
            "name": "f",
            "count": 297
           }
          ]
         }
        },
        {
         "name": "T4U",
         "dtype": "object",
         "stats": {
          "unique_count": 139,
          "nan_count": 0,
          "categories": [
           {
            "name": "NaN",
            "count": 297
           },
           {
            "name": "0.99",
            "count": 81
           },
           {
            "name": "137 others",
            "count": 2422
           }
          ]
         }
        },
        {
         "name": "FTI Measured",
         "dtype": "object",
         "stats": {
          "unique_count": 2,
          "nan_count": 0,
          "categories": [
           {
            "name": "t",
            "count": 2505
           },
           {
            "name": "f",
            "count": 295
           }
          ]
         }
        },
        {
         "name": "FTI",
         "dtype": "object",
         "stats": {
          "unique_count": 210,
          "nan_count": 0,
          "categories": [
           {
            "name": "NaN",
            "count": 295
           },
           {
            "name": "107",
            "count": 52
           },
           {
            "name": "208 others",
            "count": 2453
           }
          ]
         }
        },
        {
         "name": "TBG Measured",
         "dtype": "object",
         "stats": {
          "unique_count": 1,
          "nan_count": 0,
          "categories": [
           {
            "name": "f",
            "count": 2800
           }
          ]
         }
        },
        {
         "name": "TBG",
         "dtype": "object",
         "stats": {
          "unique_count": 1,
          "nan_count": 0,
          "categories": [
           {
            "name": "NaN",
            "count": 2800
           }
          ]
         }
        },
        {
         "name": "Referral Source",
         "dtype": "object",
         "stats": {
          "unique_count": 5,
          "nan_count": 0,
          "categories": [
           {
            "name": "other",
            "count": 1632
           },
           {
            "name": "SVI",
            "count": 771
           },
           {
            "name": "3 others",
            "count": 397
           }
          ]
         }
        },
        {
         "name": "Class",
         "dtype": "object",
         "stats": {
          "unique_count": 2800,
          "nan_count": 0,
          "categories": [
           {
            "name": "negative.|3733",
            "count": 1
           },
           {
            "name": "negative.|1442",
            "count": 1
           },
           {
            "name": "2798 others",
            "count": 2798
           }
          ]
         }
        },
        {
         "name": "_deepnote_index_column",
         "dtype": "int64"
        }
       ],
       "rows_top": [
        {
         "Age": "41",
         "Sex": "F",
         "On Thyroxine": "f",
         "Query on Thyroxine": "f",
         "On Antithyroid Medication": "f",
         "Sick": "f",
         "Pregnant": "f",
         "Thyroid Surgery": "f",
         "I131 Treatment": "f",
         "Query Hypothyroid": "f",
         "Query Hyperthyroid": "f",
         "Lithium": "f",
         "Goiter": "f",
         "Tumor": "f",
         "Hypopituitary": "f",
         "Psych": "f",
         "TSH Measured": "t",
         "TSH": "1.3",
         "T3 Measured": "t",
         "T3": "2.5",
         "TT4 Measured": "t",
         "TT4": "125",
         "T4U Measured": "t",
         "T4U": "1.14",
         "FTI Measured": "t",
         "FTI": "109",
         "TBG Measured": "f",
         "TBG": "NaN",
         "Referral Source": "SVHC",
         "Class": "negative.|3733",
         "_deepnote_index_column": 0
        },
        {
         "Age": "23",
         "Sex": "F",
         "On Thyroxine": "f",
         "Query on Thyroxine": "f",
         "On Antithyroid Medication": "f",
         "Sick": "f",
         "Pregnant": "f",
         "Thyroid Surgery": "f",
         "I131 Treatment": "f",
         "Query Hypothyroid": "f",
         "Query Hyperthyroid": "f",
         "Lithium": "f",
         "Goiter": "f",
         "Tumor": "f",
         "Hypopituitary": "f",
         "Psych": "f",
         "TSH Measured": "t",
         "TSH": "4.1",
         "T3 Measured": "t",
         "T3": "2",
         "TT4 Measured": "t",
         "TT4": "102",
         "T4U Measured": "f",
         "T4U": "NaN",
         "FTI Measured": "f",
         "FTI": "NaN",
         "TBG Measured": "f",
         "TBG": "NaN",
         "Referral Source": "other",
         "Class": "negative.|1442",
         "_deepnote_index_column": 1
        },
        {
         "Age": "46",
         "Sex": "M",
         "On Thyroxine": "f",
         "Query on Thyroxine": "f",
         "On Antithyroid Medication": "f",
         "Sick": "f",
         "Pregnant": "f",
         "Thyroid Surgery": "f",
         "I131 Treatment": "f",
         "Query Hypothyroid": "f",
         "Query Hyperthyroid": "f",
         "Lithium": "f",
         "Goiter": "f",
         "Tumor": "f",
         "Hypopituitary": "f",
         "Psych": "f",
         "TSH Measured": "t",
         "TSH": "0.98",
         "T3 Measured": "f",
         "T3": "NaN",
         "TT4 Measured": "t",
         "TT4": "109",
         "T4U Measured": "t",
         "T4U": "0.91",
         "FTI Measured": "t",
         "FTI": "120",
         "TBG Measured": "f",
         "TBG": "NaN",
         "Referral Source": "other",
         "Class": "negative.|2965",
         "_deepnote_index_column": 2
        },
        {
         "Age": "70",
         "Sex": "F",
         "On Thyroxine": "t",
         "Query on Thyroxine": "f",
         "On Antithyroid Medication": "f",
         "Sick": "f",
         "Pregnant": "f",
         "Thyroid Surgery": "f",
         "I131 Treatment": "f",
         "Query Hypothyroid": "f",
         "Query Hyperthyroid": "f",
         "Lithium": "f",
         "Goiter": "f",
         "Tumor": "f",
         "Hypopituitary": "f",
         "Psych": "f",
         "TSH Measured": "t",
         "TSH": "0.16",
         "T3 Measured": "t",
         "T3": "1.9",
         "TT4 Measured": "t",
         "TT4": "175",
         "T4U Measured": "f",
         "T4U": "NaN",
         "FTI Measured": "f",
         "FTI": "NaN",
         "TBG Measured": "f",
         "TBG": "NaN",
         "Referral Source": "other",
         "Class": "negative.|806",
         "_deepnote_index_column": 3
        },
        {
         "Age": "70",
         "Sex": "F",
         "On Thyroxine": "f",
         "Query on Thyroxine": "f",
         "On Antithyroid Medication": "f",
         "Sick": "f",
         "Pregnant": "f",
         "Thyroid Surgery": "f",
         "I131 Treatment": "f",
         "Query Hypothyroid": "f",
         "Query Hyperthyroid": "f",
         "Lithium": "f",
         "Goiter": "f",
         "Tumor": "f",
         "Hypopituitary": "f",
         "Psych": "f",
         "TSH Measured": "t",
         "TSH": "0.72",
         "T3 Measured": "t",
         "T3": "1.2",
         "TT4 Measured": "t",
         "TT4": "61",
         "T4U Measured": "t",
         "T4U": "0.87",
         "FTI Measured": "t",
         "FTI": "70",
         "TBG Measured": "f",
         "TBG": "NaN",
         "Referral Source": "SVI",
         "Class": "negative.|2807",
         "_deepnote_index_column": 4
        },
        {
         "Age": "18",
         "Sex": "F",
         "On Thyroxine": "t",
         "Query on Thyroxine": "f",
         "On Antithyroid Medication": "f",
         "Sick": "f",
         "Pregnant": "f",
         "Thyroid Surgery": "f",
         "I131 Treatment": "f",
         "Query Hypothyroid": "f",
         "Query Hyperthyroid": "f",
         "Lithium": "f",
         "Goiter": "f",
         "Tumor": "f",
         "Hypopituitary": "f",
         "Psych": "f",
         "TSH Measured": "t",
         "TSH": "0.03",
         "T3 Measured": "f",
         "T3": "NaN",
         "TT4 Measured": "t",
         "TT4": "183",
         "T4U Measured": "t",
         "T4U": "1.3",
         "FTI Measured": "t",
         "FTI": "141",
         "TBG Measured": "f",
         "TBG": "NaN",
         "Referral Source": "other",
         "Class": "negative.|3434",
         "_deepnote_index_column": 5
        },
        {
         "Age": "59",
         "Sex": "F",
         "On Thyroxine": "f",
         "Query on Thyroxine": "f",
         "On Antithyroid Medication": "f",
         "Sick": "f",
         "Pregnant": "f",
         "Thyroid Surgery": "f",
         "I131 Treatment": "f",
         "Query Hypothyroid": "f",
         "Query Hyperthyroid": "f",
         "Lithium": "f",
         "Goiter": "f",
         "Tumor": "f",
         "Hypopituitary": "f",
         "Psych": "f",
         "TSH Measured": "f",
         "TSH": "NaN",
         "T3 Measured": "f",
         "T3": "NaN",
         "TT4 Measured": "t",
         "TT4": "72",
         "T4U Measured": "t",
         "T4U": "0.92",
         "FTI Measured": "t",
         "FTI": "78",
         "TBG Measured": "f",
         "TBG": "NaN",
         "Referral Source": "other",
         "Class": "negative.|1595",
         "_deepnote_index_column": 6
        },
        {
         "Age": "80",
         "Sex": "F",
         "On Thyroxine": "f",
         "Query on Thyroxine": "f",
         "On Antithyroid Medication": "f",
         "Sick": "f",
         "Pregnant": "f",
         "Thyroid Surgery": "f",
         "I131 Treatment": "f",
         "Query Hypothyroid": "f",
         "Query Hyperthyroid": "f",
         "Lithium": "f",
         "Goiter": "f",
         "Tumor": "f",
         "Hypopituitary": "f",
         "Psych": "f",
         "TSH Measured": "t",
         "TSH": "2.2",
         "T3 Measured": "t",
         "T3": "0.6",
         "TT4 Measured": "t",
         "TT4": "80",
         "T4U Measured": "t",
         "T4U": "0.7",
         "FTI Measured": "t",
         "FTI": "115",
         "TBG Measured": "f",
         "TBG": "NaN",
         "Referral Source": "SVI",
         "Class": "negative.|1367",
         "_deepnote_index_column": 7
        },
        {
         "Age": "66",
         "Sex": "F",
         "On Thyroxine": "f",
         "Query on Thyroxine": "f",
         "On Antithyroid Medication": "f",
         "Sick": "f",
         "Pregnant": "f",
         "Thyroid Surgery": "f",
         "I131 Treatment": "f",
         "Query Hypothyroid": "f",
         "Query Hyperthyroid": "f",
         "Lithium": "f",
         "Goiter": "f",
         "Tumor": "t",
         "Hypopituitary": "f",
         "Psych": "f",
         "TSH Measured": "t",
         "TSH": "0.6",
         "T3 Measured": "t",
         "T3": "2.2",
         "TT4 Measured": "t",
         "TT4": "123",
         "T4U Measured": "t",
         "T4U": "0.93",
         "FTI Measured": "t",
         "FTI": "132",
         "TBG Measured": "f",
         "TBG": "NaN",
         "Referral Source": "SVI",
         "Class": "negative.|1787",
         "_deepnote_index_column": 8
        },
        {
         "Age": "68",
         "Sex": "M",
         "On Thyroxine": "f",
         "Query on Thyroxine": "f",
         "On Antithyroid Medication": "f",
         "Sick": "f",
         "Pregnant": "f",
         "Thyroid Surgery": "f",
         "I131 Treatment": "f",
         "Query Hypothyroid": "f",
         "Query Hyperthyroid": "f",
         "Lithium": "f",
         "Goiter": "f",
         "Tumor": "f",
         "Hypopituitary": "f",
         "Psych": "f",
         "TSH Measured": "t",
         "TSH": "2.4",
         "T3 Measured": "t",
         "T3": "1.6",
         "TT4 Measured": "t",
         "TT4": "83",
         "T4U Measured": "t",
         "T4U": "0.89",
         "FTI Measured": "t",
         "FTI": "93",
         "TBG Measured": "f",
         "TBG": "NaN",
         "Referral Source": "SVI",
         "Class": "negative.|2534",
         "_deepnote_index_column": 9
        },
        {
         "Age": "84",
         "Sex": "F",
         "On Thyroxine": "f",
         "Query on Thyroxine": "f",
         "On Antithyroid Medication": "f",
         "Sick": "f",
         "Pregnant": "f",
         "Thyroid Surgery": "f",
         "I131 Treatment": "f",
         "Query Hypothyroid": "f",
         "Query Hyperthyroid": "f",
         "Lithium": "f",
         "Goiter": "f",
         "Tumor": "t",
         "Hypopituitary": "f",
         "Psych": "f",
         "TSH Measured": "t",
         "TSH": "1.1",
         "T3 Measured": "t",
         "T3": "2.2",
         "TT4 Measured": "t",
         "TT4": "115",
         "T4U Measured": "t",
         "T4U": "0.95",
         "FTI Measured": "t",
         "FTI": "121",
         "TBG Measured": "f",
         "TBG": "NaN",
         "Referral Source": "SVI",
         "Class": "negative.|1485",
         "_deepnote_index_column": 10
        },
        {
         "Age": "67",
         "Sex": "F",
         "On Thyroxine": "t",
         "Query on Thyroxine": "f",
         "On Antithyroid Medication": "f",
         "Sick": "f",
         "Pregnant": "f",
         "Thyroid Surgery": "f",
         "I131 Treatment": "f",
         "Query Hypothyroid": "f",
         "Query Hyperthyroid": "f",
         "Lithium": "f",
         "Goiter": "f",
         "Tumor": "f",
         "Hypopituitary": "f",
         "Psych": "f",
         "TSH Measured": "t",
         "TSH": "0.03",
         "T3 Measured": "f",
         "T3": "NaN",
         "TT4 Measured": "t",
         "TT4": "152",
         "T4U Measured": "t",
         "T4U": "0.99",
         "FTI Measured": "t",
         "FTI": "153",
         "TBG Measured": "f",
         "TBG": "NaN",
         "Referral Source": "other",
         "Class": "negative.|3448",
         "_deepnote_index_column": 11
        },
        {
         "Age": "71",
         "Sex": "F",
         "On Thyroxine": "f",
         "Query on Thyroxine": "f",
         "On Antithyroid Medication": "f",
         "Sick": "t",
         "Pregnant": "f",
         "Thyroid Surgery": "f",
         "I131 Treatment": "f",
         "Query Hypothyroid": "f",
         "Query Hyperthyroid": "t",
         "Lithium": "f",
         "Goiter": "f",
         "Tumor": "f",
         "Hypopituitary": "f",
         "Psych": "f",
         "TSH Measured": "t",
         "TSH": "0.03",
         "T3 Measured": "t",
         "T3": "3.8",
         "TT4 Measured": "t",
         "TT4": "171",
         "T4U Measured": "t",
         "T4U": "1.13",
         "FTI Measured": "t",
         "FTI": "151",
         "TBG Measured": "f",
         "TBG": "NaN",
         "Referral Source": "other",
         "Class": "negative.|1027",
         "_deepnote_index_column": 12
        },
        {
         "Age": "59",
         "Sex": "F",
         "On Thyroxine": "f",
         "Query on Thyroxine": "f",
         "On Antithyroid Medication": "f",
         "Sick": "f",
         "Pregnant": "f",
         "Thyroid Surgery": "f",
         "I131 Treatment": "f",
         "Query Hypothyroid": "f",
         "Query Hyperthyroid": "f",
         "Lithium": "f",
         "Goiter": "f",
         "Tumor": "f",
         "Hypopituitary": "f",
         "Psych": "f",
         "TSH Measured": "t",
         "TSH": "2.8",
         "T3 Measured": "t",
         "T3": "1.7",
         "TT4 Measured": "t",
         "TT4": "97",
         "T4U Measured": "t",
         "T4U": "0.91",
         "FTI Measured": "t",
         "FTI": "107",
         "TBG Measured": "f",
         "TBG": "NaN",
         "Referral Source": "SVI",
         "Class": "negative.|3331",
         "_deepnote_index_column": 13
        },
        {
         "Age": "28",
         "Sex": "M",
         "On Thyroxine": "f",
         "Query on Thyroxine": "f",
         "On Antithyroid Medication": "f",
         "Sick": "f",
         "Pregnant": "f",
         "Thyroid Surgery": "f",
         "I131 Treatment": "f",
         "Query Hypothyroid": "f",
         "Query Hyperthyroid": "f",
         "Lithium": "f",
         "Goiter": "f",
         "Tumor": "f",
         "Hypopituitary": "f",
         "Psych": "f",
         "TSH Measured": "t",
         "TSH": "3.3",
         "T3 Measured": "t",
         "T3": "1.8",
         "TT4 Measured": "t",
         "TT4": "109",
         "T4U Measured": "t",
         "T4U": "0.91",
         "FTI Measured": "t",
         "FTI": "119",
         "TBG Measured": "f",
         "TBG": "NaN",
         "Referral Source": "SVHC",
         "Class": "negative.|2043",
         "_deepnote_index_column": 14
        },
        {
         "Age": "65",
         "Sex": "F",
         "On Thyroxine": "f",
         "Query on Thyroxine": "f",
         "On Antithyroid Medication": "f",
         "Sick": "f",
         "Pregnant": "f",
         "Thyroid Surgery": "f",
         "I131 Treatment": "f",
         "Query Hypothyroid": "t",
         "Query Hyperthyroid": "f",
         "Lithium": "f",
         "Goiter": "f",
         "Tumor": "f",
         "Hypopituitary": "f",
         "Psych": "f",
         "TSH Measured": "t",
         "TSH": "12",
         "T3 Measured": "f",
         "T3": "NaN",
         "TT4 Measured": "t",
         "TT4": "99",
         "T4U Measured": "t",
         "T4U": "1.14",
         "FTI Measured": "t",
         "FTI": "87",
         "TBG Measured": "f",
         "TBG": "NaN",
         "Referral Source": "other",
         "Class": "compensated hypothyroid.|3169",
         "_deepnote_index_column": 15
        }
       ],
       "rows_bottom": [
        {
         "Age": "82",
         "Sex": "F",
         "On Thyroxine": "f",
         "Query on Thyroxine": "f",
         "On Antithyroid Medication": "f",
         "Sick": "f",
         "Pregnant": "f",
         "Thyroid Surgery": "f",
         "I131 Treatment": "f",
         "Query Hypothyroid": "f",
         "Query Hyperthyroid": "f",
         "Lithium": "f",
         "Goiter": "f",
         "Tumor": "f",
         "Hypopituitary": "f",
         "Psych": "f",
         "TSH Measured": "t",
         "TSH": "0.5",
         "T3 Measured": "f",
         "T3": "NaN",
         "TT4 Measured": "t",
         "TT4": "125",
         "T4U Measured": "t",
         "T4U": "0.84",
         "FTI Measured": "t",
         "FTI": "149",
         "TBG Measured": "f",
         "TBG": "NaN",
         "Referral Source": "other",
         "Class": "negative.|2985",
         "_deepnote_index_column": 2783
        },
        {
         "Age": "27",
         "Sex": "F",
         "On Thyroxine": "f",
         "Query on Thyroxine": "f",
         "On Antithyroid Medication": "f",
         "Sick": "f",
         "Pregnant": "f",
         "Thyroid Surgery": "f",
         "I131 Treatment": "f",
         "Query Hypothyroid": "f",
         "Query Hyperthyroid": "f",
         "Lithium": "f",
         "Goiter": "f",
         "Tumor": "f",
         "Hypopituitary": "f",
         "Psych": "f",
         "TSH Measured": "t",
         "TSH": "1.9",
         "T3 Measured": "t",
         "T3": "1.5",
         "TT4 Measured": "t",
         "TT4": "104",
         "T4U Measured": "f",
         "T4U": "NaN",
         "FTI Measured": "f",
         "FTI": "NaN",
         "TBG Measured": "f",
         "TBG": "NaN",
         "Referral Source": "other",
         "Class": "negative.|66",
         "_deepnote_index_column": 2784
        },
        {
         "Age": "57",
         "Sex": "M",
         "On Thyroxine": "f",
         "Query on Thyroxine": "f",
         "On Antithyroid Medication": "f",
         "Sick": "t",
         "Pregnant": "f",
         "Thyroid Surgery": "f",
         "I131 Treatment": "f",
         "Query Hypothyroid": "f",
         "Query Hyperthyroid": "f",
         "Lithium": "f",
         "Goiter": "f",
         "Tumor": "f",
         "Hypopituitary": "f",
         "Psych": "f",
         "TSH Measured": "t",
         "TSH": "1",
         "T3 Measured": "t",
         "T3": "1.6",
         "TT4 Measured": "t",
         "TT4": "73",
         "T4U Measured": "t",
         "T4U": "0.97",
         "FTI Measured": "t",
         "FTI": "75",
         "TBG Measured": "f",
         "TBG": "NaN",
         "Referral Source": "SVI",
         "Class": "negative.|182",
         "_deepnote_index_column": 2785
        },
        {
         "Age": "73",
         "Sex": "NaN",
         "On Thyroxine": "f",
         "Query on Thyroxine": "f",
         "On Antithyroid Medication": "f",
         "Sick": "f",
         "Pregnant": "f",
         "Thyroid Surgery": "f",
         "I131 Treatment": "f",
         "Query Hypothyroid": "f",
         "Query Hyperthyroid": "f",
         "Lithium": "f",
         "Goiter": "f",
         "Tumor": "f",
         "Hypopituitary": "f",
         "Psych": "f",
         "TSH Measured": "t",
         "TSH": "0.015",
         "T3 Measured": "t",
         "T3": "1.8",
         "TT4 Measured": "t",
         "TT4": "173",
         "T4U Measured": "t",
         "T4U": "1",
         "FTI Measured": "t",
         "FTI": "173",
         "TBG Measured": "f",
         "TBG": "NaN",
         "Referral Source": "other",
         "Class": "negative.|2431",
         "_deepnote_index_column": 2786
        },
        {
         "Age": "58",
         "Sex": "M",
         "On Thyroxine": "f",
         "Query on Thyroxine": "f",
         "On Antithyroid Medication": "f",
         "Sick": "f",
         "Pregnant": "f",
         "Thyroid Surgery": "f",
         "I131 Treatment": "f",
         "Query Hypothyroid": "f",
         "Query Hyperthyroid": "f",
         "Lithium": "f",
         "Goiter": "f",
         "Tumor": "f",
         "Hypopituitary": "f",
         "Psych": "f",
         "TSH Measured": "f",
         "TSH": "NaN",
         "T3 Measured": "t",
         "T3": "1.6",
         "TT4 Measured": "f",
         "TT4": "NaN",
         "T4U Measured": "f",
         "T4U": "NaN",
         "FTI Measured": "f",
         "FTI": "NaN",
         "TBG Measured": "f",
         "TBG": "NaN",
         "Referral Source": "other",
         "Class": "negative.|3214",
         "_deepnote_index_column": 2787
        },
        {
         "Age": "70",
         "Sex": "M",
         "On Thyroxine": "f",
         "Query on Thyroxine": "f",
         "On Antithyroid Medication": "f",
         "Sick": "f",
         "Pregnant": "f",
         "Thyroid Surgery": "f",
         "I131 Treatment": "f",
         "Query Hypothyroid": "f",
         "Query Hyperthyroid": "f",
         "Lithium": "f",
         "Goiter": "f",
         "Tumor": "f",
         "Hypopituitary": "f",
         "Psych": "f",
         "TSH Measured": "t",
         "TSH": "1.5",
         "T3 Measured": "t",
         "T3": "1.5",
         "TT4 Measured": "t",
         "TT4": "70",
         "T4U Measured": "t",
         "T4U": "0.77",
         "FTI Measured": "t",
         "FTI": "91",
         "TBG Measured": "f",
         "TBG": "NaN",
         "Referral Source": "SVI",
         "Class": "negative.|2979",
         "_deepnote_index_column": 2788
        },
        {
         "Age": "54",
         "Sex": "F",
         "On Thyroxine": "f",
         "Query on Thyroxine": "f",
         "On Antithyroid Medication": "f",
         "Sick": "f",
         "Pregnant": "f",
         "Thyroid Surgery": "f",
         "I131 Treatment": "f",
         "Query Hypothyroid": "f",
         "Query Hyperthyroid": "f",
         "Lithium": "f",
         "Goiter": "f",
         "Tumor": "f",
         "Hypopituitary": "f",
         "Psych": "f",
         "TSH Measured": "f",
         "TSH": "NaN",
         "T3 Measured": "f",
         "T3": "NaN",
         "TT4 Measured": "f",
         "TT4": "NaN",
         "T4U Measured": "f",
         "T4U": "NaN",
         "FTI Measured": "f",
         "FTI": "NaN",
         "TBG Measured": "f",
         "TBG": "NaN",
         "Referral Source": "other",
         "Class": "negative.|451",
         "_deepnote_index_column": 2789
        },
        {
         "Age": "67",
         "Sex": "M",
         "On Thyroxine": "f",
         "Query on Thyroxine": "f",
         "On Antithyroid Medication": "f",
         "Sick": "f",
         "Pregnant": "f",
         "Thyroid Surgery": "f",
         "I131 Treatment": "f",
         "Query Hypothyroid": "t",
         "Query Hyperthyroid": "f",
         "Lithium": "f",
         "Goiter": "f",
         "Tumor": "f",
         "Hypopituitary": "f",
         "Psych": "f",
         "TSH Measured": "t",
         "TSH": "2.1",
         "T3 Measured": "t",
         "T3": "2",
         "TT4 Measured": "t",
         "TT4": "83",
         "T4U Measured": "t",
         "T4U": "0.96",
         "FTI Measured": "t",
         "FTI": "87",
         "TBG Measured": "f",
         "TBG": "NaN",
         "Referral Source": "SVI",
         "Class": "negative.|60",
         "_deepnote_index_column": 2790
        },
        {
         "Age": "68",
         "Sex": "F",
         "On Thyroxine": "f",
         "Query on Thyroxine": "f",
         "On Antithyroid Medication": "f",
         "Sick": "f",
         "Pregnant": "f",
         "Thyroid Surgery": "f",
         "I131 Treatment": "f",
         "Query Hypothyroid": "f",
         "Query Hyperthyroid": "f",
         "Lithium": "f",
         "Goiter": "f",
         "Tumor": "f",
         "Hypopituitary": "f",
         "Psych": "f",
         "TSH Measured": "t",
         "TSH": "1",
         "T3 Measured": "f",
         "T3": "NaN",
         "TT4 Measured": "t",
         "TT4": "103",
         "T4U Measured": "t",
         "T4U": "1.01",
         "FTI Measured": "t",
         "FTI": "102",
         "TBG Measured": "f",
         "TBG": "NaN",
         "Referral Source": "SVI",
         "Class": "negative.|3622",
         "_deepnote_index_column": 2791
        },
        {
         "Age": "63",
         "Sex": "NaN",
         "On Thyroxine": "f",
         "Query on Thyroxine": "f",
         "On Antithyroid Medication": "f",
         "Sick": "f",
         "Pregnant": "f",
         "Thyroid Surgery": "f",
         "I131 Treatment": "f",
         "Query Hypothyroid": "f",
         "Query Hyperthyroid": "f",
         "Lithium": "f",
         "Goiter": "f",
         "Tumor": "f",
         "Hypopituitary": "f",
         "Psych": "f",
         "TSH Measured": "f",
         "TSH": "NaN",
         "T3 Measured": "f",
         "T3": "NaN",
         "TT4 Measured": "f",
         "TT4": "NaN",
         "T4U Measured": "f",
         "T4U": "NaN",
         "FTI Measured": "f",
         "FTI": "NaN",
         "TBG Measured": "f",
         "TBG": "NaN",
         "Referral Source": "other",
         "Class": "negative.|2383",
         "_deepnote_index_column": 2792
        },
        {
         "Age": "82",
         "Sex": "F",
         "On Thyroxine": "f",
         "Query on Thyroxine": "f",
         "On Antithyroid Medication": "f",
         "Sick": "f",
         "Pregnant": "f",
         "Thyroid Surgery": "f",
         "I131 Treatment": "f",
         "Query Hypothyroid": "f",
         "Query Hyperthyroid": "f",
         "Lithium": "f",
         "Goiter": "f",
         "Tumor": "f",
         "Hypopituitary": "f",
         "Psych": "f",
         "TSH Measured": "t",
         "TSH": "0.03",
         "T3 Measured": "t",
         "T3": "1.4",
         "TT4 Measured": "t",
         "TT4": "74",
         "T4U Measured": "t",
         "T4U": "0.52",
         "FTI Measured": "t",
         "FTI": "143",
         "TBG Measured": "f",
         "TBG": "NaN",
         "Referral Source": "other",
         "Class": "negative.|1084",
         "_deepnote_index_column": 2793
        },
        {
         "Age": "25",
         "Sex": "F",
         "On Thyroxine": "f",
         "Query on Thyroxine": "f",
         "On Antithyroid Medication": "f",
         "Sick": "f",
         "Pregnant": "f",
         "Thyroid Surgery": "f",
         "I131 Treatment": "f",
         "Query Hypothyroid": "f",
         "Query Hyperthyroid": "f",
         "Lithium": "f",
         "Goiter": "f",
         "Tumor": "f",
         "Hypopituitary": "f",
         "Psych": "f",
         "TSH Measured": "t",
         "TSH": "1.9",
         "T3 Measured": "t",
         "T3": "1.7",
         "TT4 Measured": "t",
         "TT4": "167",
         "T4U Measured": "t",
         "T4U": "1.21",
         "FTI Measured": "t",
         "FTI": "137",
         "TBG Measured": "f",
         "TBG": "NaN",
         "Referral Source": "other",
         "Class": "negative.|2245",
         "_deepnote_index_column": 2794
        },
        {
         "Age": "70",
         "Sex": "M",
         "On Thyroxine": "f",
         "Query on Thyroxine": "f",
         "On Antithyroid Medication": "f",
         "Sick": "f",
         "Pregnant": "f",
         "Thyroid Surgery": "f",
         "I131 Treatment": "f",
         "Query Hypothyroid": "f",
         "Query Hyperthyroid": "f",
         "Lithium": "f",
         "Goiter": "f",
         "Tumor": "f",
         "Hypopituitary": "f",
         "Psych": "f",
         "TSH Measured": "t",
         "TSH": "2.7",
         "T3 Measured": "f",
         "T3": "NaN",
         "TT4 Measured": "t",
         "TT4": "155",
         "T4U Measured": "t",
         "T4U": "1.05",
         "FTI Measured": "t",
         "FTI": "148",
         "TBG Measured": "f",
         "TBG": "NaN",
         "Referral Source": "SVI",
         "Class": "negative.|3689",
         "_deepnote_index_column": 2795
        },
        {
         "Age": "73",
         "Sex": "M",
         "On Thyroxine": "f",
         "Query on Thyroxine": "t",
         "On Antithyroid Medication": "f",
         "Sick": "f",
         "Pregnant": "f",
         "Thyroid Surgery": "f",
         "I131 Treatment": "f",
         "Query Hypothyroid": "f",
         "Query Hyperthyroid": "f",
         "Lithium": "f",
         "Goiter": "f",
         "Tumor": "f",
         "Hypopituitary": "f",
         "Psych": "f",
         "TSH Measured": "f",
         "TSH": "NaN",
         "T3 Measured": "t",
         "T3": "0.7",
         "TT4 Measured": "t",
         "TT4": "63",
         "T4U Measured": "t",
         "T4U": "0.88",
         "FTI Measured": "t",
         "FTI": "72",
         "TBG Measured": "f",
         "TBG": "NaN",
         "Referral Source": "other",
         "Class": "negative.|3652",
         "_deepnote_index_column": 2796
        },
        {
         "Age": "75",
         "Sex": "M",
         "On Thyroxine": "f",
         "Query on Thyroxine": "f",
         "On Antithyroid Medication": "f",
         "Sick": "f",
         "Pregnant": "f",
         "Thyroid Surgery": "f",
         "I131 Treatment": "f",
         "Query Hypothyroid": "f",
         "Query Hyperthyroid": "t",
         "Lithium": "f",
         "Goiter": "f",
         "Tumor": "f",
         "Hypopituitary": "f",
         "Psych": "f",
         "TSH Measured": "f",
         "TSH": "NaN",
         "T3 Measured": "f",
         "T3": "NaN",
         "TT4 Measured": "t",
         "TT4": "147",
         "T4U Measured": "t",
         "T4U": "0.8",
         "FTI Measured": "t",
         "FTI": "183",
         "TBG Measured": "f",
         "TBG": "NaN",
         "Referral Source": "other",
         "Class": "negative.|1287",
         "_deepnote_index_column": 2797
        },
        {
         "Age": "60",
         "Sex": "F",
         "On Thyroxine": "f",
         "Query on Thyroxine": "f",
         "On Antithyroid Medication": "f",
         "Sick": "f",
         "Pregnant": "f",
         "Thyroid Surgery": "f",
         "I131 Treatment": "f",
         "Query Hypothyroid": "f",
         "Query Hyperthyroid": "f",
         "Lithium": "f",
         "Goiter": "f",
         "Tumor": "f",
         "Hypopituitary": "f",
         "Psych": "f",
         "TSH Measured": "t",
         "TSH": "1.4",
         "T3 Measured": "f",
         "T3": "NaN",
         "TT4 Measured": "t",
         "TT4": "100",
         "T4U Measured": "t",
         "T4U": "0.83",
         "FTI Measured": "t",
         "FTI": "121",
         "TBG Measured": "f",
         "TBG": "NaN",
         "Referral Source": "other",
         "Class": "negative.|3496",
         "_deepnote_index_column": 2798
        },
        {
         "Age": "81",
         "Sex": "F",
         "On Thyroxine": "f",
         "Query on Thyroxine": "f",
         "On Antithyroid Medication": "f",
         "Sick": "f",
         "Pregnant": "f",
         "Thyroid Surgery": "f",
         "I131 Treatment": "f",
         "Query Hypothyroid": "f",
         "Query Hyperthyroid": "f",
         "Lithium": "f",
         "Goiter": "f",
         "Tumor": "f",
         "Hypopituitary": "f",
         "Psych": "f",
         "TSH Measured": "t",
         "TSH": "1.2",
         "T3 Measured": "t",
         "T3": "1.5",
         "TT4 Measured": "t",
         "TT4": "114",
         "T4U Measured": "t",
         "T4U": "0.99",
         "FTI Measured": "t",
         "FTI": "115",
         "TBG Measured": "f",
         "TBG": "NaN",
         "Referral Source": "SVI",
         "Class": "negative.|724",
         "_deepnote_index_column": 2799
        }
       ]
      },
      "text/plain": "     Age Sex On Thyroxine Query on Thyroxine On Antithyroid Medication Sick  \\\n0     41   F            f                  f                         f    f   \n1     23   F            f                  f                         f    f   \n2     46   M            f                  f                         f    f   \n3     70   F            t                  f                         f    f   \n4     70   F            f                  f                         f    f   \n...   ..  ..          ...                ...                       ...  ...   \n2795  70   M            f                  f                         f    f   \n2796  73   M            f                  t                         f    f   \n2797  75   M            f                  f                         f    f   \n2798  60   F            f                  f                         f    f   \n2799  81   F            f                  f                         f    f   \n\n     Pregnant Thyroid Surgery I131 Treatment Query Hypothyroid  ...  \\\n0           f               f              f                 f  ...   \n1           f               f              f                 f  ...   \n2           f               f              f                 f  ...   \n3           f               f              f                 f  ...   \n4           f               f              f                 f  ...   \n...       ...             ...            ...               ...  ...   \n2795        f               f              f                 f  ...   \n2796        f               f              f                 f  ...   \n2797        f               f              f                 f  ...   \n2798        f               f              f                 f  ...   \n2799        f               f              f                 f  ...   \n\n     TT4 Measured  TT4 T4U Measured   T4U FTI Measured  FTI TBG Measured  TBG  \\\n0               t  125            t  1.14            t  109            f  NaN   \n1               t  102            f   NaN            f  NaN            f  NaN   \n2               t  109            t  0.91            t  120            f  NaN   \n3               t  175            f   NaN            f  NaN            f  NaN   \n4               t   61            t  0.87            t   70            f  NaN   \n...           ...  ...          ...   ...          ...  ...          ...  ...   \n2795            t  155            t  1.05            t  148            f  NaN   \n2796            t   63            t  0.88            t   72            f  NaN   \n2797            t  147            t   0.8            t  183            f  NaN   \n2798            t  100            t  0.83            t  121            f  NaN   \n2799            t  114            t  0.99            t  115            f  NaN   \n\n     Referral Source           Class  \n0               SVHC  negative.|3733  \n1              other  negative.|1442  \n2              other  negative.|2965  \n3              other   negative.|806  \n4                SVI  negative.|2807  \n...              ...             ...  \n2795             SVI  negative.|3689  \n2796           other  negative.|3652  \n2797           other  negative.|1287  \n2798           other  negative.|3496  \n2799             SVI   negative.|724  \n\n[2800 rows x 30 columns]",
      "text/html": "<div>\n<style scoped>\n    .dataframe tbody tr th:only-of-type {\n        vertical-align: middle;\n    }\n\n    .dataframe tbody tr th {\n        vertical-align: top;\n    }\n\n    .dataframe thead th {\n        text-align: right;\n    }\n</style>\n<table border=\"1\" class=\"dataframe\">\n  <thead>\n    <tr style=\"text-align: right;\">\n      <th></th>\n      <th>Age</th>\n      <th>Sex</th>\n      <th>On Thyroxine</th>\n      <th>Query on Thyroxine</th>\n      <th>On Antithyroid Medication</th>\n      <th>Sick</th>\n      <th>Pregnant</th>\n      <th>Thyroid Surgery</th>\n      <th>I131 Treatment</th>\n      <th>Query Hypothyroid</th>\n      <th>...</th>\n      <th>TT4 Measured</th>\n      <th>TT4</th>\n      <th>T4U Measured</th>\n      <th>T4U</th>\n      <th>FTI Measured</th>\n      <th>FTI</th>\n      <th>TBG Measured</th>\n      <th>TBG</th>\n      <th>Referral Source</th>\n      <th>Class</th>\n    </tr>\n  </thead>\n  <tbody>\n    <tr>\n      <th>0</th>\n      <td>41</td>\n      <td>F</td>\n      <td>f</td>\n      <td>f</td>\n      <td>f</td>\n      <td>f</td>\n      <td>f</td>\n      <td>f</td>\n      <td>f</td>\n      <td>f</td>\n      <td>...</td>\n      <td>t</td>\n      <td>125</td>\n      <td>t</td>\n      <td>1.14</td>\n      <td>t</td>\n      <td>109</td>\n      <td>f</td>\n      <td>NaN</td>\n      <td>SVHC</td>\n      <td>negative.|3733</td>\n    </tr>\n    <tr>\n      <th>1</th>\n      <td>23</td>\n      <td>F</td>\n      <td>f</td>\n      <td>f</td>\n      <td>f</td>\n      <td>f</td>\n      <td>f</td>\n      <td>f</td>\n      <td>f</td>\n      <td>f</td>\n      <td>...</td>\n      <td>t</td>\n      <td>102</td>\n      <td>f</td>\n      <td>NaN</td>\n      <td>f</td>\n      <td>NaN</td>\n      <td>f</td>\n      <td>NaN</td>\n      <td>other</td>\n      <td>negative.|1442</td>\n    </tr>\n    <tr>\n      <th>2</th>\n      <td>46</td>\n      <td>M</td>\n      <td>f</td>\n      <td>f</td>\n      <td>f</td>\n      <td>f</td>\n      <td>f</td>\n      <td>f</td>\n      <td>f</td>\n      <td>f</td>\n      <td>...</td>\n      <td>t</td>\n      <td>109</td>\n      <td>t</td>\n      <td>0.91</td>\n      <td>t</td>\n      <td>120</td>\n      <td>f</td>\n      <td>NaN</td>\n      <td>other</td>\n      <td>negative.|2965</td>\n    </tr>\n    <tr>\n      <th>3</th>\n      <td>70</td>\n      <td>F</td>\n      <td>t</td>\n      <td>f</td>\n      <td>f</td>\n      <td>f</td>\n      <td>f</td>\n      <td>f</td>\n      <td>f</td>\n      <td>f</td>\n      <td>...</td>\n      <td>t</td>\n      <td>175</td>\n      <td>f</td>\n      <td>NaN</td>\n      <td>f</td>\n      <td>NaN</td>\n      <td>f</td>\n      <td>NaN</td>\n      <td>other</td>\n      <td>negative.|806</td>\n    </tr>\n    <tr>\n      <th>4</th>\n      <td>70</td>\n      <td>F</td>\n      <td>f</td>\n      <td>f</td>\n      <td>f</td>\n      <td>f</td>\n      <td>f</td>\n      <td>f</td>\n      <td>f</td>\n      <td>f</td>\n      <td>...</td>\n      <td>t</td>\n      <td>61</td>\n      <td>t</td>\n      <td>0.87</td>\n      <td>t</td>\n      <td>70</td>\n      <td>f</td>\n      <td>NaN</td>\n      <td>SVI</td>\n      <td>negative.|2807</td>\n    </tr>\n    <tr>\n      <th>...</th>\n      <td>...</td>\n      <td>...</td>\n      <td>...</td>\n      <td>...</td>\n      <td>...</td>\n      <td>...</td>\n      <td>...</td>\n      <td>...</td>\n      <td>...</td>\n      <td>...</td>\n      <td>...</td>\n      <td>...</td>\n      <td>...</td>\n      <td>...</td>\n      <td>...</td>\n      <td>...</td>\n      <td>...</td>\n      <td>...</td>\n      <td>...</td>\n      <td>...</td>\n      <td>...</td>\n    </tr>\n    <tr>\n      <th>2795</th>\n      <td>70</td>\n      <td>M</td>\n      <td>f</td>\n      <td>f</td>\n      <td>f</td>\n      <td>f</td>\n      <td>f</td>\n      <td>f</td>\n      <td>f</td>\n      <td>f</td>\n      <td>...</td>\n      <td>t</td>\n      <td>155</td>\n      <td>t</td>\n      <td>1.05</td>\n      <td>t</td>\n      <td>148</td>\n      <td>f</td>\n      <td>NaN</td>\n      <td>SVI</td>\n      <td>negative.|3689</td>\n    </tr>\n    <tr>\n      <th>2796</th>\n      <td>73</td>\n      <td>M</td>\n      <td>f</td>\n      <td>t</td>\n      <td>f</td>\n      <td>f</td>\n      <td>f</td>\n      <td>f</td>\n      <td>f</td>\n      <td>f</td>\n      <td>...</td>\n      <td>t</td>\n      <td>63</td>\n      <td>t</td>\n      <td>0.88</td>\n      <td>t</td>\n      <td>72</td>\n      <td>f</td>\n      <td>NaN</td>\n      <td>other</td>\n      <td>negative.|3652</td>\n    </tr>\n    <tr>\n      <th>2797</th>\n      <td>75</td>\n      <td>M</td>\n      <td>f</td>\n      <td>f</td>\n      <td>f</td>\n      <td>f</td>\n      <td>f</td>\n      <td>f</td>\n      <td>f</td>\n      <td>f</td>\n      <td>...</td>\n      <td>t</td>\n      <td>147</td>\n      <td>t</td>\n      <td>0.8</td>\n      <td>t</td>\n      <td>183</td>\n      <td>f</td>\n      <td>NaN</td>\n      <td>other</td>\n      <td>negative.|1287</td>\n    </tr>\n    <tr>\n      <th>2798</th>\n      <td>60</td>\n      <td>F</td>\n      <td>f</td>\n      <td>f</td>\n      <td>f</td>\n      <td>f</td>\n      <td>f</td>\n      <td>f</td>\n      <td>f</td>\n      <td>f</td>\n      <td>...</td>\n      <td>t</td>\n      <td>100</td>\n      <td>t</td>\n      <td>0.83</td>\n      <td>t</td>\n      <td>121</td>\n      <td>f</td>\n      <td>NaN</td>\n      <td>other</td>\n      <td>negative.|3496</td>\n    </tr>\n    <tr>\n      <th>2799</th>\n      <td>81</td>\n      <td>F</td>\n      <td>f</td>\n      <td>f</td>\n      <td>f</td>\n      <td>f</td>\n      <td>f</td>\n      <td>f</td>\n      <td>f</td>\n      <td>f</td>\n      <td>...</td>\n      <td>t</td>\n      <td>114</td>\n      <td>t</td>\n      <td>0.99</td>\n      <td>t</td>\n      <td>115</td>\n      <td>f</td>\n      <td>NaN</td>\n      <td>SVI</td>\n      <td>negative.|724</td>\n    </tr>\n  </tbody>\n</table>\n<p>2800 rows × 30 columns</p>\n</div>"
     },
     "metadata": {}
    }
   ],
   "execution_count": null
  },
  {
   "cell_type": "markdown",
   "source": "Hmm, still looks like the TBG column is unfilled, implying it was empty to begin with. Let's get rid of this column, then (and make sure to get rid of it in your list of numeric columns, too!)",
   "metadata": {
    "colab_type": "text",
    "id": "HZo7iKHUD3DG",
    "cell_id": "00013-e17ed78a-5ad6-4e5f-bc07-60cb25a0cd49",
    "deepnote_cell_type": "markdown"
   }
  },
  {
   "cell_type": "code",
   "metadata": {
    "colab": {
     "autoexec": {
      "startup": false,
      "wait_interval": 0
     }
    },
    "colab_type": "code",
    "id": "yAe5FIFkD25f",
    "cell_id": "00014-e0252e39-cf2c-4c89-b151-42ae67b62c9b",
    "deepnote_to_be_reexecuted": false,
    "source_hash": "9fb414e0",
    "execution_start": 1625692498906,
    "execution_millis": 148,
    "deepnote_cell_type": "code"
   },
   "source": "### Your code here\ndataset.drop(columns=['TBG'])",
   "outputs": [
    {
     "output_type": "execute_result",
     "execution_count": 5,
     "data": {
      "application/vnd.deepnote.dataframe.v2+json": {
       "row_count": 2800,
       "column_count": 29,
       "columns": [
        {
         "name": "Age",
         "dtype": "object",
         "stats": {
          "unique_count": 94,
          "nan_count": 0,
          "categories": [
           {
            "name": "59",
            "count": 75
           },
           {
            "name": "70",
            "count": 74
           },
           {
            "name": "92 others",
            "count": 2651
           }
          ]
         }
        },
        {
         "name": "Sex",
         "dtype": "object",
         "stats": {
          "unique_count": 3,
          "nan_count": 0,
          "categories": [
           {
            "name": "F",
            "count": 1830
           },
           {
            "name": "M",
            "count": 860
           },
           {
            "name": "NaN",
            "count": 110
           }
          ]
         }
        },
        {
         "name": "On Thyroxine",
         "dtype": "object",
         "stats": {
          "unique_count": 2,
          "nan_count": 0,
          "categories": [
           {
            "name": "f",
            "count": 2470
           },
           {
            "name": "t",
            "count": 330
           }
          ]
         }
        },
        {
         "name": "Query on Thyroxine",
         "dtype": "object",
         "stats": {
          "unique_count": 2,
          "nan_count": 0,
          "categories": [
           {
            "name": "f",
            "count": 2760
           },
           {
            "name": "t",
            "count": 40
           }
          ]
         }
        },
        {
         "name": "On Antithyroid Medication",
         "dtype": "object",
         "stats": {
          "unique_count": 2,
          "nan_count": 0,
          "categories": [
           {
            "name": "f",
            "count": 2766
           },
           {
            "name": "t",
            "count": 34
           }
          ]
         }
        },
        {
         "name": "Sick",
         "dtype": "object",
         "stats": {
          "unique_count": 2,
          "nan_count": 0,
          "categories": [
           {
            "name": "f",
            "count": 2690
           },
           {
            "name": "t",
            "count": 110
           }
          ]
         }
        },
        {
         "name": "Pregnant",
         "dtype": "object",
         "stats": {
          "unique_count": 2,
          "nan_count": 0,
          "categories": [
           {
            "name": "f",
            "count": 2759
           },
           {
            "name": "t",
            "count": 41
           }
          ]
         }
        },
        {
         "name": "Thyroid Surgery",
         "dtype": "object",
         "stats": {
          "unique_count": 2,
          "nan_count": 0,
          "categories": [
           {
            "name": "f",
            "count": 2761
           },
           {
            "name": "t",
            "count": 39
           }
          ]
         }
        },
        {
         "name": "I131 Treatment",
         "dtype": "object",
         "stats": {
          "unique_count": 2,
          "nan_count": 0,
          "categories": [
           {
            "name": "f",
            "count": 2752
           },
           {
            "name": "t",
            "count": 48
           }
          ]
         }
        },
        {
         "name": "Query Hypothyroid",
         "dtype": "object",
         "stats": {
          "unique_count": 2,
          "nan_count": 0,
          "categories": [
           {
            "name": "f",
            "count": 2637
           },
           {
            "name": "t",
            "count": 163
           }
          ]
         }
        },
        {
         "name": "Query Hyperthyroid",
         "dtype": "object",
         "stats": {
          "unique_count": 2,
          "nan_count": 0,
          "categories": [
           {
            "name": "f",
            "count": 2627
           },
           {
            "name": "t",
            "count": 173
           }
          ]
         }
        },
        {
         "name": "Lithium",
         "dtype": "object",
         "stats": {
          "unique_count": 2,
          "nan_count": 0,
          "categories": [
           {
            "name": "f",
            "count": 2786
           },
           {
            "name": "t",
            "count": 14
           }
          ]
         }
        },
        {
         "name": "Goiter",
         "dtype": "object",
         "stats": {
          "unique_count": 2,
          "nan_count": 0,
          "categories": [
           {
            "name": "f",
            "count": 2775
           },
           {
            "name": "t",
            "count": 25
           }
          ]
         }
        },
        {
         "name": "Tumor",
         "dtype": "object",
         "stats": {
          "unique_count": 2,
          "nan_count": 0,
          "categories": [
           {
            "name": "f",
            "count": 2729
           },
           {
            "name": "t",
            "count": 71
           }
          ]
         }
        },
        {
         "name": "Hypopituitary",
         "dtype": "object",
         "stats": {
          "unique_count": 2,
          "nan_count": 0,
          "categories": [
           {
            "name": "f",
            "count": 2799
           },
           {
            "name": "t",
            "count": 1
           }
          ]
         }
        },
        {
         "name": "Psych",
         "dtype": "object",
         "stats": {
          "unique_count": 2,
          "nan_count": 0,
          "categories": [
           {
            "name": "f",
            "count": 2665
           },
           {
            "name": "t",
            "count": 135
           }
          ]
         }
        },
        {
         "name": "TSH Measured",
         "dtype": "object",
         "stats": {
          "unique_count": 2,
          "nan_count": 0,
          "categories": [
           {
            "name": "t",
            "count": 2516
           },
           {
            "name": "f",
            "count": 284
           }
          ]
         }
        },
        {
         "name": "TSH",
         "dtype": "object",
         "stats": {
          "unique_count": 264,
          "nan_count": 0,
          "categories": [
           {
            "name": "NaN",
            "count": 284
           },
           {
            "name": "0.2",
            "count": 88
           },
           {
            "name": "262 others",
            "count": 2428
           }
          ]
         }
        },
        {
         "name": "T3 Measured",
         "dtype": "object",
         "stats": {
          "unique_count": 2,
          "nan_count": 0,
          "categories": [
           {
            "name": "t",
            "count": 2215
           },
           {
            "name": "f",
            "count": 585
           }
          ]
         }
        },
        {
         "name": "T3",
         "dtype": "object",
         "stats": {
          "unique_count": 65,
          "nan_count": 0,
          "categories": [
           {
            "name": "NaN",
            "count": 585
           },
           {
            "name": "2",
            "count": 169
           },
           {
            "name": "63 others",
            "count": 2046
           }
          ]
         }
        },
        {
         "name": "TT4 Measured",
         "dtype": "object",
         "stats": {
          "unique_count": 2,
          "nan_count": 0,
          "categories": [
           {
            "name": "t",
            "count": 2616
           },
           {
            "name": "f",
            "count": 184
           }
          ]
         }
        },
        {
         "name": "TT4",
         "dtype": "object",
         "stats": {
          "unique_count": 218,
          "nan_count": 0,
          "categories": [
           {
            "name": "NaN",
            "count": 184
           },
           {
            "name": "101",
            "count": 62
           },
           {
            "name": "216 others",
            "count": 2554
           }
          ]
         }
        },
        {
         "name": "T4U Measured",
         "dtype": "object",
         "stats": {
          "unique_count": 2,
          "nan_count": 0,
          "categories": [
           {
            "name": "t",
            "count": 2503
           },
           {
            "name": "f",
            "count": 297
           }
          ]
         }
        },
        {
         "name": "T4U",
         "dtype": "object",
         "stats": {
          "unique_count": 139,
          "nan_count": 0,
          "categories": [
           {
            "name": "NaN",
            "count": 297
           },
           {
            "name": "0.99",
            "count": 81
           },
           {
            "name": "137 others",
            "count": 2422
           }
          ]
         }
        },
        {
         "name": "FTI Measured",
         "dtype": "object",
         "stats": {
          "unique_count": 2,
          "nan_count": 0,
          "categories": [
           {
            "name": "t",
            "count": 2505
           },
           {
            "name": "f",
            "count": 295
           }
          ]
         }
        },
        {
         "name": "FTI",
         "dtype": "object",
         "stats": {
          "unique_count": 210,
          "nan_count": 0,
          "categories": [
           {
            "name": "NaN",
            "count": 295
           },
           {
            "name": "107",
            "count": 52
           },
           {
            "name": "208 others",
            "count": 2453
           }
          ]
         }
        },
        {
         "name": "TBG Measured",
         "dtype": "object",
         "stats": {
          "unique_count": 1,
          "nan_count": 0,
          "categories": [
           {
            "name": "f",
            "count": 2800
           }
          ]
         }
        },
        {
         "name": "Referral Source",
         "dtype": "object",
         "stats": {
          "unique_count": 5,
          "nan_count": 0,
          "categories": [
           {
            "name": "other",
            "count": 1632
           },
           {
            "name": "SVI",
            "count": 771
           },
           {
            "name": "3 others",
            "count": 397
           }
          ]
         }
        },
        {
         "name": "Class",
         "dtype": "object",
         "stats": {
          "unique_count": 2800,
          "nan_count": 0,
          "categories": [
           {
            "name": "negative.|3733",
            "count": 1
           },
           {
            "name": "negative.|1442",
            "count": 1
           },
           {
            "name": "2798 others",
            "count": 2798
           }
          ]
         }
        },
        {
         "name": "_deepnote_index_column",
         "dtype": "int64"
        }
       ],
       "rows_top": [
        {
         "Age": "41",
         "Sex": "F",
         "On Thyroxine": "f",
         "Query on Thyroxine": "f",
         "On Antithyroid Medication": "f",
         "Sick": "f",
         "Pregnant": "f",
         "Thyroid Surgery": "f",
         "I131 Treatment": "f",
         "Query Hypothyroid": "f",
         "Query Hyperthyroid": "f",
         "Lithium": "f",
         "Goiter": "f",
         "Tumor": "f",
         "Hypopituitary": "f",
         "Psych": "f",
         "TSH Measured": "t",
         "TSH": "1.3",
         "T3 Measured": "t",
         "T3": "2.5",
         "TT4 Measured": "t",
         "TT4": "125",
         "T4U Measured": "t",
         "T4U": "1.14",
         "FTI Measured": "t",
         "FTI": "109",
         "TBG Measured": "f",
         "Referral Source": "SVHC",
         "Class": "negative.|3733",
         "_deepnote_index_column": 0
        },
        {
         "Age": "23",
         "Sex": "F",
         "On Thyroxine": "f",
         "Query on Thyroxine": "f",
         "On Antithyroid Medication": "f",
         "Sick": "f",
         "Pregnant": "f",
         "Thyroid Surgery": "f",
         "I131 Treatment": "f",
         "Query Hypothyroid": "f",
         "Query Hyperthyroid": "f",
         "Lithium": "f",
         "Goiter": "f",
         "Tumor": "f",
         "Hypopituitary": "f",
         "Psych": "f",
         "TSH Measured": "t",
         "TSH": "4.1",
         "T3 Measured": "t",
         "T3": "2",
         "TT4 Measured": "t",
         "TT4": "102",
         "T4U Measured": "f",
         "T4U": "NaN",
         "FTI Measured": "f",
         "FTI": "NaN",
         "TBG Measured": "f",
         "Referral Source": "other",
         "Class": "negative.|1442",
         "_deepnote_index_column": 1
        },
        {
         "Age": "46",
         "Sex": "M",
         "On Thyroxine": "f",
         "Query on Thyroxine": "f",
         "On Antithyroid Medication": "f",
         "Sick": "f",
         "Pregnant": "f",
         "Thyroid Surgery": "f",
         "I131 Treatment": "f",
         "Query Hypothyroid": "f",
         "Query Hyperthyroid": "f",
         "Lithium": "f",
         "Goiter": "f",
         "Tumor": "f",
         "Hypopituitary": "f",
         "Psych": "f",
         "TSH Measured": "t",
         "TSH": "0.98",
         "T3 Measured": "f",
         "T3": "NaN",
         "TT4 Measured": "t",
         "TT4": "109",
         "T4U Measured": "t",
         "T4U": "0.91",
         "FTI Measured": "t",
         "FTI": "120",
         "TBG Measured": "f",
         "Referral Source": "other",
         "Class": "negative.|2965",
         "_deepnote_index_column": 2
        },
        {
         "Age": "70",
         "Sex": "F",
         "On Thyroxine": "t",
         "Query on Thyroxine": "f",
         "On Antithyroid Medication": "f",
         "Sick": "f",
         "Pregnant": "f",
         "Thyroid Surgery": "f",
         "I131 Treatment": "f",
         "Query Hypothyroid": "f",
         "Query Hyperthyroid": "f",
         "Lithium": "f",
         "Goiter": "f",
         "Tumor": "f",
         "Hypopituitary": "f",
         "Psych": "f",
         "TSH Measured": "t",
         "TSH": "0.16",
         "T3 Measured": "t",
         "T3": "1.9",
         "TT4 Measured": "t",
         "TT4": "175",
         "T4U Measured": "f",
         "T4U": "NaN",
         "FTI Measured": "f",
         "FTI": "NaN",
         "TBG Measured": "f",
         "Referral Source": "other",
         "Class": "negative.|806",
         "_deepnote_index_column": 3
        },
        {
         "Age": "70",
         "Sex": "F",
         "On Thyroxine": "f",
         "Query on Thyroxine": "f",
         "On Antithyroid Medication": "f",
         "Sick": "f",
         "Pregnant": "f",
         "Thyroid Surgery": "f",
         "I131 Treatment": "f",
         "Query Hypothyroid": "f",
         "Query Hyperthyroid": "f",
         "Lithium": "f",
         "Goiter": "f",
         "Tumor": "f",
         "Hypopituitary": "f",
         "Psych": "f",
         "TSH Measured": "t",
         "TSH": "0.72",
         "T3 Measured": "t",
         "T3": "1.2",
         "TT4 Measured": "t",
         "TT4": "61",
         "T4U Measured": "t",
         "T4U": "0.87",
         "FTI Measured": "t",
         "FTI": "70",
         "TBG Measured": "f",
         "Referral Source": "SVI",
         "Class": "negative.|2807",
         "_deepnote_index_column": 4
        },
        {
         "Age": "18",
         "Sex": "F",
         "On Thyroxine": "t",
         "Query on Thyroxine": "f",
         "On Antithyroid Medication": "f",
         "Sick": "f",
         "Pregnant": "f",
         "Thyroid Surgery": "f",
         "I131 Treatment": "f",
         "Query Hypothyroid": "f",
         "Query Hyperthyroid": "f",
         "Lithium": "f",
         "Goiter": "f",
         "Tumor": "f",
         "Hypopituitary": "f",
         "Psych": "f",
         "TSH Measured": "t",
         "TSH": "0.03",
         "T3 Measured": "f",
         "T3": "NaN",
         "TT4 Measured": "t",
         "TT4": "183",
         "T4U Measured": "t",
         "T4U": "1.3",
         "FTI Measured": "t",
         "FTI": "141",
         "TBG Measured": "f",
         "Referral Source": "other",
         "Class": "negative.|3434",
         "_deepnote_index_column": 5
        },
        {
         "Age": "59",
         "Sex": "F",
         "On Thyroxine": "f",
         "Query on Thyroxine": "f",
         "On Antithyroid Medication": "f",
         "Sick": "f",
         "Pregnant": "f",
         "Thyroid Surgery": "f",
         "I131 Treatment": "f",
         "Query Hypothyroid": "f",
         "Query Hyperthyroid": "f",
         "Lithium": "f",
         "Goiter": "f",
         "Tumor": "f",
         "Hypopituitary": "f",
         "Psych": "f",
         "TSH Measured": "f",
         "TSH": "NaN",
         "T3 Measured": "f",
         "T3": "NaN",
         "TT4 Measured": "t",
         "TT4": "72",
         "T4U Measured": "t",
         "T4U": "0.92",
         "FTI Measured": "t",
         "FTI": "78",
         "TBG Measured": "f",
         "Referral Source": "other",
         "Class": "negative.|1595",
         "_deepnote_index_column": 6
        },
        {
         "Age": "80",
         "Sex": "F",
         "On Thyroxine": "f",
         "Query on Thyroxine": "f",
         "On Antithyroid Medication": "f",
         "Sick": "f",
         "Pregnant": "f",
         "Thyroid Surgery": "f",
         "I131 Treatment": "f",
         "Query Hypothyroid": "f",
         "Query Hyperthyroid": "f",
         "Lithium": "f",
         "Goiter": "f",
         "Tumor": "f",
         "Hypopituitary": "f",
         "Psych": "f",
         "TSH Measured": "t",
         "TSH": "2.2",
         "T3 Measured": "t",
         "T3": "0.6",
         "TT4 Measured": "t",
         "TT4": "80",
         "T4U Measured": "t",
         "T4U": "0.7",
         "FTI Measured": "t",
         "FTI": "115",
         "TBG Measured": "f",
         "Referral Source": "SVI",
         "Class": "negative.|1367",
         "_deepnote_index_column": 7
        },
        {
         "Age": "66",
         "Sex": "F",
         "On Thyroxine": "f",
         "Query on Thyroxine": "f",
         "On Antithyroid Medication": "f",
         "Sick": "f",
         "Pregnant": "f",
         "Thyroid Surgery": "f",
         "I131 Treatment": "f",
         "Query Hypothyroid": "f",
         "Query Hyperthyroid": "f",
         "Lithium": "f",
         "Goiter": "f",
         "Tumor": "t",
         "Hypopituitary": "f",
         "Psych": "f",
         "TSH Measured": "t",
         "TSH": "0.6",
         "T3 Measured": "t",
         "T3": "2.2",
         "TT4 Measured": "t",
         "TT4": "123",
         "T4U Measured": "t",
         "T4U": "0.93",
         "FTI Measured": "t",
         "FTI": "132",
         "TBG Measured": "f",
         "Referral Source": "SVI",
         "Class": "negative.|1787",
         "_deepnote_index_column": 8
        },
        {
         "Age": "68",
         "Sex": "M",
         "On Thyroxine": "f",
         "Query on Thyroxine": "f",
         "On Antithyroid Medication": "f",
         "Sick": "f",
         "Pregnant": "f",
         "Thyroid Surgery": "f",
         "I131 Treatment": "f",
         "Query Hypothyroid": "f",
         "Query Hyperthyroid": "f",
         "Lithium": "f",
         "Goiter": "f",
         "Tumor": "f",
         "Hypopituitary": "f",
         "Psych": "f",
         "TSH Measured": "t",
         "TSH": "2.4",
         "T3 Measured": "t",
         "T3": "1.6",
         "TT4 Measured": "t",
         "TT4": "83",
         "T4U Measured": "t",
         "T4U": "0.89",
         "FTI Measured": "t",
         "FTI": "93",
         "TBG Measured": "f",
         "Referral Source": "SVI",
         "Class": "negative.|2534",
         "_deepnote_index_column": 9
        },
        {
         "Age": "84",
         "Sex": "F",
         "On Thyroxine": "f",
         "Query on Thyroxine": "f",
         "On Antithyroid Medication": "f",
         "Sick": "f",
         "Pregnant": "f",
         "Thyroid Surgery": "f",
         "I131 Treatment": "f",
         "Query Hypothyroid": "f",
         "Query Hyperthyroid": "f",
         "Lithium": "f",
         "Goiter": "f",
         "Tumor": "t",
         "Hypopituitary": "f",
         "Psych": "f",
         "TSH Measured": "t",
         "TSH": "1.1",
         "T3 Measured": "t",
         "T3": "2.2",
         "TT4 Measured": "t",
         "TT4": "115",
         "T4U Measured": "t",
         "T4U": "0.95",
         "FTI Measured": "t",
         "FTI": "121",
         "TBG Measured": "f",
         "Referral Source": "SVI",
         "Class": "negative.|1485",
         "_deepnote_index_column": 10
        },
        {
         "Age": "67",
         "Sex": "F",
         "On Thyroxine": "t",
         "Query on Thyroxine": "f",
         "On Antithyroid Medication": "f",
         "Sick": "f",
         "Pregnant": "f",
         "Thyroid Surgery": "f",
         "I131 Treatment": "f",
         "Query Hypothyroid": "f",
         "Query Hyperthyroid": "f",
         "Lithium": "f",
         "Goiter": "f",
         "Tumor": "f",
         "Hypopituitary": "f",
         "Psych": "f",
         "TSH Measured": "t",
         "TSH": "0.03",
         "T3 Measured": "f",
         "T3": "NaN",
         "TT4 Measured": "t",
         "TT4": "152",
         "T4U Measured": "t",
         "T4U": "0.99",
         "FTI Measured": "t",
         "FTI": "153",
         "TBG Measured": "f",
         "Referral Source": "other",
         "Class": "negative.|3448",
         "_deepnote_index_column": 11
        },
        {
         "Age": "71",
         "Sex": "F",
         "On Thyroxine": "f",
         "Query on Thyroxine": "f",
         "On Antithyroid Medication": "f",
         "Sick": "t",
         "Pregnant": "f",
         "Thyroid Surgery": "f",
         "I131 Treatment": "f",
         "Query Hypothyroid": "f",
         "Query Hyperthyroid": "t",
         "Lithium": "f",
         "Goiter": "f",
         "Tumor": "f",
         "Hypopituitary": "f",
         "Psych": "f",
         "TSH Measured": "t",
         "TSH": "0.03",
         "T3 Measured": "t",
         "T3": "3.8",
         "TT4 Measured": "t",
         "TT4": "171",
         "T4U Measured": "t",
         "T4U": "1.13",
         "FTI Measured": "t",
         "FTI": "151",
         "TBG Measured": "f",
         "Referral Source": "other",
         "Class": "negative.|1027",
         "_deepnote_index_column": 12
        },
        {
         "Age": "59",
         "Sex": "F",
         "On Thyroxine": "f",
         "Query on Thyroxine": "f",
         "On Antithyroid Medication": "f",
         "Sick": "f",
         "Pregnant": "f",
         "Thyroid Surgery": "f",
         "I131 Treatment": "f",
         "Query Hypothyroid": "f",
         "Query Hyperthyroid": "f",
         "Lithium": "f",
         "Goiter": "f",
         "Tumor": "f",
         "Hypopituitary": "f",
         "Psych": "f",
         "TSH Measured": "t",
         "TSH": "2.8",
         "T3 Measured": "t",
         "T3": "1.7",
         "TT4 Measured": "t",
         "TT4": "97",
         "T4U Measured": "t",
         "T4U": "0.91",
         "FTI Measured": "t",
         "FTI": "107",
         "TBG Measured": "f",
         "Referral Source": "SVI",
         "Class": "negative.|3331",
         "_deepnote_index_column": 13
        },
        {
         "Age": "28",
         "Sex": "M",
         "On Thyroxine": "f",
         "Query on Thyroxine": "f",
         "On Antithyroid Medication": "f",
         "Sick": "f",
         "Pregnant": "f",
         "Thyroid Surgery": "f",
         "I131 Treatment": "f",
         "Query Hypothyroid": "f",
         "Query Hyperthyroid": "f",
         "Lithium": "f",
         "Goiter": "f",
         "Tumor": "f",
         "Hypopituitary": "f",
         "Psych": "f",
         "TSH Measured": "t",
         "TSH": "3.3",
         "T3 Measured": "t",
         "T3": "1.8",
         "TT4 Measured": "t",
         "TT4": "109",
         "T4U Measured": "t",
         "T4U": "0.91",
         "FTI Measured": "t",
         "FTI": "119",
         "TBG Measured": "f",
         "Referral Source": "SVHC",
         "Class": "negative.|2043",
         "_deepnote_index_column": 14
        },
        {
         "Age": "65",
         "Sex": "F",
         "On Thyroxine": "f",
         "Query on Thyroxine": "f",
         "On Antithyroid Medication": "f",
         "Sick": "f",
         "Pregnant": "f",
         "Thyroid Surgery": "f",
         "I131 Treatment": "f",
         "Query Hypothyroid": "t",
         "Query Hyperthyroid": "f",
         "Lithium": "f",
         "Goiter": "f",
         "Tumor": "f",
         "Hypopituitary": "f",
         "Psych": "f",
         "TSH Measured": "t",
         "TSH": "12",
         "T3 Measured": "f",
         "T3": "NaN",
         "TT4 Measured": "t",
         "TT4": "99",
         "T4U Measured": "t",
         "T4U": "1.14",
         "FTI Measured": "t",
         "FTI": "87",
         "TBG Measured": "f",
         "Referral Source": "other",
         "Class": "compensated hypothyroid.|3169",
         "_deepnote_index_column": 15
        },
        {
         "Age": "42",
         "Sex": "NaN",
         "On Thyroxine": "f",
         "Query on Thyroxine": "f",
         "On Antithyroid Medication": "f",
         "Sick": "f",
         "Pregnant": "f",
         "Thyroid Surgery": "f",
         "I131 Treatment": "f",
         "Query Hypothyroid": "f",
         "Query Hyperthyroid": "f",
         "Lithium": "f",
         "Goiter": "f",
         "Tumor": "f",
         "Hypopituitary": "f",
         "Psych": "f",
         "TSH Measured": "t",
         "TSH": "1.2",
         "T3 Measured": "t",
         "T3": "1.8",
         "TT4 Measured": "t",
         "TT4": "70",
         "T4U Measured": "t",
         "T4U": "0.86",
         "FTI Measured": "t",
         "FTI": "81",
         "TBG Measured": "f",
         "Referral Source": "other",
         "Class": "negative.|2755",
         "_deepnote_index_column": 16
        }
       ],
       "rows_bottom": [
        {
         "Age": "82",
         "Sex": "F",
         "On Thyroxine": "f",
         "Query on Thyroxine": "f",
         "On Antithyroid Medication": "f",
         "Sick": "f",
         "Pregnant": "f",
         "Thyroid Surgery": "f",
         "I131 Treatment": "f",
         "Query Hypothyroid": "f",
         "Query Hyperthyroid": "f",
         "Lithium": "f",
         "Goiter": "f",
         "Tumor": "f",
         "Hypopituitary": "f",
         "Psych": "f",
         "TSH Measured": "t",
         "TSH": "0.5",
         "T3 Measured": "f",
         "T3": "NaN",
         "TT4 Measured": "t",
         "TT4": "125",
         "T4U Measured": "t",
         "T4U": "0.84",
         "FTI Measured": "t",
         "FTI": "149",
         "TBG Measured": "f",
         "Referral Source": "other",
         "Class": "negative.|2985",
         "_deepnote_index_column": 2783
        },
        {
         "Age": "27",
         "Sex": "F",
         "On Thyroxine": "f",
         "Query on Thyroxine": "f",
         "On Antithyroid Medication": "f",
         "Sick": "f",
         "Pregnant": "f",
         "Thyroid Surgery": "f",
         "I131 Treatment": "f",
         "Query Hypothyroid": "f",
         "Query Hyperthyroid": "f",
         "Lithium": "f",
         "Goiter": "f",
         "Tumor": "f",
         "Hypopituitary": "f",
         "Psych": "f",
         "TSH Measured": "t",
         "TSH": "1.9",
         "T3 Measured": "t",
         "T3": "1.5",
         "TT4 Measured": "t",
         "TT4": "104",
         "T4U Measured": "f",
         "T4U": "NaN",
         "FTI Measured": "f",
         "FTI": "NaN",
         "TBG Measured": "f",
         "Referral Source": "other",
         "Class": "negative.|66",
         "_deepnote_index_column": 2784
        },
        {
         "Age": "57",
         "Sex": "M",
         "On Thyroxine": "f",
         "Query on Thyroxine": "f",
         "On Antithyroid Medication": "f",
         "Sick": "t",
         "Pregnant": "f",
         "Thyroid Surgery": "f",
         "I131 Treatment": "f",
         "Query Hypothyroid": "f",
         "Query Hyperthyroid": "f",
         "Lithium": "f",
         "Goiter": "f",
         "Tumor": "f",
         "Hypopituitary": "f",
         "Psych": "f",
         "TSH Measured": "t",
         "TSH": "1",
         "T3 Measured": "t",
         "T3": "1.6",
         "TT4 Measured": "t",
         "TT4": "73",
         "T4U Measured": "t",
         "T4U": "0.97",
         "FTI Measured": "t",
         "FTI": "75",
         "TBG Measured": "f",
         "Referral Source": "SVI",
         "Class": "negative.|182",
         "_deepnote_index_column": 2785
        },
        {
         "Age": "73",
         "Sex": "NaN",
         "On Thyroxine": "f",
         "Query on Thyroxine": "f",
         "On Antithyroid Medication": "f",
         "Sick": "f",
         "Pregnant": "f",
         "Thyroid Surgery": "f",
         "I131 Treatment": "f",
         "Query Hypothyroid": "f",
         "Query Hyperthyroid": "f",
         "Lithium": "f",
         "Goiter": "f",
         "Tumor": "f",
         "Hypopituitary": "f",
         "Psych": "f",
         "TSH Measured": "t",
         "TSH": "0.015",
         "T3 Measured": "t",
         "T3": "1.8",
         "TT4 Measured": "t",
         "TT4": "173",
         "T4U Measured": "t",
         "T4U": "1",
         "FTI Measured": "t",
         "FTI": "173",
         "TBG Measured": "f",
         "Referral Source": "other",
         "Class": "negative.|2431",
         "_deepnote_index_column": 2786
        },
        {
         "Age": "58",
         "Sex": "M",
         "On Thyroxine": "f",
         "Query on Thyroxine": "f",
         "On Antithyroid Medication": "f",
         "Sick": "f",
         "Pregnant": "f",
         "Thyroid Surgery": "f",
         "I131 Treatment": "f",
         "Query Hypothyroid": "f",
         "Query Hyperthyroid": "f",
         "Lithium": "f",
         "Goiter": "f",
         "Tumor": "f",
         "Hypopituitary": "f",
         "Psych": "f",
         "TSH Measured": "f",
         "TSH": "NaN",
         "T3 Measured": "t",
         "T3": "1.6",
         "TT4 Measured": "f",
         "TT4": "NaN",
         "T4U Measured": "f",
         "T4U": "NaN",
         "FTI Measured": "f",
         "FTI": "NaN",
         "TBG Measured": "f",
         "Referral Source": "other",
         "Class": "negative.|3214",
         "_deepnote_index_column": 2787
        },
        {
         "Age": "70",
         "Sex": "M",
         "On Thyroxine": "f",
         "Query on Thyroxine": "f",
         "On Antithyroid Medication": "f",
         "Sick": "f",
         "Pregnant": "f",
         "Thyroid Surgery": "f",
         "I131 Treatment": "f",
         "Query Hypothyroid": "f",
         "Query Hyperthyroid": "f",
         "Lithium": "f",
         "Goiter": "f",
         "Tumor": "f",
         "Hypopituitary": "f",
         "Psych": "f",
         "TSH Measured": "t",
         "TSH": "1.5",
         "T3 Measured": "t",
         "T3": "1.5",
         "TT4 Measured": "t",
         "TT4": "70",
         "T4U Measured": "t",
         "T4U": "0.77",
         "FTI Measured": "t",
         "FTI": "91",
         "TBG Measured": "f",
         "Referral Source": "SVI",
         "Class": "negative.|2979",
         "_deepnote_index_column": 2788
        },
        {
         "Age": "54",
         "Sex": "F",
         "On Thyroxine": "f",
         "Query on Thyroxine": "f",
         "On Antithyroid Medication": "f",
         "Sick": "f",
         "Pregnant": "f",
         "Thyroid Surgery": "f",
         "I131 Treatment": "f",
         "Query Hypothyroid": "f",
         "Query Hyperthyroid": "f",
         "Lithium": "f",
         "Goiter": "f",
         "Tumor": "f",
         "Hypopituitary": "f",
         "Psych": "f",
         "TSH Measured": "f",
         "TSH": "NaN",
         "T3 Measured": "f",
         "T3": "NaN",
         "TT4 Measured": "f",
         "TT4": "NaN",
         "T4U Measured": "f",
         "T4U": "NaN",
         "FTI Measured": "f",
         "FTI": "NaN",
         "TBG Measured": "f",
         "Referral Source": "other",
         "Class": "negative.|451",
         "_deepnote_index_column": 2789
        },
        {
         "Age": "67",
         "Sex": "M",
         "On Thyroxine": "f",
         "Query on Thyroxine": "f",
         "On Antithyroid Medication": "f",
         "Sick": "f",
         "Pregnant": "f",
         "Thyroid Surgery": "f",
         "I131 Treatment": "f",
         "Query Hypothyroid": "t",
         "Query Hyperthyroid": "f",
         "Lithium": "f",
         "Goiter": "f",
         "Tumor": "f",
         "Hypopituitary": "f",
         "Psych": "f",
         "TSH Measured": "t",
         "TSH": "2.1",
         "T3 Measured": "t",
         "T3": "2",
         "TT4 Measured": "t",
         "TT4": "83",
         "T4U Measured": "t",
         "T4U": "0.96",
         "FTI Measured": "t",
         "FTI": "87",
         "TBG Measured": "f",
         "Referral Source": "SVI",
         "Class": "negative.|60",
         "_deepnote_index_column": 2790
        },
        {
         "Age": "68",
         "Sex": "F",
         "On Thyroxine": "f",
         "Query on Thyroxine": "f",
         "On Antithyroid Medication": "f",
         "Sick": "f",
         "Pregnant": "f",
         "Thyroid Surgery": "f",
         "I131 Treatment": "f",
         "Query Hypothyroid": "f",
         "Query Hyperthyroid": "f",
         "Lithium": "f",
         "Goiter": "f",
         "Tumor": "f",
         "Hypopituitary": "f",
         "Psych": "f",
         "TSH Measured": "t",
         "TSH": "1",
         "T3 Measured": "f",
         "T3": "NaN",
         "TT4 Measured": "t",
         "TT4": "103",
         "T4U Measured": "t",
         "T4U": "1.01",
         "FTI Measured": "t",
         "FTI": "102",
         "TBG Measured": "f",
         "Referral Source": "SVI",
         "Class": "negative.|3622",
         "_deepnote_index_column": 2791
        },
        {
         "Age": "63",
         "Sex": "NaN",
         "On Thyroxine": "f",
         "Query on Thyroxine": "f",
         "On Antithyroid Medication": "f",
         "Sick": "f",
         "Pregnant": "f",
         "Thyroid Surgery": "f",
         "I131 Treatment": "f",
         "Query Hypothyroid": "f",
         "Query Hyperthyroid": "f",
         "Lithium": "f",
         "Goiter": "f",
         "Tumor": "f",
         "Hypopituitary": "f",
         "Psych": "f",
         "TSH Measured": "f",
         "TSH": "NaN",
         "T3 Measured": "f",
         "T3": "NaN",
         "TT4 Measured": "f",
         "TT4": "NaN",
         "T4U Measured": "f",
         "T4U": "NaN",
         "FTI Measured": "f",
         "FTI": "NaN",
         "TBG Measured": "f",
         "Referral Source": "other",
         "Class": "negative.|2383",
         "_deepnote_index_column": 2792
        },
        {
         "Age": "82",
         "Sex": "F",
         "On Thyroxine": "f",
         "Query on Thyroxine": "f",
         "On Antithyroid Medication": "f",
         "Sick": "f",
         "Pregnant": "f",
         "Thyroid Surgery": "f",
         "I131 Treatment": "f",
         "Query Hypothyroid": "f",
         "Query Hyperthyroid": "f",
         "Lithium": "f",
         "Goiter": "f",
         "Tumor": "f",
         "Hypopituitary": "f",
         "Psych": "f",
         "TSH Measured": "t",
         "TSH": "0.03",
         "T3 Measured": "t",
         "T3": "1.4",
         "TT4 Measured": "t",
         "TT4": "74",
         "T4U Measured": "t",
         "T4U": "0.52",
         "FTI Measured": "t",
         "FTI": "143",
         "TBG Measured": "f",
         "Referral Source": "other",
         "Class": "negative.|1084",
         "_deepnote_index_column": 2793
        },
        {
         "Age": "25",
         "Sex": "F",
         "On Thyroxine": "f",
         "Query on Thyroxine": "f",
         "On Antithyroid Medication": "f",
         "Sick": "f",
         "Pregnant": "f",
         "Thyroid Surgery": "f",
         "I131 Treatment": "f",
         "Query Hypothyroid": "f",
         "Query Hyperthyroid": "f",
         "Lithium": "f",
         "Goiter": "f",
         "Tumor": "f",
         "Hypopituitary": "f",
         "Psych": "f",
         "TSH Measured": "t",
         "TSH": "1.9",
         "T3 Measured": "t",
         "T3": "1.7",
         "TT4 Measured": "t",
         "TT4": "167",
         "T4U Measured": "t",
         "T4U": "1.21",
         "FTI Measured": "t",
         "FTI": "137",
         "TBG Measured": "f",
         "Referral Source": "other",
         "Class": "negative.|2245",
         "_deepnote_index_column": 2794
        },
        {
         "Age": "70",
         "Sex": "M",
         "On Thyroxine": "f",
         "Query on Thyroxine": "f",
         "On Antithyroid Medication": "f",
         "Sick": "f",
         "Pregnant": "f",
         "Thyroid Surgery": "f",
         "I131 Treatment": "f",
         "Query Hypothyroid": "f",
         "Query Hyperthyroid": "f",
         "Lithium": "f",
         "Goiter": "f",
         "Tumor": "f",
         "Hypopituitary": "f",
         "Psych": "f",
         "TSH Measured": "t",
         "TSH": "2.7",
         "T3 Measured": "f",
         "T3": "NaN",
         "TT4 Measured": "t",
         "TT4": "155",
         "T4U Measured": "t",
         "T4U": "1.05",
         "FTI Measured": "t",
         "FTI": "148",
         "TBG Measured": "f",
         "Referral Source": "SVI",
         "Class": "negative.|3689",
         "_deepnote_index_column": 2795
        },
        {
         "Age": "73",
         "Sex": "M",
         "On Thyroxine": "f",
         "Query on Thyroxine": "t",
         "On Antithyroid Medication": "f",
         "Sick": "f",
         "Pregnant": "f",
         "Thyroid Surgery": "f",
         "I131 Treatment": "f",
         "Query Hypothyroid": "f",
         "Query Hyperthyroid": "f",
         "Lithium": "f",
         "Goiter": "f",
         "Tumor": "f",
         "Hypopituitary": "f",
         "Psych": "f",
         "TSH Measured": "f",
         "TSH": "NaN",
         "T3 Measured": "t",
         "T3": "0.7",
         "TT4 Measured": "t",
         "TT4": "63",
         "T4U Measured": "t",
         "T4U": "0.88",
         "FTI Measured": "t",
         "FTI": "72",
         "TBG Measured": "f",
         "Referral Source": "other",
         "Class": "negative.|3652",
         "_deepnote_index_column": 2796
        },
        {
         "Age": "75",
         "Sex": "M",
         "On Thyroxine": "f",
         "Query on Thyroxine": "f",
         "On Antithyroid Medication": "f",
         "Sick": "f",
         "Pregnant": "f",
         "Thyroid Surgery": "f",
         "I131 Treatment": "f",
         "Query Hypothyroid": "f",
         "Query Hyperthyroid": "t",
         "Lithium": "f",
         "Goiter": "f",
         "Tumor": "f",
         "Hypopituitary": "f",
         "Psych": "f",
         "TSH Measured": "f",
         "TSH": "NaN",
         "T3 Measured": "f",
         "T3": "NaN",
         "TT4 Measured": "t",
         "TT4": "147",
         "T4U Measured": "t",
         "T4U": "0.8",
         "FTI Measured": "t",
         "FTI": "183",
         "TBG Measured": "f",
         "Referral Source": "other",
         "Class": "negative.|1287",
         "_deepnote_index_column": 2797
        },
        {
         "Age": "60",
         "Sex": "F",
         "On Thyroxine": "f",
         "Query on Thyroxine": "f",
         "On Antithyroid Medication": "f",
         "Sick": "f",
         "Pregnant": "f",
         "Thyroid Surgery": "f",
         "I131 Treatment": "f",
         "Query Hypothyroid": "f",
         "Query Hyperthyroid": "f",
         "Lithium": "f",
         "Goiter": "f",
         "Tumor": "f",
         "Hypopituitary": "f",
         "Psych": "f",
         "TSH Measured": "t",
         "TSH": "1.4",
         "T3 Measured": "f",
         "T3": "NaN",
         "TT4 Measured": "t",
         "TT4": "100",
         "T4U Measured": "t",
         "T4U": "0.83",
         "FTI Measured": "t",
         "FTI": "121",
         "TBG Measured": "f",
         "Referral Source": "other",
         "Class": "negative.|3496",
         "_deepnote_index_column": 2798
        },
        {
         "Age": "81",
         "Sex": "F",
         "On Thyroxine": "f",
         "Query on Thyroxine": "f",
         "On Antithyroid Medication": "f",
         "Sick": "f",
         "Pregnant": "f",
         "Thyroid Surgery": "f",
         "I131 Treatment": "f",
         "Query Hypothyroid": "f",
         "Query Hyperthyroid": "f",
         "Lithium": "f",
         "Goiter": "f",
         "Tumor": "f",
         "Hypopituitary": "f",
         "Psych": "f",
         "TSH Measured": "t",
         "TSH": "1.2",
         "T3 Measured": "t",
         "T3": "1.5",
         "TT4 Measured": "t",
         "TT4": "114",
         "T4U Measured": "t",
         "T4U": "0.99",
         "FTI Measured": "t",
         "FTI": "115",
         "TBG Measured": "f",
         "Referral Source": "SVI",
         "Class": "negative.|724",
         "_deepnote_index_column": 2799
        }
       ]
      },
      "text/plain": "     Age Sex On Thyroxine Query on Thyroxine On Antithyroid Medication Sick  \\\n0     41   F            f                  f                         f    f   \n1     23   F            f                  f                         f    f   \n2     46   M            f                  f                         f    f   \n3     70   F            t                  f                         f    f   \n4     70   F            f                  f                         f    f   \n...   ..  ..          ...                ...                       ...  ...   \n2795  70   M            f                  f                         f    f   \n2796  73   M            f                  t                         f    f   \n2797  75   M            f                  f                         f    f   \n2798  60   F            f                  f                         f    f   \n2799  81   F            f                  f                         f    f   \n\n     Pregnant Thyroid Surgery I131 Treatment Query Hypothyroid  ...   T3  \\\n0           f               f              f                 f  ...  2.5   \n1           f               f              f                 f  ...    2   \n2           f               f              f                 f  ...  NaN   \n3           f               f              f                 f  ...  1.9   \n4           f               f              f                 f  ...  1.2   \n...       ...             ...            ...               ...  ...  ...   \n2795        f               f              f                 f  ...  NaN   \n2796        f               f              f                 f  ...  0.7   \n2797        f               f              f                 f  ...  NaN   \n2798        f               f              f                 f  ...  NaN   \n2799        f               f              f                 f  ...  1.5   \n\n     TT4 Measured  TT4 T4U Measured   T4U FTI Measured  FTI TBG Measured  \\\n0               t  125            t  1.14            t  109            f   \n1               t  102            f   NaN            f  NaN            f   \n2               t  109            t  0.91            t  120            f   \n3               t  175            f   NaN            f  NaN            f   \n4               t   61            t  0.87            t   70            f   \n...           ...  ...          ...   ...          ...  ...          ...   \n2795            t  155            t  1.05            t  148            f   \n2796            t   63            t  0.88            t   72            f   \n2797            t  147            t   0.8            t  183            f   \n2798            t  100            t  0.83            t  121            f   \n2799            t  114            t  0.99            t  115            f   \n\n     Referral Source           Class  \n0               SVHC  negative.|3733  \n1              other  negative.|1442  \n2              other  negative.|2965  \n3              other   negative.|806  \n4                SVI  negative.|2807  \n...              ...             ...  \n2795             SVI  negative.|3689  \n2796           other  negative.|3652  \n2797           other  negative.|1287  \n2798           other  negative.|3496  \n2799             SVI   negative.|724  \n\n[2800 rows x 29 columns]",
      "text/html": "<div>\n<style scoped>\n    .dataframe tbody tr th:only-of-type {\n        vertical-align: middle;\n    }\n\n    .dataframe tbody tr th {\n        vertical-align: top;\n    }\n\n    .dataframe thead th {\n        text-align: right;\n    }\n</style>\n<table border=\"1\" class=\"dataframe\">\n  <thead>\n    <tr style=\"text-align: right;\">\n      <th></th>\n      <th>Age</th>\n      <th>Sex</th>\n      <th>On Thyroxine</th>\n      <th>Query on Thyroxine</th>\n      <th>On Antithyroid Medication</th>\n      <th>Sick</th>\n      <th>Pregnant</th>\n      <th>Thyroid Surgery</th>\n      <th>I131 Treatment</th>\n      <th>Query Hypothyroid</th>\n      <th>...</th>\n      <th>T3</th>\n      <th>TT4 Measured</th>\n      <th>TT4</th>\n      <th>T4U Measured</th>\n      <th>T4U</th>\n      <th>FTI Measured</th>\n      <th>FTI</th>\n      <th>TBG Measured</th>\n      <th>Referral Source</th>\n      <th>Class</th>\n    </tr>\n  </thead>\n  <tbody>\n    <tr>\n      <th>0</th>\n      <td>41</td>\n      <td>F</td>\n      <td>f</td>\n      <td>f</td>\n      <td>f</td>\n      <td>f</td>\n      <td>f</td>\n      <td>f</td>\n      <td>f</td>\n      <td>f</td>\n      <td>...</td>\n      <td>2.5</td>\n      <td>t</td>\n      <td>125</td>\n      <td>t</td>\n      <td>1.14</td>\n      <td>t</td>\n      <td>109</td>\n      <td>f</td>\n      <td>SVHC</td>\n      <td>negative.|3733</td>\n    </tr>\n    <tr>\n      <th>1</th>\n      <td>23</td>\n      <td>F</td>\n      <td>f</td>\n      <td>f</td>\n      <td>f</td>\n      <td>f</td>\n      <td>f</td>\n      <td>f</td>\n      <td>f</td>\n      <td>f</td>\n      <td>...</td>\n      <td>2</td>\n      <td>t</td>\n      <td>102</td>\n      <td>f</td>\n      <td>NaN</td>\n      <td>f</td>\n      <td>NaN</td>\n      <td>f</td>\n      <td>other</td>\n      <td>negative.|1442</td>\n    </tr>\n    <tr>\n      <th>2</th>\n      <td>46</td>\n      <td>M</td>\n      <td>f</td>\n      <td>f</td>\n      <td>f</td>\n      <td>f</td>\n      <td>f</td>\n      <td>f</td>\n      <td>f</td>\n      <td>f</td>\n      <td>...</td>\n      <td>NaN</td>\n      <td>t</td>\n      <td>109</td>\n      <td>t</td>\n      <td>0.91</td>\n      <td>t</td>\n      <td>120</td>\n      <td>f</td>\n      <td>other</td>\n      <td>negative.|2965</td>\n    </tr>\n    <tr>\n      <th>3</th>\n      <td>70</td>\n      <td>F</td>\n      <td>t</td>\n      <td>f</td>\n      <td>f</td>\n      <td>f</td>\n      <td>f</td>\n      <td>f</td>\n      <td>f</td>\n      <td>f</td>\n      <td>...</td>\n      <td>1.9</td>\n      <td>t</td>\n      <td>175</td>\n      <td>f</td>\n      <td>NaN</td>\n      <td>f</td>\n      <td>NaN</td>\n      <td>f</td>\n      <td>other</td>\n      <td>negative.|806</td>\n    </tr>\n    <tr>\n      <th>4</th>\n      <td>70</td>\n      <td>F</td>\n      <td>f</td>\n      <td>f</td>\n      <td>f</td>\n      <td>f</td>\n      <td>f</td>\n      <td>f</td>\n      <td>f</td>\n      <td>f</td>\n      <td>...</td>\n      <td>1.2</td>\n      <td>t</td>\n      <td>61</td>\n      <td>t</td>\n      <td>0.87</td>\n      <td>t</td>\n      <td>70</td>\n      <td>f</td>\n      <td>SVI</td>\n      <td>negative.|2807</td>\n    </tr>\n    <tr>\n      <th>...</th>\n      <td>...</td>\n      <td>...</td>\n      <td>...</td>\n      <td>...</td>\n      <td>...</td>\n      <td>...</td>\n      <td>...</td>\n      <td>...</td>\n      <td>...</td>\n      <td>...</td>\n      <td>...</td>\n      <td>...</td>\n      <td>...</td>\n      <td>...</td>\n      <td>...</td>\n      <td>...</td>\n      <td>...</td>\n      <td>...</td>\n      <td>...</td>\n      <td>...</td>\n      <td>...</td>\n    </tr>\n    <tr>\n      <th>2795</th>\n      <td>70</td>\n      <td>M</td>\n      <td>f</td>\n      <td>f</td>\n      <td>f</td>\n      <td>f</td>\n      <td>f</td>\n      <td>f</td>\n      <td>f</td>\n      <td>f</td>\n      <td>...</td>\n      <td>NaN</td>\n      <td>t</td>\n      <td>155</td>\n      <td>t</td>\n      <td>1.05</td>\n      <td>t</td>\n      <td>148</td>\n      <td>f</td>\n      <td>SVI</td>\n      <td>negative.|3689</td>\n    </tr>\n    <tr>\n      <th>2796</th>\n      <td>73</td>\n      <td>M</td>\n      <td>f</td>\n      <td>t</td>\n      <td>f</td>\n      <td>f</td>\n      <td>f</td>\n      <td>f</td>\n      <td>f</td>\n      <td>f</td>\n      <td>...</td>\n      <td>0.7</td>\n      <td>t</td>\n      <td>63</td>\n      <td>t</td>\n      <td>0.88</td>\n      <td>t</td>\n      <td>72</td>\n      <td>f</td>\n      <td>other</td>\n      <td>negative.|3652</td>\n    </tr>\n    <tr>\n      <th>2797</th>\n      <td>75</td>\n      <td>M</td>\n      <td>f</td>\n      <td>f</td>\n      <td>f</td>\n      <td>f</td>\n      <td>f</td>\n      <td>f</td>\n      <td>f</td>\n      <td>f</td>\n      <td>...</td>\n      <td>NaN</td>\n      <td>t</td>\n      <td>147</td>\n      <td>t</td>\n      <td>0.8</td>\n      <td>t</td>\n      <td>183</td>\n      <td>f</td>\n      <td>other</td>\n      <td>negative.|1287</td>\n    </tr>\n    <tr>\n      <th>2798</th>\n      <td>60</td>\n      <td>F</td>\n      <td>f</td>\n      <td>f</td>\n      <td>f</td>\n      <td>f</td>\n      <td>f</td>\n      <td>f</td>\n      <td>f</td>\n      <td>f</td>\n      <td>...</td>\n      <td>NaN</td>\n      <td>t</td>\n      <td>100</td>\n      <td>t</td>\n      <td>0.83</td>\n      <td>t</td>\n      <td>121</td>\n      <td>f</td>\n      <td>other</td>\n      <td>negative.|3496</td>\n    </tr>\n    <tr>\n      <th>2799</th>\n      <td>81</td>\n      <td>F</td>\n      <td>f</td>\n      <td>f</td>\n      <td>f</td>\n      <td>f</td>\n      <td>f</td>\n      <td>f</td>\n      <td>f</td>\n      <td>f</td>\n      <td>...</td>\n      <td>1.5</td>\n      <td>t</td>\n      <td>114</td>\n      <td>t</td>\n      <td>0.99</td>\n      <td>t</td>\n      <td>115</td>\n      <td>f</td>\n      <td>SVI</td>\n      <td>negative.|724</td>\n    </tr>\n  </tbody>\n</table>\n<p>2800 rows × 29 columns</p>\n</div>"
     },
     "metadata": {}
    }
   ],
   "execution_count": null
  },
  {
   "cell_type": "markdown",
   "source": "All right, let's take a look now at the info of *just the numeric columns* in the dataset:",
   "metadata": {
    "colab_type": "text",
    "id": "DTjWD_ddCHsA",
    "cell_id": "00015-ff8e61fb-32a7-43f3-bcb4-926e42ac0a77",
    "deepnote_cell_type": "markdown"
   }
  },
  {
   "cell_type": "code",
   "metadata": {
    "colab": {
     "autoexec": {
      "startup": false,
      "wait_interval": 0
     }
    },
    "colab_type": "code",
    "id": "00OaxCAbzRvA",
    "cell_id": "00016-2494c0dd-69f5-4ac5-a081-dfebc59f999c",
    "deepnote_to_be_reexecuted": false,
    "source_hash": "f717e30c",
    "execution_start": 1625692499045,
    "execution_millis": 23,
    "deepnote_cell_type": "code"
   },
   "source": "dataset[numeric_columns].info()",
   "outputs": [
    {
     "name": "stdout",
     "text": "<class 'pandas.core.frame.DataFrame'>\nRangeIndex: 2800 entries, 0 to 2799\nData columns (total 6 columns):\n #   Column  Non-Null Count  Dtype \n---  ------  --------------  ----- \n 0   Age     2800 non-null   object\n 1   TSH     2800 non-null   object\n 2   T3      2800 non-null   object\n 3   TT4     2800 non-null   object\n 4   T4U     2800 non-null   object\n 5   FTI     2800 non-null   object\ndtypes: object(6)\nmemory usage: 131.4+ KB\n",
     "output_type": "stream"
    }
   ],
   "execution_count": null
  },
  {
   "cell_type": "markdown",
   "source": "Let's run the describe() function on just the \"class\" column.",
   "metadata": {
    "colab_type": "text",
    "id": "KYOwWnpqhQvd",
    "cell_id": "00019-66ba0c9c-aabd-4e07-a944-81504329dd89",
    "deepnote_cell_type": "markdown"
   }
  },
  {
   "cell_type": "code",
   "metadata": {
    "colab": {
     "autoexec": {
      "startup": false,
      "wait_interval": 0
     },
     "base_uri": "https://localhost:8080/",
     "height": 105
    },
    "colab_type": "code",
    "executionInfo": {
     "elapsed": 272,
     "status": "ok",
     "timestamp": 1531117211963,
     "user": {
      "displayName": "Lyle Lalunio",
      "photoUrl": "https://lh3.googleusercontent.com/a/default-user=s128",
      "userId": "108954789805627648380"
     },
     "user_tz": 240
    },
    "id": "cq_v45R8hP5A",
    "outputId": "5db97e80-a424-49c9-d58f-a7126894d1c6",
    "cell_id": "00020-1367e747-df0b-414e-b579-f4332435c8e1",
    "deepnote_to_be_reexecuted": false,
    "source_hash": "f29a88f5",
    "execution_start": 1625692499085,
    "execution_millis": 810,
    "deepnote_cell_type": "code"
   },
   "source": "def format_class_labels(df):\n    \n    import re \n    \n    # regex the weird class labels out\n    regex_pattern = ( \"\\.\\|\\d+\")\n\n    for index, row in df.iterrows():\n\n        # substitute instances of our regex_pattern for an empty string\n        new_class = re.sub(regex_pattern, '', row['Class'])\n        df.loc[index, 'Class'] = new_class\n\n    return df\n    \n\ndataset = format_class_labels(dataset)\ndataset['Class'].describe()",
   "outputs": [
    {
     "output_type": "execute_result",
     "execution_count": 7,
     "data": {
      "text/plain": "count         2800\nunique           4\ntop       negative\nfreq          2580\nName: Class, dtype: object"
     },
     "metadata": {}
    }
   ],
   "execution_count": null
  },
  {
   "cell_type": "markdown",
   "source": "It looks like there are actually 4 unique classification variables! Thank goodness we didn't assume it was binary.\n\nDisplay all the unique values in the class column.",
   "metadata": {
    "colab_type": "text",
    "id": "m6S7Y6VXhYct",
    "cell_id": "00021-214b1f27-55d2-4b14-962a-ee2f6a40d7a6",
    "deepnote_cell_type": "markdown"
   }
  },
  {
   "cell_type": "code",
   "metadata": {
    "colab": {
     "autoexec": {
      "startup": false,
      "wait_interval": 0
     }
    },
    "colab_type": "code",
    "id": "oH0fTzzvE-oF",
    "cell_id": "00022-2741982f-4184-478c-8307-06e618d5d71a",
    "deepnote_to_be_reexecuted": false,
    "source_hash": "edb0a008",
    "execution_start": 1625692499938,
    "execution_millis": 7,
    "deepnote_cell_type": "code"
   },
   "source": "### Your code here\n\nfrom collections import Counter\n\nCounter(dataset['Class'])",
   "outputs": [
    {
     "output_type": "execute_result",
     "execution_count": 8,
     "data": {
      "text/plain": "Counter({'negative': 2580,\n         'compensated hypothyroid': 154,\n         'primary hypothyroid': 64,\n         'secondary hypothyroid': 2})"
     },
     "metadata": {}
    }
   ],
   "execution_count": null
  },
  {
   "cell_type": "markdown",
   "source": "But let's make it binary for the sake of this example anyway. If you finish early later on, try the multiclass classifier with all 4 values!",
   "metadata": {
    "colab_type": "text",
    "id": "aBrmRJHakpWm",
    "cell_id": "00023-d91a3557-da51-49d2-a0b0-b1ba913c638f",
    "deepnote_cell_type": "markdown"
   }
  },
  {
   "cell_type": "code",
   "metadata": {
    "colab": {
     "autoexec": {
      "startup": false,
      "wait_interval": 0
     }
    },
    "colab_type": "code",
    "id": "HwqVoUFTkoa0",
    "cell_id": "00024-df72775d-91e6-4626-b40c-db048f27370d",
    "deepnote_to_be_reexecuted": false,
    "source_hash": "873c9e89",
    "execution_start": 1625692499982,
    "execution_millis": 157,
    "deepnote_cell_type": "code"
   },
   "source": "### Your code here\n\ndef binary_classes(df):\n\n    # set all negative class labels to 0, all others to 1\n    df['Class'] = df['Class'].replace('negative', 0)                    \n    df['Class'] = df['Class'].replace('compensated hypothyroid', 1)     \n    df['Class'] = df['Class'].replace('primary hypothyroid', 1)         \n    df['Class'] = df['Class'].replace('secondary hypothyroid', 1)\n\n    return df\n\n\ndataset = binary_classes(dataset)\ndataset\n    \n    ",
   "outputs": [
    {
     "output_type": "execute_result",
     "execution_count": 9,
     "data": {
      "application/vnd.deepnote.dataframe.v2+json": {
       "row_count": 2800,
       "column_count": 30,
       "columns": [
        {
         "name": "Age",
         "dtype": "object",
         "stats": {
          "unique_count": 94,
          "nan_count": 0,
          "categories": [
           {
            "name": "59",
            "count": 75
           },
           {
            "name": "70",
            "count": 74
           },
           {
            "name": "92 others",
            "count": 2651
           }
          ]
         }
        },
        {
         "name": "Sex",
         "dtype": "object",
         "stats": {
          "unique_count": 3,
          "nan_count": 0,
          "categories": [
           {
            "name": "F",
            "count": 1830
           },
           {
            "name": "M",
            "count": 860
           },
           {
            "name": "NaN",
            "count": 110
           }
          ]
         }
        },
        {
         "name": "On Thyroxine",
         "dtype": "object",
         "stats": {
          "unique_count": 2,
          "nan_count": 0,
          "categories": [
           {
            "name": "f",
            "count": 2470
           },
           {
            "name": "t",
            "count": 330
           }
          ]
         }
        },
        {
         "name": "Query on Thyroxine",
         "dtype": "object",
         "stats": {
          "unique_count": 2,
          "nan_count": 0,
          "categories": [
           {
            "name": "f",
            "count": 2760
           },
           {
            "name": "t",
            "count": 40
           }
          ]
         }
        },
        {
         "name": "On Antithyroid Medication",
         "dtype": "object",
         "stats": {
          "unique_count": 2,
          "nan_count": 0,
          "categories": [
           {
            "name": "f",
            "count": 2766
           },
           {
            "name": "t",
            "count": 34
           }
          ]
         }
        },
        {
         "name": "Sick",
         "dtype": "object",
         "stats": {
          "unique_count": 2,
          "nan_count": 0,
          "categories": [
           {
            "name": "f",
            "count": 2690
           },
           {
            "name": "t",
            "count": 110
           }
          ]
         }
        },
        {
         "name": "Pregnant",
         "dtype": "object",
         "stats": {
          "unique_count": 2,
          "nan_count": 0,
          "categories": [
           {
            "name": "f",
            "count": 2759
           },
           {
            "name": "t",
            "count": 41
           }
          ]
         }
        },
        {
         "name": "Thyroid Surgery",
         "dtype": "object",
         "stats": {
          "unique_count": 2,
          "nan_count": 0,
          "categories": [
           {
            "name": "f",
            "count": 2761
           },
           {
            "name": "t",
            "count": 39
           }
          ]
         }
        },
        {
         "name": "I131 Treatment",
         "dtype": "object",
         "stats": {
          "unique_count": 2,
          "nan_count": 0,
          "categories": [
           {
            "name": "f",
            "count": 2752
           },
           {
            "name": "t",
            "count": 48
           }
          ]
         }
        },
        {
         "name": "Query Hypothyroid",
         "dtype": "object",
         "stats": {
          "unique_count": 2,
          "nan_count": 0,
          "categories": [
           {
            "name": "f",
            "count": 2637
           },
           {
            "name": "t",
            "count": 163
           }
          ]
         }
        },
        {
         "name": "Query Hyperthyroid",
         "dtype": "object",
         "stats": {
          "unique_count": 2,
          "nan_count": 0,
          "categories": [
           {
            "name": "f",
            "count": 2627
           },
           {
            "name": "t",
            "count": 173
           }
          ]
         }
        },
        {
         "name": "Lithium",
         "dtype": "object",
         "stats": {
          "unique_count": 2,
          "nan_count": 0,
          "categories": [
           {
            "name": "f",
            "count": 2786
           },
           {
            "name": "t",
            "count": 14
           }
          ]
         }
        },
        {
         "name": "Goiter",
         "dtype": "object",
         "stats": {
          "unique_count": 2,
          "nan_count": 0,
          "categories": [
           {
            "name": "f",
            "count": 2775
           },
           {
            "name": "t",
            "count": 25
           }
          ]
         }
        },
        {
         "name": "Tumor",
         "dtype": "object",
         "stats": {
          "unique_count": 2,
          "nan_count": 0,
          "categories": [
           {
            "name": "f",
            "count": 2729
           },
           {
            "name": "t",
            "count": 71
           }
          ]
         }
        },
        {
         "name": "Hypopituitary",
         "dtype": "object",
         "stats": {
          "unique_count": 2,
          "nan_count": 0,
          "categories": [
           {
            "name": "f",
            "count": 2799
           },
           {
            "name": "t",
            "count": 1
           }
          ]
         }
        },
        {
         "name": "Psych",
         "dtype": "object",
         "stats": {
          "unique_count": 2,
          "nan_count": 0,
          "categories": [
           {
            "name": "f",
            "count": 2665
           },
           {
            "name": "t",
            "count": 135
           }
          ]
         }
        },
        {
         "name": "TSH Measured",
         "dtype": "object",
         "stats": {
          "unique_count": 2,
          "nan_count": 0,
          "categories": [
           {
            "name": "t",
            "count": 2516
           },
           {
            "name": "f",
            "count": 284
           }
          ]
         }
        },
        {
         "name": "TSH",
         "dtype": "object",
         "stats": {
          "unique_count": 264,
          "nan_count": 0,
          "categories": [
           {
            "name": "NaN",
            "count": 284
           },
           {
            "name": "0.2",
            "count": 88
           },
           {
            "name": "262 others",
            "count": 2428
           }
          ]
         }
        },
        {
         "name": "T3 Measured",
         "dtype": "object",
         "stats": {
          "unique_count": 2,
          "nan_count": 0,
          "categories": [
           {
            "name": "t",
            "count": 2215
           },
           {
            "name": "f",
            "count": 585
           }
          ]
         }
        },
        {
         "name": "T3",
         "dtype": "object",
         "stats": {
          "unique_count": 65,
          "nan_count": 0,
          "categories": [
           {
            "name": "NaN",
            "count": 585
           },
           {
            "name": "2",
            "count": 169
           },
           {
            "name": "63 others",
            "count": 2046
           }
          ]
         }
        },
        {
         "name": "TT4 Measured",
         "dtype": "object",
         "stats": {
          "unique_count": 2,
          "nan_count": 0,
          "categories": [
           {
            "name": "t",
            "count": 2616
           },
           {
            "name": "f",
            "count": 184
           }
          ]
         }
        },
        {
         "name": "TT4",
         "dtype": "object",
         "stats": {
          "unique_count": 218,
          "nan_count": 0,
          "categories": [
           {
            "name": "NaN",
            "count": 184
           },
           {
            "name": "101",
            "count": 62
           },
           {
            "name": "216 others",
            "count": 2554
           }
          ]
         }
        },
        {
         "name": "T4U Measured",
         "dtype": "object",
         "stats": {
          "unique_count": 2,
          "nan_count": 0,
          "categories": [
           {
            "name": "t",
            "count": 2503
           },
           {
            "name": "f",
            "count": 297
           }
          ]
         }
        },
        {
         "name": "T4U",
         "dtype": "object",
         "stats": {
          "unique_count": 139,
          "nan_count": 0,
          "categories": [
           {
            "name": "NaN",
            "count": 297
           },
           {
            "name": "0.99",
            "count": 81
           },
           {
            "name": "137 others",
            "count": 2422
           }
          ]
         }
        },
        {
         "name": "FTI Measured",
         "dtype": "object",
         "stats": {
          "unique_count": 2,
          "nan_count": 0,
          "categories": [
           {
            "name": "t",
            "count": 2505
           },
           {
            "name": "f",
            "count": 295
           }
          ]
         }
        },
        {
         "name": "FTI",
         "dtype": "object",
         "stats": {
          "unique_count": 210,
          "nan_count": 0,
          "categories": [
           {
            "name": "NaN",
            "count": 295
           },
           {
            "name": "107",
            "count": 52
           },
           {
            "name": "208 others",
            "count": 2453
           }
          ]
         }
        },
        {
         "name": "TBG Measured",
         "dtype": "object",
         "stats": {
          "unique_count": 1,
          "nan_count": 0,
          "categories": [
           {
            "name": "f",
            "count": 2800
           }
          ]
         }
        },
        {
         "name": "TBG",
         "dtype": "object",
         "stats": {
          "unique_count": 1,
          "nan_count": 0,
          "categories": [
           {
            "name": "NaN",
            "count": 2800
           }
          ]
         }
        },
        {
         "name": "Referral Source",
         "dtype": "object",
         "stats": {
          "unique_count": 5,
          "nan_count": 0,
          "categories": [
           {
            "name": "other",
            "count": 1632
           },
           {
            "name": "SVI",
            "count": 771
           },
           {
            "name": "3 others",
            "count": 397
           }
          ]
         }
        },
        {
         "name": "Class",
         "dtype": "int64",
         "stats": {
          "unique_count": 2,
          "nan_count": 0,
          "min": "0",
          "max": "1",
          "histogram": [
           {
            "bin_start": 0,
            "bin_end": 0.1,
            "count": 2580
           },
           {
            "bin_start": 0.1,
            "bin_end": 0.2,
            "count": 0
           },
           {
            "bin_start": 0.2,
            "bin_end": 0.30000000000000004,
            "count": 0
           },
           {
            "bin_start": 0.30000000000000004,
            "bin_end": 0.4,
            "count": 0
           },
           {
            "bin_start": 0.4,
            "bin_end": 0.5,
            "count": 0
           },
           {
            "bin_start": 0.5,
            "bin_end": 0.6000000000000001,
            "count": 0
           },
           {
            "bin_start": 0.6000000000000001,
            "bin_end": 0.7000000000000001,
            "count": 0
           },
           {
            "bin_start": 0.7000000000000001,
            "bin_end": 0.8,
            "count": 0
           },
           {
            "bin_start": 0.8,
            "bin_end": 0.9,
            "count": 0
           },
           {
            "bin_start": 0.9,
            "bin_end": 1,
            "count": 220
           }
          ]
         }
        },
        {
         "name": "_deepnote_index_column",
         "dtype": "int64"
        }
       ],
       "rows_top": [
        {
         "Age": "41",
         "Sex": "F",
         "On Thyroxine": "f",
         "Query on Thyroxine": "f",
         "On Antithyroid Medication": "f",
         "Sick": "f",
         "Pregnant": "f",
         "Thyroid Surgery": "f",
         "I131 Treatment": "f",
         "Query Hypothyroid": "f",
         "Query Hyperthyroid": "f",
         "Lithium": "f",
         "Goiter": "f",
         "Tumor": "f",
         "Hypopituitary": "f",
         "Psych": "f",
         "TSH Measured": "t",
         "TSH": "1.3",
         "T3 Measured": "t",
         "T3": "2.5",
         "TT4 Measured": "t",
         "TT4": "125",
         "T4U Measured": "t",
         "T4U": "1.14",
         "FTI Measured": "t",
         "FTI": "109",
         "TBG Measured": "f",
         "TBG": "NaN",
         "Referral Source": "SVHC",
         "Class": 0,
         "_deepnote_index_column": 0
        },
        {
         "Age": "23",
         "Sex": "F",
         "On Thyroxine": "f",
         "Query on Thyroxine": "f",
         "On Antithyroid Medication": "f",
         "Sick": "f",
         "Pregnant": "f",
         "Thyroid Surgery": "f",
         "I131 Treatment": "f",
         "Query Hypothyroid": "f",
         "Query Hyperthyroid": "f",
         "Lithium": "f",
         "Goiter": "f",
         "Tumor": "f",
         "Hypopituitary": "f",
         "Psych": "f",
         "TSH Measured": "t",
         "TSH": "4.1",
         "T3 Measured": "t",
         "T3": "2",
         "TT4 Measured": "t",
         "TT4": "102",
         "T4U Measured": "f",
         "T4U": "NaN",
         "FTI Measured": "f",
         "FTI": "NaN",
         "TBG Measured": "f",
         "TBG": "NaN",
         "Referral Source": "other",
         "Class": 0,
         "_deepnote_index_column": 1
        },
        {
         "Age": "46",
         "Sex": "M",
         "On Thyroxine": "f",
         "Query on Thyroxine": "f",
         "On Antithyroid Medication": "f",
         "Sick": "f",
         "Pregnant": "f",
         "Thyroid Surgery": "f",
         "I131 Treatment": "f",
         "Query Hypothyroid": "f",
         "Query Hyperthyroid": "f",
         "Lithium": "f",
         "Goiter": "f",
         "Tumor": "f",
         "Hypopituitary": "f",
         "Psych": "f",
         "TSH Measured": "t",
         "TSH": "0.98",
         "T3 Measured": "f",
         "T3": "NaN",
         "TT4 Measured": "t",
         "TT4": "109",
         "T4U Measured": "t",
         "T4U": "0.91",
         "FTI Measured": "t",
         "FTI": "120",
         "TBG Measured": "f",
         "TBG": "NaN",
         "Referral Source": "other",
         "Class": 0,
         "_deepnote_index_column": 2
        },
        {
         "Age": "70",
         "Sex": "F",
         "On Thyroxine": "t",
         "Query on Thyroxine": "f",
         "On Antithyroid Medication": "f",
         "Sick": "f",
         "Pregnant": "f",
         "Thyroid Surgery": "f",
         "I131 Treatment": "f",
         "Query Hypothyroid": "f",
         "Query Hyperthyroid": "f",
         "Lithium": "f",
         "Goiter": "f",
         "Tumor": "f",
         "Hypopituitary": "f",
         "Psych": "f",
         "TSH Measured": "t",
         "TSH": "0.16",
         "T3 Measured": "t",
         "T3": "1.9",
         "TT4 Measured": "t",
         "TT4": "175",
         "T4U Measured": "f",
         "T4U": "NaN",
         "FTI Measured": "f",
         "FTI": "NaN",
         "TBG Measured": "f",
         "TBG": "NaN",
         "Referral Source": "other",
         "Class": 0,
         "_deepnote_index_column": 3
        },
        {
         "Age": "70",
         "Sex": "F",
         "On Thyroxine": "f",
         "Query on Thyroxine": "f",
         "On Antithyroid Medication": "f",
         "Sick": "f",
         "Pregnant": "f",
         "Thyroid Surgery": "f",
         "I131 Treatment": "f",
         "Query Hypothyroid": "f",
         "Query Hyperthyroid": "f",
         "Lithium": "f",
         "Goiter": "f",
         "Tumor": "f",
         "Hypopituitary": "f",
         "Psych": "f",
         "TSH Measured": "t",
         "TSH": "0.72",
         "T3 Measured": "t",
         "T3": "1.2",
         "TT4 Measured": "t",
         "TT4": "61",
         "T4U Measured": "t",
         "T4U": "0.87",
         "FTI Measured": "t",
         "FTI": "70",
         "TBG Measured": "f",
         "TBG": "NaN",
         "Referral Source": "SVI",
         "Class": 0,
         "_deepnote_index_column": 4
        },
        {
         "Age": "18",
         "Sex": "F",
         "On Thyroxine": "t",
         "Query on Thyroxine": "f",
         "On Antithyroid Medication": "f",
         "Sick": "f",
         "Pregnant": "f",
         "Thyroid Surgery": "f",
         "I131 Treatment": "f",
         "Query Hypothyroid": "f",
         "Query Hyperthyroid": "f",
         "Lithium": "f",
         "Goiter": "f",
         "Tumor": "f",
         "Hypopituitary": "f",
         "Psych": "f",
         "TSH Measured": "t",
         "TSH": "0.03",
         "T3 Measured": "f",
         "T3": "NaN",
         "TT4 Measured": "t",
         "TT4": "183",
         "T4U Measured": "t",
         "T4U": "1.3",
         "FTI Measured": "t",
         "FTI": "141",
         "TBG Measured": "f",
         "TBG": "NaN",
         "Referral Source": "other",
         "Class": 0,
         "_deepnote_index_column": 5
        },
        {
         "Age": "59",
         "Sex": "F",
         "On Thyroxine": "f",
         "Query on Thyroxine": "f",
         "On Antithyroid Medication": "f",
         "Sick": "f",
         "Pregnant": "f",
         "Thyroid Surgery": "f",
         "I131 Treatment": "f",
         "Query Hypothyroid": "f",
         "Query Hyperthyroid": "f",
         "Lithium": "f",
         "Goiter": "f",
         "Tumor": "f",
         "Hypopituitary": "f",
         "Psych": "f",
         "TSH Measured": "f",
         "TSH": "NaN",
         "T3 Measured": "f",
         "T3": "NaN",
         "TT4 Measured": "t",
         "TT4": "72",
         "T4U Measured": "t",
         "T4U": "0.92",
         "FTI Measured": "t",
         "FTI": "78",
         "TBG Measured": "f",
         "TBG": "NaN",
         "Referral Source": "other",
         "Class": 0,
         "_deepnote_index_column": 6
        },
        {
         "Age": "80",
         "Sex": "F",
         "On Thyroxine": "f",
         "Query on Thyroxine": "f",
         "On Antithyroid Medication": "f",
         "Sick": "f",
         "Pregnant": "f",
         "Thyroid Surgery": "f",
         "I131 Treatment": "f",
         "Query Hypothyroid": "f",
         "Query Hyperthyroid": "f",
         "Lithium": "f",
         "Goiter": "f",
         "Tumor": "f",
         "Hypopituitary": "f",
         "Psych": "f",
         "TSH Measured": "t",
         "TSH": "2.2",
         "T3 Measured": "t",
         "T3": "0.6",
         "TT4 Measured": "t",
         "TT4": "80",
         "T4U Measured": "t",
         "T4U": "0.7",
         "FTI Measured": "t",
         "FTI": "115",
         "TBG Measured": "f",
         "TBG": "NaN",
         "Referral Source": "SVI",
         "Class": 0,
         "_deepnote_index_column": 7
        },
        {
         "Age": "66",
         "Sex": "F",
         "On Thyroxine": "f",
         "Query on Thyroxine": "f",
         "On Antithyroid Medication": "f",
         "Sick": "f",
         "Pregnant": "f",
         "Thyroid Surgery": "f",
         "I131 Treatment": "f",
         "Query Hypothyroid": "f",
         "Query Hyperthyroid": "f",
         "Lithium": "f",
         "Goiter": "f",
         "Tumor": "t",
         "Hypopituitary": "f",
         "Psych": "f",
         "TSH Measured": "t",
         "TSH": "0.6",
         "T3 Measured": "t",
         "T3": "2.2",
         "TT4 Measured": "t",
         "TT4": "123",
         "T4U Measured": "t",
         "T4U": "0.93",
         "FTI Measured": "t",
         "FTI": "132",
         "TBG Measured": "f",
         "TBG": "NaN",
         "Referral Source": "SVI",
         "Class": 0,
         "_deepnote_index_column": 8
        },
        {
         "Age": "68",
         "Sex": "M",
         "On Thyroxine": "f",
         "Query on Thyroxine": "f",
         "On Antithyroid Medication": "f",
         "Sick": "f",
         "Pregnant": "f",
         "Thyroid Surgery": "f",
         "I131 Treatment": "f",
         "Query Hypothyroid": "f",
         "Query Hyperthyroid": "f",
         "Lithium": "f",
         "Goiter": "f",
         "Tumor": "f",
         "Hypopituitary": "f",
         "Psych": "f",
         "TSH Measured": "t",
         "TSH": "2.4",
         "T3 Measured": "t",
         "T3": "1.6",
         "TT4 Measured": "t",
         "TT4": "83",
         "T4U Measured": "t",
         "T4U": "0.89",
         "FTI Measured": "t",
         "FTI": "93",
         "TBG Measured": "f",
         "TBG": "NaN",
         "Referral Source": "SVI",
         "Class": 0,
         "_deepnote_index_column": 9
        },
        {
         "Age": "84",
         "Sex": "F",
         "On Thyroxine": "f",
         "Query on Thyroxine": "f",
         "On Antithyroid Medication": "f",
         "Sick": "f",
         "Pregnant": "f",
         "Thyroid Surgery": "f",
         "I131 Treatment": "f",
         "Query Hypothyroid": "f",
         "Query Hyperthyroid": "f",
         "Lithium": "f",
         "Goiter": "f",
         "Tumor": "t",
         "Hypopituitary": "f",
         "Psych": "f",
         "TSH Measured": "t",
         "TSH": "1.1",
         "T3 Measured": "t",
         "T3": "2.2",
         "TT4 Measured": "t",
         "TT4": "115",
         "T4U Measured": "t",
         "T4U": "0.95",
         "FTI Measured": "t",
         "FTI": "121",
         "TBG Measured": "f",
         "TBG": "NaN",
         "Referral Source": "SVI",
         "Class": 0,
         "_deepnote_index_column": 10
        },
        {
         "Age": "67",
         "Sex": "F",
         "On Thyroxine": "t",
         "Query on Thyroxine": "f",
         "On Antithyroid Medication": "f",
         "Sick": "f",
         "Pregnant": "f",
         "Thyroid Surgery": "f",
         "I131 Treatment": "f",
         "Query Hypothyroid": "f",
         "Query Hyperthyroid": "f",
         "Lithium": "f",
         "Goiter": "f",
         "Tumor": "f",
         "Hypopituitary": "f",
         "Psych": "f",
         "TSH Measured": "t",
         "TSH": "0.03",
         "T3 Measured": "f",
         "T3": "NaN",
         "TT4 Measured": "t",
         "TT4": "152",
         "T4U Measured": "t",
         "T4U": "0.99",
         "FTI Measured": "t",
         "FTI": "153",
         "TBG Measured": "f",
         "TBG": "NaN",
         "Referral Source": "other",
         "Class": 0,
         "_deepnote_index_column": 11
        },
        {
         "Age": "71",
         "Sex": "F",
         "On Thyroxine": "f",
         "Query on Thyroxine": "f",
         "On Antithyroid Medication": "f",
         "Sick": "t",
         "Pregnant": "f",
         "Thyroid Surgery": "f",
         "I131 Treatment": "f",
         "Query Hypothyroid": "f",
         "Query Hyperthyroid": "t",
         "Lithium": "f",
         "Goiter": "f",
         "Tumor": "f",
         "Hypopituitary": "f",
         "Psych": "f",
         "TSH Measured": "t",
         "TSH": "0.03",
         "T3 Measured": "t",
         "T3": "3.8",
         "TT4 Measured": "t",
         "TT4": "171",
         "T4U Measured": "t",
         "T4U": "1.13",
         "FTI Measured": "t",
         "FTI": "151",
         "TBG Measured": "f",
         "TBG": "NaN",
         "Referral Source": "other",
         "Class": 0,
         "_deepnote_index_column": 12
        },
        {
         "Age": "59",
         "Sex": "F",
         "On Thyroxine": "f",
         "Query on Thyroxine": "f",
         "On Antithyroid Medication": "f",
         "Sick": "f",
         "Pregnant": "f",
         "Thyroid Surgery": "f",
         "I131 Treatment": "f",
         "Query Hypothyroid": "f",
         "Query Hyperthyroid": "f",
         "Lithium": "f",
         "Goiter": "f",
         "Tumor": "f",
         "Hypopituitary": "f",
         "Psych": "f",
         "TSH Measured": "t",
         "TSH": "2.8",
         "T3 Measured": "t",
         "T3": "1.7",
         "TT4 Measured": "t",
         "TT4": "97",
         "T4U Measured": "t",
         "T4U": "0.91",
         "FTI Measured": "t",
         "FTI": "107",
         "TBG Measured": "f",
         "TBG": "NaN",
         "Referral Source": "SVI",
         "Class": 0,
         "_deepnote_index_column": 13
        },
        {
         "Age": "28",
         "Sex": "M",
         "On Thyroxine": "f",
         "Query on Thyroxine": "f",
         "On Antithyroid Medication": "f",
         "Sick": "f",
         "Pregnant": "f",
         "Thyroid Surgery": "f",
         "I131 Treatment": "f",
         "Query Hypothyroid": "f",
         "Query Hyperthyroid": "f",
         "Lithium": "f",
         "Goiter": "f",
         "Tumor": "f",
         "Hypopituitary": "f",
         "Psych": "f",
         "TSH Measured": "t",
         "TSH": "3.3",
         "T3 Measured": "t",
         "T3": "1.8",
         "TT4 Measured": "t",
         "TT4": "109",
         "T4U Measured": "t",
         "T4U": "0.91",
         "FTI Measured": "t",
         "FTI": "119",
         "TBG Measured": "f",
         "TBG": "NaN",
         "Referral Source": "SVHC",
         "Class": 0,
         "_deepnote_index_column": 14
        },
        {
         "Age": "65",
         "Sex": "F",
         "On Thyroxine": "f",
         "Query on Thyroxine": "f",
         "On Antithyroid Medication": "f",
         "Sick": "f",
         "Pregnant": "f",
         "Thyroid Surgery": "f",
         "I131 Treatment": "f",
         "Query Hypothyroid": "t",
         "Query Hyperthyroid": "f",
         "Lithium": "f",
         "Goiter": "f",
         "Tumor": "f",
         "Hypopituitary": "f",
         "Psych": "f",
         "TSH Measured": "t",
         "TSH": "12",
         "T3 Measured": "f",
         "T3": "NaN",
         "TT4 Measured": "t",
         "TT4": "99",
         "T4U Measured": "t",
         "T4U": "1.14",
         "FTI Measured": "t",
         "FTI": "87",
         "TBG Measured": "f",
         "TBG": "NaN",
         "Referral Source": "other",
         "Class": 1,
         "_deepnote_index_column": 15
        }
       ],
       "rows_bottom": [
        {
         "Age": "82",
         "Sex": "F",
         "On Thyroxine": "f",
         "Query on Thyroxine": "f",
         "On Antithyroid Medication": "f",
         "Sick": "f",
         "Pregnant": "f",
         "Thyroid Surgery": "f",
         "I131 Treatment": "f",
         "Query Hypothyroid": "f",
         "Query Hyperthyroid": "f",
         "Lithium": "f",
         "Goiter": "f",
         "Tumor": "f",
         "Hypopituitary": "f",
         "Psych": "f",
         "TSH Measured": "t",
         "TSH": "0.5",
         "T3 Measured": "f",
         "T3": "NaN",
         "TT4 Measured": "t",
         "TT4": "125",
         "T4U Measured": "t",
         "T4U": "0.84",
         "FTI Measured": "t",
         "FTI": "149",
         "TBG Measured": "f",
         "TBG": "NaN",
         "Referral Source": "other",
         "Class": 0,
         "_deepnote_index_column": 2783
        },
        {
         "Age": "27",
         "Sex": "F",
         "On Thyroxine": "f",
         "Query on Thyroxine": "f",
         "On Antithyroid Medication": "f",
         "Sick": "f",
         "Pregnant": "f",
         "Thyroid Surgery": "f",
         "I131 Treatment": "f",
         "Query Hypothyroid": "f",
         "Query Hyperthyroid": "f",
         "Lithium": "f",
         "Goiter": "f",
         "Tumor": "f",
         "Hypopituitary": "f",
         "Psych": "f",
         "TSH Measured": "t",
         "TSH": "1.9",
         "T3 Measured": "t",
         "T3": "1.5",
         "TT4 Measured": "t",
         "TT4": "104",
         "T4U Measured": "f",
         "T4U": "NaN",
         "FTI Measured": "f",
         "FTI": "NaN",
         "TBG Measured": "f",
         "TBG": "NaN",
         "Referral Source": "other",
         "Class": 0,
         "_deepnote_index_column": 2784
        },
        {
         "Age": "57",
         "Sex": "M",
         "On Thyroxine": "f",
         "Query on Thyroxine": "f",
         "On Antithyroid Medication": "f",
         "Sick": "t",
         "Pregnant": "f",
         "Thyroid Surgery": "f",
         "I131 Treatment": "f",
         "Query Hypothyroid": "f",
         "Query Hyperthyroid": "f",
         "Lithium": "f",
         "Goiter": "f",
         "Tumor": "f",
         "Hypopituitary": "f",
         "Psych": "f",
         "TSH Measured": "t",
         "TSH": "1",
         "T3 Measured": "t",
         "T3": "1.6",
         "TT4 Measured": "t",
         "TT4": "73",
         "T4U Measured": "t",
         "T4U": "0.97",
         "FTI Measured": "t",
         "FTI": "75",
         "TBG Measured": "f",
         "TBG": "NaN",
         "Referral Source": "SVI",
         "Class": 0,
         "_deepnote_index_column": 2785
        },
        {
         "Age": "73",
         "Sex": "NaN",
         "On Thyroxine": "f",
         "Query on Thyroxine": "f",
         "On Antithyroid Medication": "f",
         "Sick": "f",
         "Pregnant": "f",
         "Thyroid Surgery": "f",
         "I131 Treatment": "f",
         "Query Hypothyroid": "f",
         "Query Hyperthyroid": "f",
         "Lithium": "f",
         "Goiter": "f",
         "Tumor": "f",
         "Hypopituitary": "f",
         "Psych": "f",
         "TSH Measured": "t",
         "TSH": "0.015",
         "T3 Measured": "t",
         "T3": "1.8",
         "TT4 Measured": "t",
         "TT4": "173",
         "T4U Measured": "t",
         "T4U": "1",
         "FTI Measured": "t",
         "FTI": "173",
         "TBG Measured": "f",
         "TBG": "NaN",
         "Referral Source": "other",
         "Class": 0,
         "_deepnote_index_column": 2786
        },
        {
         "Age": "58",
         "Sex": "M",
         "On Thyroxine": "f",
         "Query on Thyroxine": "f",
         "On Antithyroid Medication": "f",
         "Sick": "f",
         "Pregnant": "f",
         "Thyroid Surgery": "f",
         "I131 Treatment": "f",
         "Query Hypothyroid": "f",
         "Query Hyperthyroid": "f",
         "Lithium": "f",
         "Goiter": "f",
         "Tumor": "f",
         "Hypopituitary": "f",
         "Psych": "f",
         "TSH Measured": "f",
         "TSH": "NaN",
         "T3 Measured": "t",
         "T3": "1.6",
         "TT4 Measured": "f",
         "TT4": "NaN",
         "T4U Measured": "f",
         "T4U": "NaN",
         "FTI Measured": "f",
         "FTI": "NaN",
         "TBG Measured": "f",
         "TBG": "NaN",
         "Referral Source": "other",
         "Class": 0,
         "_deepnote_index_column": 2787
        },
        {
         "Age": "70",
         "Sex": "M",
         "On Thyroxine": "f",
         "Query on Thyroxine": "f",
         "On Antithyroid Medication": "f",
         "Sick": "f",
         "Pregnant": "f",
         "Thyroid Surgery": "f",
         "I131 Treatment": "f",
         "Query Hypothyroid": "f",
         "Query Hyperthyroid": "f",
         "Lithium": "f",
         "Goiter": "f",
         "Tumor": "f",
         "Hypopituitary": "f",
         "Psych": "f",
         "TSH Measured": "t",
         "TSH": "1.5",
         "T3 Measured": "t",
         "T3": "1.5",
         "TT4 Measured": "t",
         "TT4": "70",
         "T4U Measured": "t",
         "T4U": "0.77",
         "FTI Measured": "t",
         "FTI": "91",
         "TBG Measured": "f",
         "TBG": "NaN",
         "Referral Source": "SVI",
         "Class": 0,
         "_deepnote_index_column": 2788
        },
        {
         "Age": "54",
         "Sex": "F",
         "On Thyroxine": "f",
         "Query on Thyroxine": "f",
         "On Antithyroid Medication": "f",
         "Sick": "f",
         "Pregnant": "f",
         "Thyroid Surgery": "f",
         "I131 Treatment": "f",
         "Query Hypothyroid": "f",
         "Query Hyperthyroid": "f",
         "Lithium": "f",
         "Goiter": "f",
         "Tumor": "f",
         "Hypopituitary": "f",
         "Psych": "f",
         "TSH Measured": "f",
         "TSH": "NaN",
         "T3 Measured": "f",
         "T3": "NaN",
         "TT4 Measured": "f",
         "TT4": "NaN",
         "T4U Measured": "f",
         "T4U": "NaN",
         "FTI Measured": "f",
         "FTI": "NaN",
         "TBG Measured": "f",
         "TBG": "NaN",
         "Referral Source": "other",
         "Class": 0,
         "_deepnote_index_column": 2789
        },
        {
         "Age": "67",
         "Sex": "M",
         "On Thyroxine": "f",
         "Query on Thyroxine": "f",
         "On Antithyroid Medication": "f",
         "Sick": "f",
         "Pregnant": "f",
         "Thyroid Surgery": "f",
         "I131 Treatment": "f",
         "Query Hypothyroid": "t",
         "Query Hyperthyroid": "f",
         "Lithium": "f",
         "Goiter": "f",
         "Tumor": "f",
         "Hypopituitary": "f",
         "Psych": "f",
         "TSH Measured": "t",
         "TSH": "2.1",
         "T3 Measured": "t",
         "T3": "2",
         "TT4 Measured": "t",
         "TT4": "83",
         "T4U Measured": "t",
         "T4U": "0.96",
         "FTI Measured": "t",
         "FTI": "87",
         "TBG Measured": "f",
         "TBG": "NaN",
         "Referral Source": "SVI",
         "Class": 0,
         "_deepnote_index_column": 2790
        },
        {
         "Age": "68",
         "Sex": "F",
         "On Thyroxine": "f",
         "Query on Thyroxine": "f",
         "On Antithyroid Medication": "f",
         "Sick": "f",
         "Pregnant": "f",
         "Thyroid Surgery": "f",
         "I131 Treatment": "f",
         "Query Hypothyroid": "f",
         "Query Hyperthyroid": "f",
         "Lithium": "f",
         "Goiter": "f",
         "Tumor": "f",
         "Hypopituitary": "f",
         "Psych": "f",
         "TSH Measured": "t",
         "TSH": "1",
         "T3 Measured": "f",
         "T3": "NaN",
         "TT4 Measured": "t",
         "TT4": "103",
         "T4U Measured": "t",
         "T4U": "1.01",
         "FTI Measured": "t",
         "FTI": "102",
         "TBG Measured": "f",
         "TBG": "NaN",
         "Referral Source": "SVI",
         "Class": 0,
         "_deepnote_index_column": 2791
        },
        {
         "Age": "63",
         "Sex": "NaN",
         "On Thyroxine": "f",
         "Query on Thyroxine": "f",
         "On Antithyroid Medication": "f",
         "Sick": "f",
         "Pregnant": "f",
         "Thyroid Surgery": "f",
         "I131 Treatment": "f",
         "Query Hypothyroid": "f",
         "Query Hyperthyroid": "f",
         "Lithium": "f",
         "Goiter": "f",
         "Tumor": "f",
         "Hypopituitary": "f",
         "Psych": "f",
         "TSH Measured": "f",
         "TSH": "NaN",
         "T3 Measured": "f",
         "T3": "NaN",
         "TT4 Measured": "f",
         "TT4": "NaN",
         "T4U Measured": "f",
         "T4U": "NaN",
         "FTI Measured": "f",
         "FTI": "NaN",
         "TBG Measured": "f",
         "TBG": "NaN",
         "Referral Source": "other",
         "Class": 0,
         "_deepnote_index_column": 2792
        },
        {
         "Age": "82",
         "Sex": "F",
         "On Thyroxine": "f",
         "Query on Thyroxine": "f",
         "On Antithyroid Medication": "f",
         "Sick": "f",
         "Pregnant": "f",
         "Thyroid Surgery": "f",
         "I131 Treatment": "f",
         "Query Hypothyroid": "f",
         "Query Hyperthyroid": "f",
         "Lithium": "f",
         "Goiter": "f",
         "Tumor": "f",
         "Hypopituitary": "f",
         "Psych": "f",
         "TSH Measured": "t",
         "TSH": "0.03",
         "T3 Measured": "t",
         "T3": "1.4",
         "TT4 Measured": "t",
         "TT4": "74",
         "T4U Measured": "t",
         "T4U": "0.52",
         "FTI Measured": "t",
         "FTI": "143",
         "TBG Measured": "f",
         "TBG": "NaN",
         "Referral Source": "other",
         "Class": 0,
         "_deepnote_index_column": 2793
        },
        {
         "Age": "25",
         "Sex": "F",
         "On Thyroxine": "f",
         "Query on Thyroxine": "f",
         "On Antithyroid Medication": "f",
         "Sick": "f",
         "Pregnant": "f",
         "Thyroid Surgery": "f",
         "I131 Treatment": "f",
         "Query Hypothyroid": "f",
         "Query Hyperthyroid": "f",
         "Lithium": "f",
         "Goiter": "f",
         "Tumor": "f",
         "Hypopituitary": "f",
         "Psych": "f",
         "TSH Measured": "t",
         "TSH": "1.9",
         "T3 Measured": "t",
         "T3": "1.7",
         "TT4 Measured": "t",
         "TT4": "167",
         "T4U Measured": "t",
         "T4U": "1.21",
         "FTI Measured": "t",
         "FTI": "137",
         "TBG Measured": "f",
         "TBG": "NaN",
         "Referral Source": "other",
         "Class": 0,
         "_deepnote_index_column": 2794
        },
        {
         "Age": "70",
         "Sex": "M",
         "On Thyroxine": "f",
         "Query on Thyroxine": "f",
         "On Antithyroid Medication": "f",
         "Sick": "f",
         "Pregnant": "f",
         "Thyroid Surgery": "f",
         "I131 Treatment": "f",
         "Query Hypothyroid": "f",
         "Query Hyperthyroid": "f",
         "Lithium": "f",
         "Goiter": "f",
         "Tumor": "f",
         "Hypopituitary": "f",
         "Psych": "f",
         "TSH Measured": "t",
         "TSH": "2.7",
         "T3 Measured": "f",
         "T3": "NaN",
         "TT4 Measured": "t",
         "TT4": "155",
         "T4U Measured": "t",
         "T4U": "1.05",
         "FTI Measured": "t",
         "FTI": "148",
         "TBG Measured": "f",
         "TBG": "NaN",
         "Referral Source": "SVI",
         "Class": 0,
         "_deepnote_index_column": 2795
        },
        {
         "Age": "73",
         "Sex": "M",
         "On Thyroxine": "f",
         "Query on Thyroxine": "t",
         "On Antithyroid Medication": "f",
         "Sick": "f",
         "Pregnant": "f",
         "Thyroid Surgery": "f",
         "I131 Treatment": "f",
         "Query Hypothyroid": "f",
         "Query Hyperthyroid": "f",
         "Lithium": "f",
         "Goiter": "f",
         "Tumor": "f",
         "Hypopituitary": "f",
         "Psych": "f",
         "TSH Measured": "f",
         "TSH": "NaN",
         "T3 Measured": "t",
         "T3": "0.7",
         "TT4 Measured": "t",
         "TT4": "63",
         "T4U Measured": "t",
         "T4U": "0.88",
         "FTI Measured": "t",
         "FTI": "72",
         "TBG Measured": "f",
         "TBG": "NaN",
         "Referral Source": "other",
         "Class": 0,
         "_deepnote_index_column": 2796
        },
        {
         "Age": "75",
         "Sex": "M",
         "On Thyroxine": "f",
         "Query on Thyroxine": "f",
         "On Antithyroid Medication": "f",
         "Sick": "f",
         "Pregnant": "f",
         "Thyroid Surgery": "f",
         "I131 Treatment": "f",
         "Query Hypothyroid": "f",
         "Query Hyperthyroid": "t",
         "Lithium": "f",
         "Goiter": "f",
         "Tumor": "f",
         "Hypopituitary": "f",
         "Psych": "f",
         "TSH Measured": "f",
         "TSH": "NaN",
         "T3 Measured": "f",
         "T3": "NaN",
         "TT4 Measured": "t",
         "TT4": "147",
         "T4U Measured": "t",
         "T4U": "0.8",
         "FTI Measured": "t",
         "FTI": "183",
         "TBG Measured": "f",
         "TBG": "NaN",
         "Referral Source": "other",
         "Class": 0,
         "_deepnote_index_column": 2797
        },
        {
         "Age": "60",
         "Sex": "F",
         "On Thyroxine": "f",
         "Query on Thyroxine": "f",
         "On Antithyroid Medication": "f",
         "Sick": "f",
         "Pregnant": "f",
         "Thyroid Surgery": "f",
         "I131 Treatment": "f",
         "Query Hypothyroid": "f",
         "Query Hyperthyroid": "f",
         "Lithium": "f",
         "Goiter": "f",
         "Tumor": "f",
         "Hypopituitary": "f",
         "Psych": "f",
         "TSH Measured": "t",
         "TSH": "1.4",
         "T3 Measured": "f",
         "T3": "NaN",
         "TT4 Measured": "t",
         "TT4": "100",
         "T4U Measured": "t",
         "T4U": "0.83",
         "FTI Measured": "t",
         "FTI": "121",
         "TBG Measured": "f",
         "TBG": "NaN",
         "Referral Source": "other",
         "Class": 0,
         "_deepnote_index_column": 2798
        },
        {
         "Age": "81",
         "Sex": "F",
         "On Thyroxine": "f",
         "Query on Thyroxine": "f",
         "On Antithyroid Medication": "f",
         "Sick": "f",
         "Pregnant": "f",
         "Thyroid Surgery": "f",
         "I131 Treatment": "f",
         "Query Hypothyroid": "f",
         "Query Hyperthyroid": "f",
         "Lithium": "f",
         "Goiter": "f",
         "Tumor": "f",
         "Hypopituitary": "f",
         "Psych": "f",
         "TSH Measured": "t",
         "TSH": "1.2",
         "T3 Measured": "t",
         "T3": "1.5",
         "TT4 Measured": "t",
         "TT4": "114",
         "T4U Measured": "t",
         "T4U": "0.99",
         "FTI Measured": "t",
         "FTI": "115",
         "TBG Measured": "f",
         "TBG": "NaN",
         "Referral Source": "SVI",
         "Class": 0,
         "_deepnote_index_column": 2799
        }
       ]
      },
      "text/plain": "     Age Sex On Thyroxine Query on Thyroxine On Antithyroid Medication Sick  \\\n0     41   F            f                  f                         f    f   \n1     23   F            f                  f                         f    f   \n2     46   M            f                  f                         f    f   \n3     70   F            t                  f                         f    f   \n4     70   F            f                  f                         f    f   \n...   ..  ..          ...                ...                       ...  ...   \n2795  70   M            f                  f                         f    f   \n2796  73   M            f                  t                         f    f   \n2797  75   M            f                  f                         f    f   \n2798  60   F            f                  f                         f    f   \n2799  81   F            f                  f                         f    f   \n\n     Pregnant Thyroid Surgery I131 Treatment Query Hypothyroid  ...  \\\n0           f               f              f                 f  ...   \n1           f               f              f                 f  ...   \n2           f               f              f                 f  ...   \n3           f               f              f                 f  ...   \n4           f               f              f                 f  ...   \n...       ...             ...            ...               ...  ...   \n2795        f               f              f                 f  ...   \n2796        f               f              f                 f  ...   \n2797        f               f              f                 f  ...   \n2798        f               f              f                 f  ...   \n2799        f               f              f                 f  ...   \n\n     TT4 Measured  TT4 T4U Measured   T4U FTI Measured  FTI TBG Measured  TBG  \\\n0               t  125            t  1.14            t  109            f  NaN   \n1               t  102            f   NaN            f  NaN            f  NaN   \n2               t  109            t  0.91            t  120            f  NaN   \n3               t  175            f   NaN            f  NaN            f  NaN   \n4               t   61            t  0.87            t   70            f  NaN   \n...           ...  ...          ...   ...          ...  ...          ...  ...   \n2795            t  155            t  1.05            t  148            f  NaN   \n2796            t   63            t  0.88            t   72            f  NaN   \n2797            t  147            t   0.8            t  183            f  NaN   \n2798            t  100            t  0.83            t  121            f  NaN   \n2799            t  114            t  0.99            t  115            f  NaN   \n\n     Referral Source Class  \n0               SVHC     0  \n1              other     0  \n2              other     0  \n3              other     0  \n4                SVI     0  \n...              ...   ...  \n2795             SVI     0  \n2796           other     0  \n2797           other     0  \n2798           other     0  \n2799             SVI     0  \n\n[2800 rows x 30 columns]",
      "text/html": "<div>\n<style scoped>\n    .dataframe tbody tr th:only-of-type {\n        vertical-align: middle;\n    }\n\n    .dataframe tbody tr th {\n        vertical-align: top;\n    }\n\n    .dataframe thead th {\n        text-align: right;\n    }\n</style>\n<table border=\"1\" class=\"dataframe\">\n  <thead>\n    <tr style=\"text-align: right;\">\n      <th></th>\n      <th>Age</th>\n      <th>Sex</th>\n      <th>On Thyroxine</th>\n      <th>Query on Thyroxine</th>\n      <th>On Antithyroid Medication</th>\n      <th>Sick</th>\n      <th>Pregnant</th>\n      <th>Thyroid Surgery</th>\n      <th>I131 Treatment</th>\n      <th>Query Hypothyroid</th>\n      <th>...</th>\n      <th>TT4 Measured</th>\n      <th>TT4</th>\n      <th>T4U Measured</th>\n      <th>T4U</th>\n      <th>FTI Measured</th>\n      <th>FTI</th>\n      <th>TBG Measured</th>\n      <th>TBG</th>\n      <th>Referral Source</th>\n      <th>Class</th>\n    </tr>\n  </thead>\n  <tbody>\n    <tr>\n      <th>0</th>\n      <td>41</td>\n      <td>F</td>\n      <td>f</td>\n      <td>f</td>\n      <td>f</td>\n      <td>f</td>\n      <td>f</td>\n      <td>f</td>\n      <td>f</td>\n      <td>f</td>\n      <td>...</td>\n      <td>t</td>\n      <td>125</td>\n      <td>t</td>\n      <td>1.14</td>\n      <td>t</td>\n      <td>109</td>\n      <td>f</td>\n      <td>NaN</td>\n      <td>SVHC</td>\n      <td>0</td>\n    </tr>\n    <tr>\n      <th>1</th>\n      <td>23</td>\n      <td>F</td>\n      <td>f</td>\n      <td>f</td>\n      <td>f</td>\n      <td>f</td>\n      <td>f</td>\n      <td>f</td>\n      <td>f</td>\n      <td>f</td>\n      <td>...</td>\n      <td>t</td>\n      <td>102</td>\n      <td>f</td>\n      <td>NaN</td>\n      <td>f</td>\n      <td>NaN</td>\n      <td>f</td>\n      <td>NaN</td>\n      <td>other</td>\n      <td>0</td>\n    </tr>\n    <tr>\n      <th>2</th>\n      <td>46</td>\n      <td>M</td>\n      <td>f</td>\n      <td>f</td>\n      <td>f</td>\n      <td>f</td>\n      <td>f</td>\n      <td>f</td>\n      <td>f</td>\n      <td>f</td>\n      <td>...</td>\n      <td>t</td>\n      <td>109</td>\n      <td>t</td>\n      <td>0.91</td>\n      <td>t</td>\n      <td>120</td>\n      <td>f</td>\n      <td>NaN</td>\n      <td>other</td>\n      <td>0</td>\n    </tr>\n    <tr>\n      <th>3</th>\n      <td>70</td>\n      <td>F</td>\n      <td>t</td>\n      <td>f</td>\n      <td>f</td>\n      <td>f</td>\n      <td>f</td>\n      <td>f</td>\n      <td>f</td>\n      <td>f</td>\n      <td>...</td>\n      <td>t</td>\n      <td>175</td>\n      <td>f</td>\n      <td>NaN</td>\n      <td>f</td>\n      <td>NaN</td>\n      <td>f</td>\n      <td>NaN</td>\n      <td>other</td>\n      <td>0</td>\n    </tr>\n    <tr>\n      <th>4</th>\n      <td>70</td>\n      <td>F</td>\n      <td>f</td>\n      <td>f</td>\n      <td>f</td>\n      <td>f</td>\n      <td>f</td>\n      <td>f</td>\n      <td>f</td>\n      <td>f</td>\n      <td>...</td>\n      <td>t</td>\n      <td>61</td>\n      <td>t</td>\n      <td>0.87</td>\n      <td>t</td>\n      <td>70</td>\n      <td>f</td>\n      <td>NaN</td>\n      <td>SVI</td>\n      <td>0</td>\n    </tr>\n    <tr>\n      <th>...</th>\n      <td>...</td>\n      <td>...</td>\n      <td>...</td>\n      <td>...</td>\n      <td>...</td>\n      <td>...</td>\n      <td>...</td>\n      <td>...</td>\n      <td>...</td>\n      <td>...</td>\n      <td>...</td>\n      <td>...</td>\n      <td>...</td>\n      <td>...</td>\n      <td>...</td>\n      <td>...</td>\n      <td>...</td>\n      <td>...</td>\n      <td>...</td>\n      <td>...</td>\n      <td>...</td>\n    </tr>\n    <tr>\n      <th>2795</th>\n      <td>70</td>\n      <td>M</td>\n      <td>f</td>\n      <td>f</td>\n      <td>f</td>\n      <td>f</td>\n      <td>f</td>\n      <td>f</td>\n      <td>f</td>\n      <td>f</td>\n      <td>...</td>\n      <td>t</td>\n      <td>155</td>\n      <td>t</td>\n      <td>1.05</td>\n      <td>t</td>\n      <td>148</td>\n      <td>f</td>\n      <td>NaN</td>\n      <td>SVI</td>\n      <td>0</td>\n    </tr>\n    <tr>\n      <th>2796</th>\n      <td>73</td>\n      <td>M</td>\n      <td>f</td>\n      <td>t</td>\n      <td>f</td>\n      <td>f</td>\n      <td>f</td>\n      <td>f</td>\n      <td>f</td>\n      <td>f</td>\n      <td>...</td>\n      <td>t</td>\n      <td>63</td>\n      <td>t</td>\n      <td>0.88</td>\n      <td>t</td>\n      <td>72</td>\n      <td>f</td>\n      <td>NaN</td>\n      <td>other</td>\n      <td>0</td>\n    </tr>\n    <tr>\n      <th>2797</th>\n      <td>75</td>\n      <td>M</td>\n      <td>f</td>\n      <td>f</td>\n      <td>f</td>\n      <td>f</td>\n      <td>f</td>\n      <td>f</td>\n      <td>f</td>\n      <td>f</td>\n      <td>...</td>\n      <td>t</td>\n      <td>147</td>\n      <td>t</td>\n      <td>0.8</td>\n      <td>t</td>\n      <td>183</td>\n      <td>f</td>\n      <td>NaN</td>\n      <td>other</td>\n      <td>0</td>\n    </tr>\n    <tr>\n      <th>2798</th>\n      <td>60</td>\n      <td>F</td>\n      <td>f</td>\n      <td>f</td>\n      <td>f</td>\n      <td>f</td>\n      <td>f</td>\n      <td>f</td>\n      <td>f</td>\n      <td>f</td>\n      <td>...</td>\n      <td>t</td>\n      <td>100</td>\n      <td>t</td>\n      <td>0.83</td>\n      <td>t</td>\n      <td>121</td>\n      <td>f</td>\n      <td>NaN</td>\n      <td>other</td>\n      <td>0</td>\n    </tr>\n    <tr>\n      <th>2799</th>\n      <td>81</td>\n      <td>F</td>\n      <td>f</td>\n      <td>f</td>\n      <td>f</td>\n      <td>f</td>\n      <td>f</td>\n      <td>f</td>\n      <td>f</td>\n      <td>f</td>\n      <td>...</td>\n      <td>t</td>\n      <td>114</td>\n      <td>t</td>\n      <td>0.99</td>\n      <td>t</td>\n      <td>115</td>\n      <td>f</td>\n      <td>NaN</td>\n      <td>SVI</td>\n      <td>0</td>\n    </tr>\n  </tbody>\n</table>\n<p>2800 rows × 30 columns</p>\n</div>"
     },
     "metadata": {}
    }
   ],
   "execution_count": null
  },
  {
   "cell_type": "markdown",
   "source": "Before we move on, let's not forget to run the describe() function on just  your categorical columns, too.\nCompare it to the describe() that your numeric columns produce.",
   "metadata": {
    "colab_type": "text",
    "id": "jbgWOvekhluw",
    "cell_id": "00025-4254945e-4327-4176-99e3-1513627b43ec",
    "deepnote_cell_type": "markdown"
   }
  },
  {
   "cell_type": "code",
   "metadata": {
    "colab": {
     "autoexec": {
      "startup": false,
      "wait_interval": 0
     }
    },
    "colab_type": "code",
    "id": "WHAZCbNAc5KT",
    "cell_id": "00026-53760f2b-50ed-4d67-88a0-c5c4877696c0",
    "deepnote_to_be_reexecuted": false,
    "source_hash": "4aad6272",
    "execution_start": 1625692571477,
    "execution_millis": 131,
    "deepnote_cell_type": "code"
   },
   "source": "### Your code here\ncategorical_columns = list(set(dataset.columns)-set(numeric_columns)-set(['Class']))\ndataset[categorical_columns].describe()",
   "outputs": [
    {
     "output_type": "execute_result",
     "execution_count": 19,
     "data": {
      "application/vnd.deepnote.dataframe.v2+json": {
       "row_count": 4,
       "column_count": 23,
       "columns": [
        {
         "name": "Sick",
         "dtype": "object",
         "stats": {
          "unique_count": 4,
          "nan_count": 0,
          "categories": [
           {
            "name": "2800",
            "count": 1
           },
           {
            "name": "2",
            "count": 1
           },
           {
            "name": "2 others",
            "count": 2
           }
          ]
         }
        },
        {
         "name": "FTI Measured",
         "dtype": "object",
         "stats": {
          "unique_count": 4,
          "nan_count": 0,
          "categories": [
           {
            "name": "2800",
            "count": 1
           },
           {
            "name": "2",
            "count": 1
           },
           {
            "name": "2 others",
            "count": 2
           }
          ]
         }
        },
        {
         "name": "Lithium",
         "dtype": "object",
         "stats": {
          "unique_count": 4,
          "nan_count": 0,
          "categories": [
           {
            "name": "2800",
            "count": 1
           },
           {
            "name": "2",
            "count": 1
           },
           {
            "name": "2 others",
            "count": 2
           }
          ]
         }
        },
        {
         "name": "Psych",
         "dtype": "object",
         "stats": {
          "unique_count": 4,
          "nan_count": 0,
          "categories": [
           {
            "name": "2800",
            "count": 1
           },
           {
            "name": "2",
            "count": 1
           },
           {
            "name": "2 others",
            "count": 2
           }
          ]
         }
        },
        {
         "name": "TBG Measured",
         "dtype": "object",
         "stats": {
          "unique_count": 3,
          "nan_count": 0,
          "categories": [
           {
            "name": "2800",
            "count": 2
           },
           {
            "name": "1",
            "count": 1
           },
           {
            "name": "f",
            "count": 1
           }
          ]
         }
        },
        {
         "name": "T3 Measured",
         "dtype": "object",
         "stats": {
          "unique_count": 4,
          "nan_count": 0,
          "categories": [
           {
            "name": "2800",
            "count": 1
           },
           {
            "name": "2",
            "count": 1
           },
           {
            "name": "2 others",
            "count": 2
           }
          ]
         }
        },
        {
         "name": "Referral Source",
         "dtype": "object",
         "stats": {
          "unique_count": 4,
          "nan_count": 0,
          "categories": [
           {
            "name": "2800",
            "count": 1
           },
           {
            "name": "5",
            "count": 1
           },
           {
            "name": "2 others",
            "count": 2
           }
          ]
         }
        },
        {
         "name": "Pregnant",
         "dtype": "object",
         "stats": {
          "unique_count": 4,
          "nan_count": 0,
          "categories": [
           {
            "name": "2800",
            "count": 1
           },
           {
            "name": "2",
            "count": 1
           },
           {
            "name": "2 others",
            "count": 2
           }
          ]
         }
        },
        {
         "name": "Sex",
         "dtype": "object",
         "stats": {
          "unique_count": 4,
          "nan_count": 0,
          "categories": [
           {
            "name": "2800",
            "count": 1
           },
           {
            "name": "3",
            "count": 1
           },
           {
            "name": "2 others",
            "count": 2
           }
          ]
         }
        },
        {
         "name": "Goiter",
         "dtype": "object",
         "stats": {
          "unique_count": 4,
          "nan_count": 0,
          "categories": [
           {
            "name": "2800",
            "count": 1
           },
           {
            "name": "2",
            "count": 1
           },
           {
            "name": "2 others",
            "count": 2
           }
          ]
         }
        },
        {
         "name": "On Thyroxine",
         "dtype": "object",
         "stats": {
          "unique_count": 4,
          "nan_count": 0,
          "categories": [
           {
            "name": "2800",
            "count": 1
           },
           {
            "name": "2",
            "count": 1
           },
           {
            "name": "2 others",
            "count": 2
           }
          ]
         }
        },
        {
         "name": "TT4 Measured",
         "dtype": "object",
         "stats": {
          "unique_count": 4,
          "nan_count": 0,
          "categories": [
           {
            "name": "2800",
            "count": 1
           },
           {
            "name": "2",
            "count": 1
           },
           {
            "name": "2 others",
            "count": 2
           }
          ]
         }
        },
        {
         "name": "Hypopituitary",
         "dtype": "object",
         "stats": {
          "unique_count": 4,
          "nan_count": 0,
          "categories": [
           {
            "name": "2800",
            "count": 1
           },
           {
            "name": "2",
            "count": 1
           },
           {
            "name": "2 others",
            "count": 2
           }
          ]
         }
        },
        {
         "name": "On Antithyroid Medication",
         "dtype": "object",
         "stats": {
          "unique_count": 4,
          "nan_count": 0,
          "categories": [
           {
            "name": "2800",
            "count": 1
           },
           {
            "name": "2",
            "count": 1
           },
           {
            "name": "2 others",
            "count": 2
           }
          ]
         }
        },
        {
         "name": "Query on Thyroxine",
         "dtype": "object",
         "stats": {
          "unique_count": 4,
          "nan_count": 0,
          "categories": [
           {
            "name": "2800",
            "count": 1
           },
           {
            "name": "2",
            "count": 1
           },
           {
            "name": "2 others",
            "count": 2
           }
          ]
         }
        },
        {
         "name": "TBG",
         "dtype": "object",
         "stats": {
          "unique_count": 3,
          "nan_count": 0,
          "categories": [
           {
            "name": "2800",
            "count": 2
           },
           {
            "name": "1",
            "count": 1
           },
           {
            "name": "NaN",
            "count": 1
           }
          ]
         }
        },
        {
         "name": "Query Hyperthyroid",
         "dtype": "object",
         "stats": {
          "unique_count": 4,
          "nan_count": 0,
          "categories": [
           {
            "name": "2800",
            "count": 1
           },
           {
            "name": "2",
            "count": 1
           },
           {
            "name": "2 others",
            "count": 2
           }
          ]
         }
        },
        {
         "name": "TSH Measured",
         "dtype": "object",
         "stats": {
          "unique_count": 4,
          "nan_count": 0,
          "categories": [
           {
            "name": "2800",
            "count": 1
           },
           {
            "name": "2",
            "count": 1
           },
           {
            "name": "2 others",
            "count": 2
           }
          ]
         }
        },
        {
         "name": "Tumor",
         "dtype": "object",
         "stats": {
          "unique_count": 4,
          "nan_count": 0,
          "categories": [
           {
            "name": "2800",
            "count": 1
           },
           {
            "name": "2",
            "count": 1
           },
           {
            "name": "2 others",
            "count": 2
           }
          ]
         }
        },
        {
         "name": "Query Hypothyroid",
         "dtype": "object",
         "stats": {
          "unique_count": 4,
          "nan_count": 0,
          "categories": [
           {
            "name": "2800",
            "count": 1
           },
           {
            "name": "2",
            "count": 1
           },
           {
            "name": "2 others",
            "count": 2
           }
          ]
         }
        },
        {
         "name": "I131 Treatment",
         "dtype": "object",
         "stats": {
          "unique_count": 4,
          "nan_count": 0,
          "categories": [
           {
            "name": "2800",
            "count": 1
           },
           {
            "name": "2",
            "count": 1
           },
           {
            "name": "2 others",
            "count": 2
           }
          ]
         }
        },
        {
         "name": "Thyroid Surgery",
         "dtype": "object",
         "stats": {
          "unique_count": 4,
          "nan_count": 0,
          "categories": [
           {
            "name": "2800",
            "count": 1
           },
           {
            "name": "2",
            "count": 1
           },
           {
            "name": "2 others",
            "count": 2
           }
          ]
         }
        },
        {
         "name": "T4U Measured",
         "dtype": "object",
         "stats": {
          "unique_count": 4,
          "nan_count": 0,
          "categories": [
           {
            "name": "2800",
            "count": 1
           },
           {
            "name": "2",
            "count": 1
           },
           {
            "name": "2 others",
            "count": 2
           }
          ]
         }
        },
        {
         "name": "_deepnote_index_column",
         "dtype": "object"
        }
       ],
       "rows_top": [
        {
         "Sick": "2800",
         "FTI Measured": "2800",
         "Lithium": "2800",
         "Psych": "2800",
         "TBG Measured": "2800",
         "T3 Measured": "2800",
         "Referral Source": "2800",
         "Pregnant": "2800",
         "Sex": "2800",
         "Goiter": "2800",
         "On Thyroxine": "2800",
         "TT4 Measured": "2800",
         "Hypopituitary": "2800",
         "On Antithyroid Medication": "2800",
         "Query on Thyroxine": "2800",
         "TBG": "2800",
         "Query Hyperthyroid": "2800",
         "TSH Measured": "2800",
         "Tumor": "2800",
         "Query Hypothyroid": "2800",
         "I131 Treatment": "2800",
         "Thyroid Surgery": "2800",
         "T4U Measured": "2800",
         "_deepnote_index_column": "count"
        },
        {
         "Sick": "2",
         "FTI Measured": "2",
         "Lithium": "2",
         "Psych": "2",
         "TBG Measured": "1",
         "T3 Measured": "2",
         "Referral Source": "5",
         "Pregnant": "2",
         "Sex": "3",
         "Goiter": "2",
         "On Thyroxine": "2",
         "TT4 Measured": "2",
         "Hypopituitary": "2",
         "On Antithyroid Medication": "2",
         "Query on Thyroxine": "2",
         "TBG": "1",
         "Query Hyperthyroid": "2",
         "TSH Measured": "2",
         "Tumor": "2",
         "Query Hypothyroid": "2",
         "I131 Treatment": "2",
         "Thyroid Surgery": "2",
         "T4U Measured": "2",
         "_deepnote_index_column": "unique"
        },
        {
         "Sick": "f",
         "FTI Measured": "t",
         "Lithium": "f",
         "Psych": "f",
         "TBG Measured": "f",
         "T3 Measured": "t",
         "Referral Source": "other",
         "Pregnant": "f",
         "Sex": "F",
         "Goiter": "f",
         "On Thyroxine": "f",
         "TT4 Measured": "t",
         "Hypopituitary": "f",
         "On Antithyroid Medication": "f",
         "Query on Thyroxine": "f",
         "TBG": "NaN",
         "Query Hyperthyroid": "f",
         "TSH Measured": "t",
         "Tumor": "f",
         "Query Hypothyroid": "f",
         "I131 Treatment": "f",
         "Thyroid Surgery": "f",
         "T4U Measured": "t",
         "_deepnote_index_column": "top"
        },
        {
         "Sick": "2690",
         "FTI Measured": "2505",
         "Lithium": "2786",
         "Psych": "2665",
         "TBG Measured": "2800",
         "T3 Measured": "2215",
         "Referral Source": "1632",
         "Pregnant": "2759",
         "Sex": "1830",
         "Goiter": "2775",
         "On Thyroxine": "2470",
         "TT4 Measured": "2616",
         "Hypopituitary": "2799",
         "On Antithyroid Medication": "2766",
         "Query on Thyroxine": "2760",
         "TBG": "2800",
         "Query Hyperthyroid": "2627",
         "TSH Measured": "2516",
         "Tumor": "2729",
         "Query Hypothyroid": "2637",
         "I131 Treatment": "2752",
         "Thyroid Surgery": "2761",
         "T4U Measured": "2503",
         "_deepnote_index_column": "freq"
        }
       ],
       "rows_bottom": null
      },
      "text/plain": "        Sick FTI Measured Lithium Psych TBG Measured T3 Measured  \\\ncount   2800         2800    2800  2800         2800        2800   \nunique     2            2       2     2            1           2   \ntop        f            t       f     f            f           t   \nfreq    2690         2505    2786  2665         2800        2215   \n\n       Referral Source Pregnant   Sex Goiter  ... On Antithyroid Medication  \\\ncount             2800     2800  2800   2800  ...                      2800   \nunique               5        2     3      2  ...                         2   \ntop              other        f     F      f  ...                         f   \nfreq              1632     2759  1830   2775  ...                      2766   \n\n       Query on Thyroxine   TBG Query Hyperthyroid TSH Measured Tumor  \\\ncount                2800  2800               2800         2800  2800   \nunique                  2     1                  2            2     2   \ntop                     f   NaN                  f            t     f   \nfreq                 2760  2800               2627         2516  2729   \n\n       Query Hypothyroid I131 Treatment Thyroid Surgery T4U Measured  \ncount               2800           2800            2800         2800  \nunique                 2              2               2            2  \ntop                    f              f               f            t  \nfreq                2637           2752            2761         2503  \n\n[4 rows x 23 columns]",
      "text/html": "<div>\n<style scoped>\n    .dataframe tbody tr th:only-of-type {\n        vertical-align: middle;\n    }\n\n    .dataframe tbody tr th {\n        vertical-align: top;\n    }\n\n    .dataframe thead th {\n        text-align: right;\n    }\n</style>\n<table border=\"1\" class=\"dataframe\">\n  <thead>\n    <tr style=\"text-align: right;\">\n      <th></th>\n      <th>Sick</th>\n      <th>FTI Measured</th>\n      <th>Lithium</th>\n      <th>Psych</th>\n      <th>TBG Measured</th>\n      <th>T3 Measured</th>\n      <th>Referral Source</th>\n      <th>Pregnant</th>\n      <th>Sex</th>\n      <th>Goiter</th>\n      <th>...</th>\n      <th>On Antithyroid Medication</th>\n      <th>Query on Thyroxine</th>\n      <th>TBG</th>\n      <th>Query Hyperthyroid</th>\n      <th>TSH Measured</th>\n      <th>Tumor</th>\n      <th>Query Hypothyroid</th>\n      <th>I131 Treatment</th>\n      <th>Thyroid Surgery</th>\n      <th>T4U Measured</th>\n    </tr>\n  </thead>\n  <tbody>\n    <tr>\n      <th>count</th>\n      <td>2800</td>\n      <td>2800</td>\n      <td>2800</td>\n      <td>2800</td>\n      <td>2800</td>\n      <td>2800</td>\n      <td>2800</td>\n      <td>2800</td>\n      <td>2800</td>\n      <td>2800</td>\n      <td>...</td>\n      <td>2800</td>\n      <td>2800</td>\n      <td>2800</td>\n      <td>2800</td>\n      <td>2800</td>\n      <td>2800</td>\n      <td>2800</td>\n      <td>2800</td>\n      <td>2800</td>\n      <td>2800</td>\n    </tr>\n    <tr>\n      <th>unique</th>\n      <td>2</td>\n      <td>2</td>\n      <td>2</td>\n      <td>2</td>\n      <td>1</td>\n      <td>2</td>\n      <td>5</td>\n      <td>2</td>\n      <td>3</td>\n      <td>2</td>\n      <td>...</td>\n      <td>2</td>\n      <td>2</td>\n      <td>1</td>\n      <td>2</td>\n      <td>2</td>\n      <td>2</td>\n      <td>2</td>\n      <td>2</td>\n      <td>2</td>\n      <td>2</td>\n    </tr>\n    <tr>\n      <th>top</th>\n      <td>f</td>\n      <td>t</td>\n      <td>f</td>\n      <td>f</td>\n      <td>f</td>\n      <td>t</td>\n      <td>other</td>\n      <td>f</td>\n      <td>F</td>\n      <td>f</td>\n      <td>...</td>\n      <td>f</td>\n      <td>f</td>\n      <td>NaN</td>\n      <td>f</td>\n      <td>t</td>\n      <td>f</td>\n      <td>f</td>\n      <td>f</td>\n      <td>f</td>\n      <td>t</td>\n    </tr>\n    <tr>\n      <th>freq</th>\n      <td>2690</td>\n      <td>2505</td>\n      <td>2786</td>\n      <td>2665</td>\n      <td>2800</td>\n      <td>2215</td>\n      <td>1632</td>\n      <td>2759</td>\n      <td>1830</td>\n      <td>2775</td>\n      <td>...</td>\n      <td>2766</td>\n      <td>2760</td>\n      <td>2800</td>\n      <td>2627</td>\n      <td>2516</td>\n      <td>2729</td>\n      <td>2637</td>\n      <td>2752</td>\n      <td>2761</td>\n      <td>2503</td>\n    </tr>\n  </tbody>\n</table>\n<p>4 rows × 23 columns</p>\n</div>"
     },
     "metadata": {}
    }
   ],
   "execution_count": null
  },
  {
   "cell_type": "markdown",
   "source": "Great! Let's see if there's any other records we have to address. count() is a nice way to check if we have any other missing values.",
   "metadata": {
    "colab_type": "text",
    "id": "Jo9aRzltCOK8",
    "cell_id": "00027-3c662a88-d2e9-4efa-93a3-bebb230dabcc",
    "deepnote_cell_type": "markdown"
   }
  },
  {
   "cell_type": "code",
   "metadata": {
    "colab": {
     "autoexec": {
      "startup": false,
      "wait_interval": 0
     }
    },
    "colab_type": "code",
    "id": "Q1yGe8nrzozW",
    "cell_id": "00028-ebd9756e-fd9e-44f1-859b-d7f7a393821c",
    "deepnote_to_be_reexecuted": false,
    "source_hash": "5b370030",
    "execution_start": 1625692582829,
    "execution_millis": 18,
    "deepnote_cell_type": "code"
   },
   "source": "dataset.count()",
   "outputs": [
    {
     "output_type": "execute_result",
     "execution_count": 20,
     "data": {
      "text/plain": "Age                          2800\nSex                          2800\nOn Thyroxine                 2800\nQuery on Thyroxine           2800\nOn Antithyroid Medication    2800\nSick                         2800\nPregnant                     2800\nThyroid Surgery              2800\nI131 Treatment               2800\nQuery Hypothyroid            2800\nQuery Hyperthyroid           2800\nLithium                      2800\nGoiter                       2800\nTumor                        2800\nHypopituitary                2800\nPsych                        2800\nTSH Measured                 2800\nTSH                          2800\nT3 Measured                  2800\nT3                           2800\nTT4 Measured                 2800\nTT4                          2800\nT4U Measured                 2800\nT4U                          2800\nFTI Measured                 2800\nFTI                          2800\nTBG Measured                 2800\nTBG                          2800\nReferral Source              2800\nClass                        2800\ndtype: int64"
     },
     "metadata": {}
    }
   ],
   "execution_count": null
  },
  {
   "cell_type": "markdown",
   "source": "We could replace the missing values in proportion to the current number of males and females over the total, but that is making an assumption we don't have to make. For now, let's simply cut the records of all these sexless people out of our data.",
   "metadata": {
    "colab_type": "text",
    "id": "-Y9DDq8qCeL8",
    "cell_id": "00029-e3fd0fcd-0d18-44a2-a05d-8cb82d03df9e",
    "deepnote_cell_type": "markdown"
   }
  },
  {
   "cell_type": "code",
   "metadata": {
    "colab": {
     "autoexec": {
      "startup": false,
      "wait_interval": 0
     }
    },
    "colab_type": "code",
    "id": "1E6qS7F5zyt3",
    "cell_id": "00030-58548724-742a-46dd-b3c3-385331d54e45",
    "deepnote_to_be_reexecuted": false,
    "source_hash": "a28b607f",
    "execution_start": 1625692500236,
    "execution_millis": 0,
    "deepnote_cell_type": "code"
   },
   "source": "### Your code here\n",
   "outputs": [],
   "execution_count": null
  },
  {
   "cell_type": "markdown",
   "source": "Nice! Now we have a pretty clean dataset to work with. Let's now do some further data analysis and visualization to better understand what we're working with.",
   "metadata": {
    "colab_type": "text",
    "id": "eTcS25EHF4vL",
    "cell_id": "00031-9c48d9a8-de4c-47f8-b216-2d513ccd1e60",
    "deepnote_cell_type": "markdown"
   }
  },
  {
   "cell_type": "markdown",
   "source": "## Data analysis and visualization",
   "metadata": {
    "colab_type": "text",
    "id": "SsiaTCjQql3S",
    "cell_id": "00032-3f0ec780-a580-48d9-9af1-06db3d8591d2",
    "deepnote_cell_type": "markdown"
   }
  },
  {
   "cell_type": "markdown",
   "source": "Check the correlation of the dataset",
   "metadata": {
    "colab_type": "text",
    "id": "huFOG2Mw3OqJ",
    "cell_id": "00033-220c09f0-3cd5-499d-8f19-aadc8492b45d",
    "deepnote_cell_type": "markdown"
   }
  },
  {
   "cell_type": "code",
   "metadata": {
    "colab": {
     "autoexec": {
      "startup": false,
      "wait_interval": 0
     }
    },
    "colab_type": "code",
    "id": "fXrXSMW_GSeT",
    "cell_id": "00034-d2ffd0d7-43eb-473f-9748-36ef544a7e8a",
    "deepnote_to_be_reexecuted": false,
    "source_hash": "a28b607f",
    "execution_start": 1625692500237,
    "deepnote_cell_type": "code"
   },
   "source": "### Your code here",
   "outputs": [],
   "execution_count": null
  },
  {
   "cell_type": "markdown",
   "source": "Convert the class feature to numeric so we can also see the correlations it has with the numeric features, and check the correlation again.",
   "metadata": {
    "colab_type": "text",
    "id": "scfm6AEv3YIJ",
    "cell_id": "00035-009ef908-375d-4cfb-8820-53547f2f5461",
    "deepnote_cell_type": "markdown"
   }
  },
  {
   "cell_type": "code",
   "metadata": {
    "colab": {
     "autoexec": {
      "startup": false,
      "wait_interval": 0
     }
    },
    "colab_type": "code",
    "id": "2bGleemH3o3b",
    "cell_id": "00036-4f410299-8716-466a-823f-b84324a8eaeb",
    "deepnote_to_be_reexecuted": false,
    "source_hash": "d0f41154",
    "execution_start": 1625692500244,
    "deepnote_cell_type": "code"
   },
   "source": "import pandas as po\n\n### Your code here",
   "outputs": [],
   "execution_count": null
  },
  {
   "cell_type": "markdown",
   "source": "Let's do some further visual analysis using a new module called seaborn. Explore its incredible versatility and diversity with data visualization here: https://seaborn.pydata.org/",
   "metadata": {
    "colab_type": "text",
    "id": "tp4yO5kUGd3L",
    "cell_id": "00037-9dc89e4b-5eab-4127-997c-1bc5e020e967",
    "deepnote_cell_type": "markdown"
   }
  },
  {
   "cell_type": "code",
   "metadata": {
    "colab": {
     "autoexec": {
      "startup": false,
      "wait_interval": 0
     }
    },
    "colab_type": "code",
    "id": "JzkaBa64aXzb",
    "cell_id": "00038-0099c19e-be78-487c-80f7-3d8583fb7dea",
    "deepnote_to_be_reexecuted": false,
    "source_hash": "c4395c89",
    "execution_start": 1625692500248,
    "execution_millis": 830,
    "deepnote_cell_type": "code"
   },
   "source": "import seaborn as sns\nsns.pairplot(copy)",
   "outputs": [
    {
     "output_type": "error",
     "ename": "NameError",
     "evalue": "name 'copy' is not defined",
     "traceback": [
      "\u001b[0;31m---------------------------------------------------------------------------\u001b[0m",
      "\u001b[0;31mNameError\u001b[0m                                 Traceback (most recent call last)",
      "\u001b[0;32m<ipython-input-15-fd7411e816b4>\u001b[0m in \u001b[0;36m<module>\u001b[0;34m\u001b[0m\n\u001b[1;32m      1\u001b[0m \u001b[0;32mimport\u001b[0m \u001b[0mseaborn\u001b[0m \u001b[0;32mas\u001b[0m \u001b[0msns\u001b[0m\u001b[0;34m\u001b[0m\u001b[0;34m\u001b[0m\u001b[0m\n\u001b[0;32m----> 2\u001b[0;31m \u001b[0msns\u001b[0m\u001b[0;34m.\u001b[0m\u001b[0mpairplot\u001b[0m\u001b[0;34m(\u001b[0m\u001b[0mcopy\u001b[0m\u001b[0;34m)\u001b[0m\u001b[0;34m\u001b[0m\u001b[0;34m\u001b[0m\u001b[0m\n\u001b[0m",
      "\u001b[0;31mNameError\u001b[0m: name 'copy' is not defined"
     ]
    }
   ],
   "execution_count": null
  },
  {
   "cell_type": "markdown",
   "source": "OK! I think we're ready to create and select some supervised learning models. To get the ball rolling, select Age and Sex as our explanatory features (and class as the target feature, obviously).",
   "metadata": {
    "colab_type": "text",
    "id": "mvW7_0aWFSEm",
    "cell_id": "00039-db4ba8e1-86fe-4e8b-afbc-b3d3fd0b6bf5",
    "deepnote_cell_type": "markdown"
   }
  },
  {
   "cell_type": "markdown",
   "source": "## Model training and selection",
   "metadata": {
    "colab_type": "text",
    "id": "JXMQ9UaKqyha",
    "cell_id": "00040-baeba808-03ab-4719-b8a9-92d04f4c3e24",
    "deepnote_cell_type": "markdown"
   }
  },
  {
   "cell_type": "markdown",
   "source": "Let's dummy the categorical variables (but not the class value!) and view the column names to select some for our model.",
   "metadata": {
    "colab_type": "text",
    "id": "Mon3ih88tW8y",
    "cell_id": "00041-2bf90da0-c9fc-4816-8216-ed709f798b1a",
    "deepnote_cell_type": "markdown"
   }
  },
  {
   "cell_type": "code",
   "metadata": {
    "colab": {
     "autoexec": {
      "startup": false,
      "wait_interval": 0
     }
    },
    "colab_type": "code",
    "id": "1NqvPYi6itkH",
    "cell_id": "00042-c4328e17-da04-4472-8eda-fe2de2e12a77",
    "deepnote_to_be_reexecuted": true,
    "source_hash": "a28b607f",
    "deepnote_cell_type": "code"
   },
   "source": "### Your code here",
   "execution_count": 0,
   "outputs": []
  },
  {
   "cell_type": "markdown",
   "source": "All right, let's now split our data into training and testing in an 80-20 split. For consistency, let's all use a seed of 8675309.",
   "metadata": {
    "colab_type": "text",
    "id": "4yEeqjv19hCX",
    "cell_id": "00043-09382447-ebda-47af-b74e-f30e189109fb",
    "deepnote_cell_type": "markdown"
   }
  },
  {
   "cell_type": "code",
   "metadata": {
    "colab": {
     "autoexec": {
      "startup": false,
      "wait_interval": 0
     },
     "base_uri": "https://localhost:8080/",
     "height": 36
    },
    "colab_type": "code",
    "executionInfo": {
     "elapsed": 452,
     "status": "ok",
     "timestamp": 1531117461829,
     "user": {
      "displayName": "Lyle Lalunio",
      "photoUrl": "https://lh3.googleusercontent.com/a/default-user=s128",
      "userId": "108954789805627648380"
     },
     "user_tz": 240
    },
    "id": "GQqlCTGntXCX",
    "outputId": "17fb180a-5a12-4890-8de2-2b2d73bfe9df",
    "cell_id": "00044-4294e06b-991f-493b-9395-85f891db8ee7",
    "deepnote_to_be_reexecuted": true,
    "source_hash": "f699fa44",
    "deepnote_cell_type": "code"
   },
   "source": "from sklearn.model_selection import train_test_split\n\n## Your code here",
   "execution_count": null,
   "outputs": []
  },
  {
   "cell_type": "markdown",
   "source": "For reusability, let's make a logistic regression function that will take our training and testing data as arguments. Inside the function, build a model on your training data, fit it with your training class data, and return a list of your predictions.",
   "metadata": {
    "colab_type": "text",
    "id": "6KGUCXBE-OFy",
    "cell_id": "00045-bf459db7-a71b-4abb-8916-3cb1a58ada89",
    "deepnote_cell_type": "markdown"
   }
  },
  {
   "cell_type": "code",
   "metadata": {
    "colab": {
     "autoexec": {
      "startup": false,
      "wait_interval": 0
     }
    },
    "colab_type": "code",
    "id": "DawvoHd7lnG9",
    "cell_id": "00046-695eea46-1d15-4efe-bc7c-093eb04269c2",
    "deepnote_to_be_reexecuted": true,
    "source_hash": "19b1b589",
    "deepnote_cell_type": "code"
   },
   "source": "from sklearn import metrics\nfrom sklearn.linear_model import LogisticRegression\n\ndef log_reg(train_X,train_Y,test_X,test_Y):\n\n  ### Your code here\n",
   "execution_count": 0,
   "outputs": []
  },
  {
   "cell_type": "markdown",
   "source": "Fantastic, we have just built a logistic regression model! Let's go see how well it performs.",
   "metadata": {
    "colab_type": "text",
    "id": "JR8xu_VVsygN",
    "cell_id": "00047-37b44b5b-b8ae-425a-a8df-5c1cd90e0b18",
    "deepnote_cell_type": "markdown"
   }
  },
  {
   "cell_type": "markdown",
   "source": "### Model evaluation",
   "metadata": {
    "colab_type": "text",
    "id": "gAz096POwSRJ",
    "cell_id": "00048-9b4292d9-2696-491a-8090-5bdf7b2c819f",
    "deepnote_cell_type": "markdown"
   }
  },
  {
   "cell_type": "markdown",
   "source": "To start, let's establish the baseline performance. This is important because it provides a starting point of comparison for later evaluation methods, like accuracy.\n\nA good baseline model to use is the Zero Rule algorithm. In classification problems, it simply predicts the class value with the greatest number of instances every time.",
   "metadata": {
    "colab_type": "text",
    "id": "570duVNhrTZh",
    "cell_id": "00049-a83a02f3-350a-4e1f-aa28-eb55b903bade",
    "deepnote_cell_type": "markdown"
   }
  },
  {
   "cell_type": "code",
   "metadata": {
    "colab": {
     "autoexec": {
      "startup": false,
      "wait_interval": 0
     }
    },
    "colab_type": "code",
    "id": "fwvqucK_Yg-2",
    "cell_id": "00050-477019de-a4be-420d-93db-ca884321cfb7",
    "deepnote_to_be_reexecuted": true,
    "source_hash": "dffc7247",
    "deepnote_cell_type": "code"
   },
   "source": "def zero_rule_algorithm_classification(train,test):\n  ## Your code here",
   "execution_count": 0,
   "outputs": []
  },
  {
   "cell_type": "markdown",
   "source": "Get your baseline performance by calculating the accuracy of your Zero Rule algorithm.",
   "metadata": {
    "colab_type": "text",
    "id": "I_nExUgUYll5",
    "cell_id": "00051-a1aaeceb-7bab-4913-aa74-5cd53912ab2e",
    "deepnote_cell_type": "markdown"
   }
  },
  {
   "cell_type": "code",
   "metadata": {
    "colab": {
     "autoexec": {
      "startup": false,
      "wait_interval": 0
     }
    },
    "colab_type": "code",
    "id": "zs0M8OdtYidB",
    "cell_id": "00052-474d102a-35fc-4b83-bac2-0944830964f0",
    "deepnote_to_be_reexecuted": true,
    "source_hash": "8552234c",
    "deepnote_cell_type": "code"
   },
   "source": "## Your code here",
   "execution_count": 0,
   "outputs": []
  },
  {
   "cell_type": "markdown",
   "source": "So maybe accuracy isn't the best performance measure for this dataset. As you've seen already, even when the models predict \"negative\" for all the records, we could already achieve a ~92% accuracy. However, that also implies we incorrectly predicted 100% of the positive cases, which in the context of this problem, is fatal.\n\nThankfully, it isn't the only way to evaluate your model. Let's take a look at a confusion matrix.\n\n![alt text](https://i.imgur.com/uipmEwt.png)",
   "metadata": {
    "colab_type": "text",
    "id": "WksirqfT5Ecw",
    "cell_id": "00053-4f9fd871-24ad-4bfd-a7ed-23bb9a14dbc0",
    "deepnote_cell_type": "markdown"
   }
  },
  {
   "cell_type": "markdown",
   "source": "Create a confusion matrix using the logistic regression function you built earlier.",
   "metadata": {
    "colab_type": "text",
    "id": "-vzqX_SKaBzK",
    "cell_id": "00054-618c508d-3ee7-4d02-9aea-739f3189b730",
    "deepnote_cell_type": "markdown"
   }
  },
  {
   "cell_type": "code",
   "metadata": {
    "colab": {
     "autoexec": {
      "startup": false,
      "wait_interval": 0
     }
    },
    "colab_type": "code",
    "id": "DSS7JdYjaBWh",
    "cell_id": "00055-f5bb16f5-b948-487e-bf86-ddf09af4b7bc",
    "deepnote_to_be_reexecuted": true,
    "source_hash": "a8fda225",
    "deepnote_cell_type": "code"
   },
   "source": "from sklearn.metrics import confusion_matrix\n\n### Your code here",
   "execution_count": 0,
   "outputs": []
  },
  {
   "cell_type": "markdown",
   "source": "\nYet another appropriate metric is the Area Under the Receiver Operator Curve. Specifically, the diagnostic performance of a test, or the accuracy of a test to discriminate diseased cases from normal cases is evaluated using Receiver Operating Characteristic (ROC) curve analysis.\n\nWhen you consider the results of a particular test in two populations, one population with a disease, the other population without the disease, you will rarely observe a perfect separation between the two groups. Hence, the overlapping areas in the diagram below (FN, FP).\n\nIn a Receiver Operating Characteristic (ROC) curve the true positive rate (Sensitivity) is plotted in function of the false positive rate (100-Specificity) for different cut-off points. Each point on the ROC curve represents a sensitivity/specificity pair corresponding to a particular decision threshold. A test with perfect discrimination (no overlap in the two distributions) has a ROC curve that passes through the upper left corner (100% sensitivity, 100% specificity). Therefore the closer the ROC curve is to the upper left corner, the higher the overall accuracy of the test.\n\n![alt text](https://www.medcalc.org/manual/_help/images/roc_intro1.png)\n\n\n\n",
   "metadata": {
    "colab_type": "text",
    "id": "z0JPOHmQn8N6",
    "cell_id": "00056-fdc3ef5e-8145-44a9-bb6a-3b892ca67fe1",
    "deepnote_cell_type": "markdown"
   }
  },
  {
   "cell_type": "markdown",
   "source": "Now, to graph the AUROC curve, we will need to predict probabilities of choosing a specific class value rather than the class value itself. Make a new logistic regression model that does so.",
   "metadata": {
    "colab_type": "text",
    "id": "cvTWQTcycBEp",
    "cell_id": "00057-d9366daa-54a3-413a-bd9b-4fbaaff44823",
    "deepnote_cell_type": "markdown"
   }
  },
  {
   "cell_type": "code",
   "metadata": {
    "colab": {
     "autoexec": {
      "startup": false,
      "wait_interval": 0
     }
    },
    "colab_type": "code",
    "id": "Ur0s4m3kg3H-",
    "cell_id": "00058-b6e1ff9d-e15e-4dea-9fde-44bad027f6f1",
    "deepnote_to_be_reexecuted": true,
    "source_hash": "b569b71c",
    "deepnote_cell_type": "code"
   },
   "source": "from sklearn.linear_model import LogisticRegression\n\n### Your code here",
   "execution_count": 0,
   "outputs": []
  },
  {
   "cell_type": "markdown",
   "source": "Now calculate the area under the receiver operator curve with your predictions.",
   "metadata": {
    "colab_type": "text",
    "id": "Xm0yv6wmDnQz",
    "cell_id": "00059-3b1177b1-8256-4c0b-9234-fdfb9d885e87",
    "deepnote_cell_type": "markdown"
   }
  },
  {
   "cell_type": "code",
   "metadata": {
    "colab": {
     "autoexec": {
      "startup": false,
      "wait_interval": 0
     }
    },
    "colab_type": "code",
    "id": "0xRxhlqbcc-I",
    "cell_id": "00060-70a6cbb2-d481-4b98-8649-1e732e27808d",
    "deepnote_to_be_reexecuted": true,
    "source_hash": "f50eab61",
    "deepnote_cell_type": "code"
   },
   "source": "from sklearn import metrics\n\n### Your code here",
   "execution_count": 0,
   "outputs": []
  },
  {
   "cell_type": "markdown",
   "source": "Now graph the ROC curve using matplotlib, fully labeled.",
   "metadata": {
    "colab_type": "text",
    "id": "w3hnQOGUczOn",
    "cell_id": "00061-6b112153-f2f7-4456-98e3-b6b5abf3e6d5",
    "deepnote_cell_type": "markdown"
   }
  },
  {
   "cell_type": "code",
   "metadata": {
    "colab": {
     "autoexec": {
      "startup": false,
      "wait_interval": 0
     }
    },
    "colab_type": "code",
    "id": "JA-ieOGua55H",
    "cell_id": "00062-58ed95d2-f259-4088-bf15-97c4d7da684d",
    "deepnote_to_be_reexecuted": true,
    "source_hash": "f1e65c99",
    "deepnote_cell_type": "code"
   },
   "source": "import matplotlib.pyplot as plt\n\n### Your code here",
   "execution_count": 0,
   "outputs": []
  },
  {
   "cell_type": "markdown",
   "source": "In conclusion, it looks like this model performed pretty bad. It's probably best to try out different columns or perhaps use a different model before we submit our model for scoring.",
   "metadata": {
    "colab_type": "text",
    "id": "5D4BtDZV6fxV",
    "cell_id": "00063-d8d82abe-c6d0-42e4-83ee-0ede0bd75851",
    "deepnote_cell_type": "markdown"
   }
  },
  {
   "cell_type": "markdown",
   "source": "# Submitting your Model",
   "metadata": {
    "colab_type": "text",
    "id": "5JW3myd8LHJy",
    "cell_id": "00064-ec6ed03f-6554-4d7a-b1ee-692862e12789",
    "deepnote_cell_type": "markdown"
   }
  },
  {
   "cell_type": "markdown",
   "source": "Once you believe to have found the best classifier, run your classifier on the test data and make a pickle file containing of your predictions contained a pandas dataframe.\n\nThis pandas dataframe will contain three columns for your binary classifier (or 5 columns for the multiclass classifier): the first column should be your model's \"best guess\" for each patient (either 0 or 1, negative or positive) and the last two columns should be the probability the patient would be classified as either a 0 or 1.\n\n(see below for reference)",
   "metadata": {
    "colab_type": "text",
    "id": "Wuexs1daLNBY",
    "cell_id": "00065-376d636e-e176-405e-bf34-8238704b8b12",
    "deepnote_cell_type": "markdown"
   }
  },
  {
   "cell_type": "code",
   "metadata": {
    "colab": {
     "autoexec": {
      "startup": false,
      "wait_interval": 0
     },
     "base_uri": "https://localhost:8080/",
     "height": 16
    },
    "colab_type": "code",
    "executionInfo": {
     "elapsed": 735,
     "status": "ok",
     "timestamp": 1531300930305,
     "user": {
      "displayName": "Lyle Lalunio",
      "photoUrl": "https://lh3.googleusercontent.com/a/default-user=s128",
      "userId": "108954789805627648380"
     },
     "user_tz": 240
    },
    "id": "GkZOEgg3m3g1",
    "outputId": "6e113681-1554-4d5d-ee1a-14fce422cdfe",
    "cell_id": "00066-10af5235-b89e-458a-9662-f0f792705571",
    "deepnote_to_be_reexecuted": true,
    "source_hash": "6e54bb32",
    "execution_start": 1625510171318,
    "execution_millis": 615,
    "deepnote_cell_type": "code"
   },
   "source": "# pickling example\nimport pickle\npredictions = po.DataFrame({\"guesses\":[0,1,0,1],\"prob_neg\":[.75,.15,.63,.20],\"prob_pos\":[.25,.85,.27,.80]})\nprediction_pickle_path = 'prediction_pickle.pkl'\n\n# Create an variable to pickle and open it in write mode\nprediction_pickle = open(prediction_pickle_path, 'wb')\npickle.dump(predictions, prediction_pickle)\n\nprediction_pickle.close()",
   "execution_count": null,
   "outputs": [
    {
     "output_type": "error",
     "ename": "NameError",
     "evalue": "name 'po' is not defined",
     "traceback": [
      "\u001b[0;31m---------------------------------------------------------------------------\u001b[0m",
      "\u001b[0;31mNameError\u001b[0m                                 Traceback (most recent call last)",
      "\u001b[0;32m<ipython-input-1-365920909203>\u001b[0m in \u001b[0;36m<module>\u001b[0;34m\u001b[0m\n\u001b[1;32m      1\u001b[0m \u001b[0;31m# pickling example\u001b[0m\u001b[0;34m\u001b[0m\u001b[0;34m\u001b[0m\u001b[0;34m\u001b[0m\u001b[0m\n\u001b[1;32m      2\u001b[0m \u001b[0;32mimport\u001b[0m \u001b[0mpickle\u001b[0m\u001b[0;34m\u001b[0m\u001b[0;34m\u001b[0m\u001b[0m\n\u001b[0;32m----> 3\u001b[0;31m \u001b[0mpredictions\u001b[0m \u001b[0;34m=\u001b[0m \u001b[0mpo\u001b[0m\u001b[0;34m.\u001b[0m\u001b[0mDataFrame\u001b[0m\u001b[0;34m(\u001b[0m\u001b[0;34m{\u001b[0m\u001b[0;34m\"guesses\"\u001b[0m\u001b[0;34m:\u001b[0m\u001b[0;34m[\u001b[0m\u001b[0;36m0\u001b[0m\u001b[0;34m,\u001b[0m\u001b[0;36m1\u001b[0m\u001b[0;34m,\u001b[0m\u001b[0;36m0\u001b[0m\u001b[0;34m,\u001b[0m\u001b[0;36m1\u001b[0m\u001b[0;34m]\u001b[0m\u001b[0;34m,\u001b[0m\u001b[0;34m\"prob_neg\"\u001b[0m\u001b[0;34m:\u001b[0m\u001b[0;34m[\u001b[0m\u001b[0;36m.75\u001b[0m\u001b[0;34m,\u001b[0m\u001b[0;36m.15\u001b[0m\u001b[0;34m,\u001b[0m\u001b[0;36m.63\u001b[0m\u001b[0;34m,\u001b[0m\u001b[0;36m.20\u001b[0m\u001b[0;34m]\u001b[0m\u001b[0;34m,\u001b[0m\u001b[0;34m\"prob_pos\"\u001b[0m\u001b[0;34m:\u001b[0m\u001b[0;34m[\u001b[0m\u001b[0;36m.25\u001b[0m\u001b[0;34m,\u001b[0m\u001b[0;36m.85\u001b[0m\u001b[0;34m,\u001b[0m\u001b[0;36m.27\u001b[0m\u001b[0;34m,\u001b[0m\u001b[0;36m.80\u001b[0m\u001b[0;34m]\u001b[0m\u001b[0;34m}\u001b[0m\u001b[0;34m)\u001b[0m\u001b[0;34m\u001b[0m\u001b[0;34m\u001b[0m\u001b[0m\n\u001b[0m\u001b[1;32m      4\u001b[0m \u001b[0mprediction_pickle_path\u001b[0m \u001b[0;34m=\u001b[0m \u001b[0;34m'prediction_pickle.pkl'\u001b[0m\u001b[0;34m\u001b[0m\u001b[0;34m\u001b[0m\u001b[0m\n\u001b[1;32m      5\u001b[0m \u001b[0;34m\u001b[0m\u001b[0m\n",
      "\u001b[0;31mNameError\u001b[0m: name 'po' is not defined"
     ]
    }
   ]
  },
  {
   "cell_type": "code",
   "metadata": {
    "colab": {
     "autoexec": {
      "startup": false,
      "wait_interval": 0
     },
     "base_uri": "https://localhost:8080/",
     "height": 105
    },
    "colab_type": "code",
    "executionInfo": {
     "elapsed": 263,
     "status": "ok",
     "timestamp": 1531301033636,
     "user": {
      "displayName": "Lyle Lalunio",
      "photoUrl": "https://lh3.googleusercontent.com/a/default-user=s128",
      "userId": "108954789805627648380"
     },
     "user_tz": 240
    },
    "id": "Dj6_AB6LnjrW",
    "outputId": "399f0da3-727f-4e2f-9213-385243a95553",
    "cell_id": "00067-bc594228-5e0f-4b77-a810-af748a352536",
    "deepnote_to_be_reexecuted": true,
    "source_hash": "6bbc19f9",
    "deepnote_cell_type": "code"
   },
   "source": "prediction_unpickle = open(prediction_pickle_path, 'rb')\n \n# load the unpickle object into a variable\npredictions = pickle.load(prediction_unpickle)\n \nprint(predictions)",
   "execution_count": null,
   "outputs": [
    {
     "name": "stdout",
     "output_type": "stream",
     "text": "   guesses  prob_neg  prob_pos\n0        0      0.75      0.25\n1        1      0.15      0.85\n2        0      0.63      0.27\n3        1      0.20      0.80\n"
    }
   ]
  },
  {
   "cell_type": "markdown",
   "source": "# Scoring your Model",
   "metadata": {
    "colab_type": "text",
    "id": "GW27RtFNttQA",
    "cell_id": "00068-27fe8845-7bc3-47d1-80d8-4d0a9706d491",
    "deepnote_cell_type": "markdown"
   }
  },
  {
   "cell_type": "markdown",
   "source": "\n**Area Under ROC Curve**: A receiver operating characteristic (ROC) curve plots the true positive rate (y) against the false positive rate (x) at many decision threshold settings (output < threshold = 0, output > threshold = 1). The area under this curve represents the probability that a classifier will rank a randomly chosen positive instance higher than a randomly chosen negative one.\n\n**Confusion Matrix**: You will receive a certain number of points for each correct classification and a certain point penalty for each incorrect classification. The points are weighted, and are designed to equate to 0 in a Zero Rule baseline model. This point scheme is designed to punish you heavily for predicting false positives (FP) and false negatives (FN)--FN cases especially. In doing so, we hope you see the importance of clinical considerations and treat your models from a more human perspective, rather than detached from it.\n\n**Real World Cost**: Similar to the confusion matrix, we want you to keep in mind the other aspects of healthcare analytics--in this case, economic feasibility. In essence, we want you to minimize the amount of time and money spent on data collection by reducing the number of features collected. Each record certainly required a lot of time and money from several individuals and businesses to reliably create, and we hope you gain a better understanding of conducting a useful cost-benefit analysis with this scoring method. The full details of the weighted features can be found in the GitHub.",
   "metadata": {
    "colab_type": "text",
    "id": "iJdiisMerewv",
    "cell_id": "00069-d2f6afaa-cda0-49b1-9054-4584a4b7f46d",
    "deepnote_cell_type": "markdown"
   }
  },
  {
   "cell_type": "markdown",
   "source": "# Moving to the Next Level",
   "metadata": {
    "colab_type": "text",
    "id": "w66lpbB6Qv_M",
    "cell_id": "00070-ffd8f065-4590-4610-a4ac-c66262c746f2",
    "deepnote_cell_type": "markdown"
   }
  },
  {
   "cell_type": "markdown",
   "source": "For those that finish early, remember how I converted the class values into simply \"negative\" and \"positive\"? Now try tackling the multiclass classifier (predicting the different types of positive hypothyroid cases instead of simply negative or positive)! \n\nThe same rules apply!",
   "metadata": {
    "colab_type": "text",
    "id": "X-HZ12lht_so",
    "cell_id": "00071-f937a6d6-cc0c-4bbf-8bde-35b0720a893e",
    "deepnote_cell_type": "markdown"
   }
  },
  {
   "cell_type": "markdown",
   "source": "<a style='text-decoration:none;line-height:16px;display:flex;color:#5B5B62;padding:10px;justify-content:end;' href='https://deepnote.com?utm_source=created-in-deepnote-cell&projectId=783c3aa1-1225-4605-b690-395c43d54391' target=\"_blank\">\n<img alt='Created in deepnote.com' style='display:inline;max-height:16px;margin:0px;margin-right:7.5px;' src='data:image/svg+xml;base64,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' > </img>\nCreated in <span style='font-weight:600;margin-left:4px;'>Deepnote</span></a>",
   "metadata": {
    "tags": [],
    "created_in_deepnote_cell": true,
    "deepnote_cell_type": "markdown"
   }
  }
 ],
 "nbformat": 4,
 "nbformat_minor": 1,
 "metadata": {
  "colab": {
   "collapsed_sections": [],
   "default_view": {},
   "name": "Challenge_Project_STUDENT.ipynb",
   "provenance": [],
   "version": "0.3.2",
   "views": {}
  },
  "kernelspec": {
   "display_name": "Python 3",
   "language": "python",
   "name": "python3"
  },
  "language_info": {
   "codemirror_mode": {
    "name": "ipython",
    "version": 3
   },
   "file_extension": ".py",
   "mimetype": "text/x-python",
   "name": "python",
   "nbconvert_exporter": "python",
   "pygments_lexer": "ipython3",
   "version": "3.7.3"
  },
  "deepnote_notebook_id": "f8c9caeb-052c-426a-b255-3c3b6ce5c5b0",
  "deepnote": {},
  "deepnote_execution_queue": []
 }
}