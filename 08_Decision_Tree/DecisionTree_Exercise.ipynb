{
 "cells": [
  {
   "cell_type": "markdown",
   "source": "# Decision Tree Worksheet",
   "metadata": {
    "colab_type": "text",
    "id": "-UimMCmGe19F",
    "cell_id": "00000-a17bbd0c-936b-4d1f-bfc8-e616765c57a2",
    "deepnote_cell_type": "markdown"
   }
  },
  {
   "cell_type": "code",
   "metadata": {
    "colab": {
     "autoexec": {
      "startup": false,
      "wait_interval": 0
     }
    },
    "colab_type": "code",
    "id": "kedW02LgKjVL",
    "cell_id": "00001-c3a1e231-0620-4e41-9bfb-126e240634bd",
    "deepnote_to_be_reexecuted": false,
    "source_hash": "eb9a879d",
    "execution_start": 1625693190293,
    "execution_millis": 2203,
    "deepnote_cell_type": "code"
   },
   "source": "import numpy as np\nimport pandas as pd\nfrom sklearn.model_selection import train_test_split\nfrom sklearn.tree import DecisionTreeClassifier\nfrom sklearn.metrics import accuracy_score\nfrom sklearn import tree\nfrom sklearn.ensemble import RandomForestClassifier\nfrom sklearn import metrics\nimport graphviz\nimport matplotlib.pyplot as plt",
   "outputs": [],
   "execution_count": null
  },
  {
   "cell_type": "markdown",
   "source": "## Loading data\n\nLoad Pima diabetes dataset and split data, with test size 20% and validaton 20%.",
   "metadata": {
    "colab_type": "text",
    "id": "rz35eT5-SMht",
    "cell_id": "00002-e2b4cf2f-ab18-4c3d-a27e-cb9494cd9638",
    "deepnote_cell_type": "markdown"
   }
  },
  {
   "cell_type": "code",
   "metadata": {
    "colab": {
     "autoexec": {
      "startup": false,
      "wait_interval": 0
     }
    },
    "colab_type": "code",
    "id": "Ydh9gmDkMGmu",
    "cell_id": "00003-5bf0a911-8f0b-4156-b87f-79779a708c8b",
    "deepnote_to_be_reexecuted": false,
    "source_hash": "a005aa87",
    "execution_start": 1625693192512,
    "execution_millis": 120,
    "deepnote_cell_type": "code"
   },
   "source": "url = \"https://raw.githubusercontent.com/jbrownlee/Datasets/master/pima-indians-diabetes.data.csv\"\nnames = ['preg', 'plas', 'pres', 'skin', 'test', 'mass', 'pedi', 'age', 'class']\n\n## YOUR CODE HERE\ninvalid = ['plas', 'pres', 'skin', 'test', 'mass']\n\ndata = pd.read_csv(url, names=names)\nfor i in invalid:\n    data[i].replace(to_replace=0, value=np.nan, inplace=True)\n    \ndata = data.dropna(axis=0).reset_index(drop=True)\n\n\nX_cols = ['preg', 'plas', 'pres', 'skin', 'test', 'mass', 'pedi', 'age']\ny_col = 'class'\n\ntest_size = 0.2\nX_train, X_test, y_train, y_test = train_test_split(data[X_cols], data[y_col], test_size=test_size, random_state=0)\nX_train, X_val, y_train, y_val = train_test_split(X_train, y_train, test_size=test_size, random_state=0)",
   "outputs": [],
   "execution_count": null
  },
  {
   "cell_type": "markdown",
   "source": "## Creating Model\n\nMake a model using sklearn's DecisionTreeClassifier, with a high max-depth and low minimum sample leafs.",
   "metadata": {
    "colab_type": "text",
    "id": "KAFhsJIsSpMR",
    "cell_id": "00004-6639bcea-5f35-47d7-b6ef-12778faac808",
    "deepnote_cell_type": "markdown"
   }
  },
  {
   "cell_type": "code",
   "metadata": {
    "colab": {
     "autoexec": {
      "startup": false,
      "wait_interval": 0
     }
    },
    "colab_type": "code",
    "id": "fHbA28aFS2DM",
    "cell_id": "00005-34b9ffb0-76e4-42f5-8e16-3f49f8c50e72",
    "deepnote_to_be_reexecuted": false,
    "source_hash": "f1574448",
    "execution_start": 1625693192645,
    "execution_millis": 88,
    "deepnote_cell_type": "code"
   },
   "source": "## YOUR CODE HERE\n# Creating a model with sklearn's decision DecisionTreeClassifier\ndecision_tree = DecisionTreeClassifier(criterion = \"entropy\", random_state = None,\n                              max_depth=5, min_samples_leaf=5)  # minimum sample leafs is the minimum sample \n                                                                # amount the leaf can have\n\n# Training/fitting the model with training data\ndecision_tree.fit(X_train, y_train)",
   "outputs": [
    {
     "output_type": "execute_result",
     "execution_count": 3,
     "data": {
      "text/plain": "DecisionTreeClassifier(criterion='entropy', max_depth=5, min_samples_leaf=5)"
     },
     "metadata": {}
    }
   ],
   "execution_count": null
  },
  {
   "cell_type": "markdown",
   "source": "Print accuracy of training and validation data.",
   "metadata": {
    "colab_type": "text",
    "id": "4_8DZinWTJRa",
    "cell_id": "00006-81e439d6-7a96-472e-9262-17c68e1d0b9e",
    "deepnote_cell_type": "markdown"
   }
  },
  {
   "cell_type": "code",
   "metadata": {
    "colab": {
     "autoexec": {
      "startup": false,
      "wait_interval": 0
     }
    },
    "colab_type": "code",
    "id": "EgByCP_EhyB2",
    "cell_id": "00007-e8d6f2e4-f39b-46a2-9d98-d51ee62690da",
    "deepnote_to_be_reexecuted": false,
    "source_hash": "164691b6",
    "execution_start": 1625693192676,
    "execution_millis": 57,
    "deepnote_cell_type": "code"
   },
   "source": "## YOUR CODE HERE\ny_train_pred=decision_tree.predict(X_train)\nprint(\"Training Accuracy is \", accuracy_score(y_train, y_train_pred)*100)\ny_val_pred=decision_tree.predict(X_val)\nprint(\"Validation Accuracy is \", accuracy_score(y_val,y_val_pred)*100)",
   "outputs": [
    {
     "name": "stdout",
     "text": "Training Accuracy is  84.8\nValidation Accuracy is  77.77777777777779\n",
     "output_type": "stream"
    }
   ],
   "execution_count": null
  },
  {
   "cell_type": "markdown",
   "source": "Make a model with a low max-depth and higher minimum sample leafs.",
   "metadata": {
    "colab_type": "text",
    "id": "6HNa6fxbT6ak",
    "cell_id": "00008-6e91e88a-ef5c-4aed-8764-def8ee31374d",
    "deepnote_cell_type": "markdown"
   }
  },
  {
   "cell_type": "code",
   "metadata": {
    "colab": {
     "autoexec": {
      "startup": false,
      "wait_interval": 0
     },
     "base_uri": "https://localhost:8080/",
     "height": 17
    },
    "colab_type": "code",
    "executionInfo": {
     "elapsed": 287,
     "status": "ok",
     "timestamp": 1530627778885,
     "user": {
      "displayName": "john passarelli",
      "photoUrl": "https://lh3.googleusercontent.com/a/default-user=s128",
      "userId": "102241934905781120798"
     },
     "user_tz": 240
    },
    "id": "6Pbu-t_tiqnB",
    "outputId": "ef95b427-e6b4-41a7-f992-9826342b662c",
    "cell_id": "00009-dc03dee1-6581-4b23-bd62-24cf1243aa14",
    "deepnote_to_be_reexecuted": false,
    "source_hash": "73f6a6f0",
    "execution_start": 1625693192708,
    "execution_millis": 35,
    "deepnote_cell_type": "code"
   },
   "source": "## YOUR CODE HERE\ndecision_tree = DecisionTreeClassifier(criterion = \"entropy\", random_state = None,\n                              max_depth=2, min_samples_leaf=10)  # minimum sample leafs is the minimum sample \n                                                                # amount the leaf can have\n\n# Training/fitting the model with training data\ndecision_tree.fit(X_train, y_train)",
   "outputs": [
    {
     "output_type": "execute_result",
     "execution_count": 5,
     "data": {
      "text/plain": "DecisionTreeClassifier(criterion='entropy', max_depth=2, min_samples_leaf=10)"
     },
     "metadata": {}
    }
   ],
   "execution_count": null
  },
  {
   "cell_type": "markdown",
   "source": "Print accuracy of training and validation data.",
   "metadata": {
    "cell_id": "00010-7d8f485f-76b0-4e38-a2e5-088cb3280c4c",
    "deepnote_cell_type": "markdown"
   }
  },
  {
   "cell_type": "code",
   "metadata": {
    "cell_id": "00011-3f1ae7c6-a846-4695-94e8-22d5b70aa40e",
    "deepnote_to_be_reexecuted": false,
    "source_hash": "164691b6",
    "execution_start": 1625693192737,
    "execution_millis": 7,
    "deepnote_cell_type": "code"
   },
   "source": "## YOUR CODE HERE\ny_train_pred=decision_tree.predict(X_train)\nprint(\"Training Accuracy is \", accuracy_score(y_train, y_train_pred)*100)\ny_val_pred=decision_tree.predict(X_val)\nprint(\"Validation Accuracy is \", accuracy_score(y_val,y_val_pred)*100)",
   "outputs": [
    {
     "name": "stdout",
     "text": "Training Accuracy is  80.80000000000001\nValidation Accuracy is  77.77777777777779\n",
     "output_type": "stream"
    }
   ],
   "execution_count": null
  },
  {
   "cell_type": "markdown",
   "source": "Explain the accuracy results below. \n\n(YOUR ANSWER HERE)",
   "metadata": {
    "cell_id": "00012-9cf39459-b066-4108-a92c-db97336134c5",
    "deepnote_cell_type": "markdown"
   }
  },
  {
   "cell_type": "markdown",
   "source": "## Metrics",
   "metadata": {
    "cell_id": "00013-f73ddd54-5cd5-4d88-bfef-6e7d298889a7",
    "deepnote_cell_type": "markdown"
   }
  },
  {
   "cell_type": "markdown",
   "source": "Plot the ROC curve and print the AUC of the second model.",
   "metadata": {
    "cell_id": "00014-debf10c1-dd3b-46a5-ac8b-2371da3d5867",
    "deepnote_cell_type": "markdown"
   }
  },
  {
   "cell_type": "code",
   "metadata": {
    "cell_id": "00015-e99a7d62-9b22-4318-b695-8427017bfbcf",
    "deepnote_to_be_reexecuted": false,
    "source_hash": "4c7b2faf",
    "execution_start": 1625693192778,
    "execution_millis": 276,
    "deepnote_cell_type": "code"
   },
   "source": "## YOUR CODE HERE\nlabels = [0,1]\ny_val_prob = decision_tree.predict_proba(X_val,labels)\nfpr, tpr, thresholds = metrics.roc_curve(y_val, y_val_prob[:,1])\n\n# Calculate the area under the ROC curve\nroc_auc = metrics.auc(fpr, tpr)\nroc_auc\n\nplt.figure(figsize=(6,6))\nlw = 2\nplt.plot(fpr, tpr, color='darkorange',\n         lw=lw, label='ROC curve (area = %0.2f)' % roc_auc)\nplt.plot([0, 1], [0, 1], color='navy', lw=lw, linestyle='--')\nplt.xlim([0.0, 1.0])\nplt.ylim([0.0, 1.0])\nplt.xlabel('False Positive Rate')\nplt.ylabel('True Positive Rate')\nplt.title('Receiver operating characteristic')\nplt.legend(loc=\"lower right\")\nplt.show()",
   "outputs": [
    {
     "data": {
      "text/plain": "<Figure size 432x432 with 1 Axes>",
      "image/png": "[encoded data removed]"
     },
     "metadata": {
      "needs_background": "light",
      "image/png": {
       "width": 394,
       "height": 387
      }
     },
     "output_type": "display_data"
    }
   ],
   "execution_count": null
  },
  {
   "cell_type": "markdown",
   "source": "Use graphviz to visualize your 2nd tree.",
   "metadata": {
    "colab_type": "text",
    "id": "tKdqOMBKUvGZ",
    "cell_id": "00016-ceb0a3bf-53b7-4fda-95a1-8759c4cf9041",
    "deepnote_cell_type": "markdown"
   }
  },
  {
   "cell_type": "code",
   "metadata": {
    "colab": {
     "autoexec": {
      "startup": false,
      "wait_interval": 0
     }
    },
    "colab_type": "code",
    "id": "8o55bY_jl8gj",
    "cell_id": "00017-937c99ac-ed8f-4575-8a24-2033a69b5153",
    "deepnote_to_be_reexecuted": false,
    "source_hash": "1028825e",
    "execution_start": 1625693193050,
    "execution_millis": 47,
    "deepnote_cell_type": "code"
   },
   "source": "## YOUR CODE HERE\ndot_data = tree.export_graphviz(decision_tree, out_file=None, filled=True)\nprint(data.columns)\nprint(data.head(5))\n\ngraph = graphviz.Source(dot_data)\ngraph\n",
   "outputs": [
    {
     "name": "stdout",
     "text": "Index(['preg', 'plas', 'pres', 'skin', 'test', 'mass', 'pedi', 'age', 'class'], dtype='object')\n   preg   plas  pres  skin   test  mass   pedi  age  class\n0     1   89.0  66.0  23.0   94.0  28.1  0.167   21      0\n1     0  137.0  40.0  35.0  168.0  43.1  2.288   33      1\n2     3   78.0  50.0  32.0   88.0  31.0  0.248   26      1\n3     2  197.0  70.0  45.0  543.0  30.5  0.158   53      1\n4     1  189.0  60.0  23.0  846.0  30.1  0.398   59      1\n",
     "output_type": "stream"
    },
    {
     "output_type": "execute_result",
     "execution_count": 8,
     "data": {
      "text/plain": "<graphviz.files.Source at 0x7f1535fd0090>",
      "image/svg+xml": "<?xml version=\"1.0\" encoding=\"UTF-8\" standalone=\"no\"?>\n<!DOCTYPE svg PUBLIC \"-//W3C//DTD SVG 1.1//EN\"\n \"http://www.w3.org/Graphics/SVG/1.1/DTD/svg11.dtd\">\n<!-- Generated by graphviz version 2.40.1 (20161225.0304)\n -->\n<!-- Title: Tree Pages: 1 -->\n<svg width=\"599pt\" height=\"269pt\"\n viewBox=\"0.00 0.00 599.00 269.00\" xmlns=\"http://www.w3.org/2000/svg\" xmlns:xlink=\"http://www.w3.org/1999/xlink\">\n<g id=\"graph0\" class=\"graph\" transform=\"scale(1 1) rotate(0) translate(4 265)\">\n<title>Tree</title>\n<polygon fill=\"#ffffff\" stroke=\"transparent\" points=\"-4,4 -4,-265 595,-265 595,4 -4,4\"/>\n<!-- 0 -->\n<g id=\"node1\" class=\"node\">\n<title>0</title>\n<polygon fill=\"#f2be9a\" stroke=\"#000000\" points=\"365,-261 225,-261 225,-193 365,-193 365,-261\"/>\n<text text-anchor=\"middle\" x=\"295\" y=\"-245.8\" font-family=\"Times,serif\" font-size=\"14.00\" fill=\"#000000\">X[1] &lt;= 127.5</text>\n<text text-anchor=\"middle\" x=\"295\" y=\"-230.8\" font-family=\"Times,serif\" font-size=\"14.00\" fill=\"#000000\">entropy = 0.913</text>\n<text text-anchor=\"middle\" x=\"295\" y=\"-215.8\" font-family=\"Times,serif\" font-size=\"14.00\" fill=\"#000000\">samples = 250</text>\n<text text-anchor=\"middle\" x=\"295\" y=\"-200.8\" font-family=\"Times,serif\" font-size=\"14.00\" fill=\"#000000\">value = [168, 82]</text>\n</g>\n<!-- 1 -->\n<g id=\"node2\" class=\"node\">\n<title>1</title>\n<polygon fill=\"#e9965a\" stroke=\"#000000\" points=\"288,-157 148,-157 148,-89 288,-89 288,-157\"/>\n<text text-anchor=\"middle\" x=\"218\" y=\"-141.8\" font-family=\"Times,serif\" font-size=\"14.00\" fill=\"#000000\">X[6] &lt;= 0.677</text>\n<text text-anchor=\"middle\" x=\"218\" y=\"-126.8\" font-family=\"Times,serif\" font-size=\"14.00\" fill=\"#000000\">entropy = 0.589</text>\n<text text-anchor=\"middle\" x=\"218\" y=\"-111.8\" font-family=\"Times,serif\" font-size=\"14.00\" fill=\"#000000\">samples = 155</text>\n<text text-anchor=\"middle\" x=\"218\" y=\"-96.8\" font-family=\"Times,serif\" font-size=\"14.00\" fill=\"#000000\">value = [133, 22]</text>\n</g>\n<!-- 0&#45;&gt;1 -->\n<g id=\"edge1\" class=\"edge\">\n<title>0&#45;&gt;1</title>\n<path fill=\"none\" stroke=\"#000000\" d=\"M269.7873,-192.9465C263.2727,-184.1475 256.1795,-174.5672 249.3918,-165.3993\"/>\n<polygon fill=\"#000000\" stroke=\"#000000\" points=\"252.0327,-163.0843 243.2693,-157.13 246.4069,-167.2496 252.0327,-163.0843\"/>\n<text text-anchor=\"middle\" x=\"239.5809\" y=\"-178.1564\" font-family=\"Times,serif\" font-size=\"14.00\" fill=\"#000000\">True</text>\n</g>\n<!-- 4 -->\n<g id=\"node5\" class=\"node\">\n<title>4</title>\n<polygon fill=\"#acd6f4\" stroke=\"#000000\" points=\"440,-157 306,-157 306,-89 440,-89 440,-157\"/>\n<text text-anchor=\"middle\" x=\"373\" y=\"-141.8\" font-family=\"Times,serif\" font-size=\"14.00\" fill=\"#000000\">X[7] &lt;= 23.5</text>\n<text text-anchor=\"middle\" x=\"373\" y=\"-126.8\" font-family=\"Times,serif\" font-size=\"14.00\" fill=\"#000000\">entropy = 0.949</text>\n<text text-anchor=\"middle\" x=\"373\" y=\"-111.8\" font-family=\"Times,serif\" font-size=\"14.00\" fill=\"#000000\">samples = 95</text>\n<text text-anchor=\"middle\" x=\"373\" y=\"-96.8\" font-family=\"Times,serif\" font-size=\"14.00\" fill=\"#000000\">value = [35, 60]</text>\n</g>\n<!-- 0&#45;&gt;4 -->\n<g id=\"edge4\" class=\"edge\">\n<title>0&#45;&gt;4</title>\n<path fill=\"none\" stroke=\"#000000\" d=\"M320.5401,-192.9465C327.1393,-184.1475 334.3246,-174.5672 341.2005,-165.3993\"/>\n<polygon fill=\"#000000\" stroke=\"#000000\" points=\"344.2025,-167.23 347.4025,-157.13 338.6025,-163.03 344.2025,-167.23\"/>\n<text text-anchor=\"middle\" x=\"350.938\" y=\"-178.1787\" font-family=\"Times,serif\" font-size=\"14.00\" fill=\"#000000\">False</text>\n</g>\n<!-- 2 -->\n<g id=\"node3\" class=\"node\">\n<title>2</title>\n<polygon fill=\"#e78a46\" stroke=\"#000000\" points=\"134,-53 0,-53 0,0 134,0 134,-53\"/>\n<text text-anchor=\"middle\" x=\"67\" y=\"-37.8\" font-family=\"Times,serif\" font-size=\"14.00\" fill=\"#000000\">entropy = 0.342</text>\n<text text-anchor=\"middle\" x=\"67\" y=\"-22.8\" font-family=\"Times,serif\" font-size=\"14.00\" fill=\"#000000\">samples = 110</text>\n<text text-anchor=\"middle\" x=\"67\" y=\"-7.8\" font-family=\"Times,serif\" font-size=\"14.00\" fill=\"#000000\">value = [103, 7]</text>\n</g>\n<!-- 1&#45;&gt;2 -->\n<g id=\"edge2\" class=\"edge\">\n<title>1&#45;&gt;2</title>\n<path fill=\"none\" stroke=\"#000000\" d=\"M164.763,-88.9777C149.4315,-79.1798 132.7549,-68.5222 117.5887,-58.8298\"/>\n<polygon fill=\"#000000\" stroke=\"#000000\" points=\"119.1662,-55.6843 108.8551,-53.2485 115.3966,-61.5827 119.1662,-55.6843\"/>\n</g>\n<!-- 3 -->\n<g id=\"node4\" class=\"node\">\n<title>3</title>\n<polygon fill=\"#f2c09c\" stroke=\"#000000\" points=\"286,-53 152,-53 152,0 286,0 286,-53\"/>\n<text text-anchor=\"middle\" x=\"219\" y=\"-37.8\" font-family=\"Times,serif\" font-size=\"14.00\" fill=\"#000000\">entropy = 0.918</text>\n<text text-anchor=\"middle\" x=\"219\" y=\"-22.8\" font-family=\"Times,serif\" font-size=\"14.00\" fill=\"#000000\">samples = 45</text>\n<text text-anchor=\"middle\" x=\"219\" y=\"-7.8\" font-family=\"Times,serif\" font-size=\"14.00\" fill=\"#000000\">value = [30, 15]</text>\n</g>\n<!-- 1&#45;&gt;3 -->\n<g id=\"edge3\" class=\"edge\">\n<title>1&#45;&gt;3</title>\n<path fill=\"none\" stroke=\"#000000\" d=\"M218.3526,-88.9777C218.438,-80.7364 218.5297,-71.887 218.6164,-63.5153\"/>\n<polygon fill=\"#000000\" stroke=\"#000000\" points=\"222.1189,-63.2842 218.7228,-53.2485 215.1193,-63.2116 222.1189,-63.2842\"/>\n</g>\n<!-- 5 -->\n<g id=\"node6\" class=\"node\">\n<title>5</title>\n<polygon fill=\"#ea985d\" stroke=\"#000000\" points=\"439,-53 305,-53 305,0 439,0 439,-53\"/>\n<text text-anchor=\"middle\" x=\"372\" y=\"-37.8\" font-family=\"Times,serif\" font-size=\"14.00\" fill=\"#000000\">entropy = 0.619</text>\n<text text-anchor=\"middle\" x=\"372\" y=\"-22.8\" font-family=\"Times,serif\" font-size=\"14.00\" fill=\"#000000\">samples = 13</text>\n<text text-anchor=\"middle\" x=\"372\" y=\"-7.8\" font-family=\"Times,serif\" font-size=\"14.00\" fill=\"#000000\">value = [11, 2]</text>\n</g>\n<!-- 4&#45;&gt;5 -->\n<g id=\"edge5\" class=\"edge\">\n<title>4&#45;&gt;5</title>\n<path fill=\"none\" stroke=\"#000000\" d=\"M372.6474,-88.9777C372.562,-80.7364 372.4703,-71.887 372.3836,-63.5153\"/>\n<polygon fill=\"#000000\" stroke=\"#000000\" points=\"375.8807,-63.2116 372.2772,-53.2485 368.8811,-63.2842 375.8807,-63.2116\"/>\n</g>\n<!-- 6 -->\n<g id=\"node7\" class=\"node\">\n<title>6</title>\n<polygon fill=\"#8bc6f0\" stroke=\"#000000\" points=\"591,-53 457,-53 457,0 591,0 591,-53\"/>\n<text text-anchor=\"middle\" x=\"524\" y=\"-37.8\" font-family=\"Times,serif\" font-size=\"14.00\" fill=\"#000000\">entropy = 0.872</text>\n<text text-anchor=\"middle\" x=\"524\" y=\"-22.8\" font-family=\"Times,serif\" font-size=\"14.00\" fill=\"#000000\">samples = 82</text>\n<text text-anchor=\"middle\" x=\"524\" y=\"-7.8\" font-family=\"Times,serif\" font-size=\"14.00\" fill=\"#000000\">value = [24, 58]</text>\n</g>\n<!-- 4&#45;&gt;6 -->\n<g id=\"edge6\" class=\"edge\">\n<title>4&#45;&gt;6</title>\n<path fill=\"none\" stroke=\"#000000\" d=\"M426.237,-88.9777C441.5685,-79.1798 458.2451,-68.5222 473.4113,-58.8298\"/>\n<polygon fill=\"#000000\" stroke=\"#000000\" points=\"475.6034,-61.5827 482.1449,-53.2485 471.8338,-55.6843 475.6034,-61.5827\"/>\n</g>\n</g>\n</svg>\n"
     },
     "metadata": {}
    }
   ],
   "execution_count": null
  },
  {
   "cell_type": "markdown",
   "source": "#### Use the graph above to answer the questions below",
   "metadata": {
    "colab_type": "text",
    "id": "4iz4meWDVmo2",
    "cell_id": "00018-d531e6b3-0be6-4593-911a-1697ac904853",
    "deepnote_cell_type": "markdown"
   }
  },
  {
   "cell_type": "markdown",
   "source": "Question 1: What do you think X[n] represents in the nodes from the graph?\n\n(YOUR ANSWER HERE)",
   "metadata": {
    "colab_type": "text",
    "id": "u1yM9h10WUEv",
    "cell_id": "00019-51773616-e8a0-44ba-9e36-d70097fa5655",
    "deepnote_cell_type": "markdown"
   }
  },
  {
   "cell_type": "markdown",
   "source": "The nth feature",
   "metadata": {
    "tags": [],
    "cell_id": "00020-acb9d47d-1984-42d1-a939-91b0df9bf8ef",
    "deepnote_cell_type": "text-cell-p"
   }
  },
  {
   "cell_type": "markdown",
   "source": "Question 2: What is the root feature? Does it make sense as the root feature?\n\n(YOUR ANSWER HERE)",
   "metadata": {
    "colab_type": "text",
    "id": "rA7B0oTaWUIe",
    "cell_id": "00020-2deceefe-565a-4b18-8401-7c83ec9bda5e",
    "deepnote_cell_type": "markdown"
   }
  },
  {
   "cell_type": "markdown",
   "source": "X[1] is plasticity",
   "metadata": {
    "tags": [],
    "cell_id": "00022-bda8e625-9c35-4112-8aa2-207f6ed17a2d",
    "deepnote_cell_type": "text-cell-p"
   }
  },
  {
   "cell_type": "markdown",
   "source": "Question 3: If you were to change the parameters to have a max_depth of 500 and min_samples_leaf of 1, what do you think the effect would be on the test accuracy? Training accuracy?\n\n(YOUR ANSWER HERE)",
   "metadata": {
    "colab_type": "text",
    "id": "1t559pS3ZHES",
    "cell_id": "00021-e29e7b88-9eaf-4236-8c1d-c18d93258c0b",
    "deepnote_cell_type": "markdown"
   }
  },
  {
   "cell_type": "markdown",
   "source": "It would overfit the data",
   "metadata": {
    "tags": [],
    "cell_id": "00024-2c0bf4e7-5610-4efb-83bd-8a5981d675b9",
    "deepnote_cell_type": "text-cell-p"
   }
  },
  {
   "cell_type": "markdown",
   "source": "**Test your guesses, create a model with max_depth=500 and min_samples_leaf=1, and predict values for the training and validation data**",
   "metadata": {
    "colab_type": "text",
    "id": "7dnlqId2bIcR",
    "cell_id": "00022-ed72e79c-1fb3-44cb-b533-d47d428bf747",
    "deepnote_cell_type": "markdown"
   }
  },
  {
   "cell_type": "code",
   "metadata": {
    "colab": {
     "autoexec": {
      "startup": false,
      "wait_interval": 0
     },
     "base_uri": "https://localhost:8080/",
     "height": 17
    },
    "colab_type": "code",
    "executionInfo": {
     "elapsed": 235,
     "status": "ok",
     "timestamp": 1530627843330,
     "user": {
      "displayName": "john passarelli",
      "photoUrl": "https://lh3.googleusercontent.com/a/default-user=s128",
      "userId": "102241934905781120798"
     },
     "user_tz": 240
    },
    "id": "hnUQKX9vl9Gy",
    "outputId": "ebaa5e52-a33f-4749-a3f6-6a3fde24da1f",
    "cell_id": "00023-49fb46da-e9bc-4bf3-a37f-ba7898041e16",
    "deepnote_to_be_reexecuted": false,
    "source_hash": "7fc44465",
    "execution_start": 1625693193102,
    "execution_millis": 18,
    "deepnote_cell_type": "code"
   },
   "source": "## YOUR CODE HERE\ndecision_tree = DecisionTreeClassifier(criterion = \"entropy\", random_state = None,\n                              max_depth=500, min_samples_leaf=1)  # minimum sample leafs is the minimum sample \n                                                                # amount the leaf can have\n\n# Training/fitting the model with training data\ndecision_tree.fit(X_train, y_train)\n\ny_train_pred=decision_tree.predict(X_train)\nprint(\"Training Accuracy is \", accuracy_score(y_train, y_train_pred)*100)\ny_val_pred=decision_tree.predict(X_val)\nprint(\"Validation Accuracy is \", accuracy_score(y_val,y_val_pred)*100)",
   "outputs": [
    {
     "name": "stdout",
     "text": "Training Accuracy is  100.0\nValidation Accuracy is  80.95238095238095\n",
     "output_type": "stream"
    }
   ],
   "execution_count": null
  },
  {
   "cell_type": "markdown",
   "source": "# Random Forest",
   "metadata": {
    "colab_type": "text",
    "id": "40Psyt65pD8p",
    "cell_id": "00024-f6243122-11c3-4e0e-b411-2261dd2a6ce6",
    "deepnote_cell_type": "markdown"
   }
  },
  {
   "cell_type": "markdown",
   "source": "## Creating Model\n\nCreate a model with sklearn's RandomForestClassifier and predict values on your validation set.",
   "metadata": {
    "colab_type": "text",
    "id": "mjLu1MLIpGNF",
    "cell_id": "00025-9ac59e6e-64f7-43cb-9dc9-ee4523ef3599",
    "deepnote_cell_type": "markdown"
   }
  },
  {
   "cell_type": "code",
   "metadata": {
    "colab": {
     "autoexec": {
      "startup": false,
      "wait_interval": 0
     },
     "base_uri": "https://localhost:8080/",
     "height": 37
    },
    "colab_type": "code",
    "executionInfo": {
     "elapsed": 318,
     "status": "ok",
     "timestamp": 1530627847311,
     "user": {
      "displayName": "john passarelli",
      "photoUrl": "https://lh3.googleusercontent.com/a/default-user=s128",
      "userId": "102241934905781120798"
     },
     "user_tz": 240
    },
    "id": "TYwbpWxUfDIY",
    "outputId": "0008a18f-a9e3-4c04-b42e-adc8ce9aa966",
    "cell_id": "00026-de694ae1-f14e-428e-a672-14f3cfa91f97",
    "deepnote_to_be_reexecuted": false,
    "source_hash": "31ecd22c",
    "execution_start": 1625693193128,
    "execution_millis": 354,
    "deepnote_cell_type": "code"
   },
   "source": "## YOUR CODE HERE\nrandom_forest = RandomForestClassifier(n_estimators=100) ## number of trees\n\n# Training/fitting the model with training data\nrandom_forest.fit(X_train, y_train)",
   "outputs": [
    {
     "output_type": "execute_result",
     "execution_count": 10,
     "data": {
      "text/plain": "RandomForestClassifier()"
     },
     "metadata": {}
    }
   ],
   "execution_count": null
  },
  {
   "cell_type": "markdown",
   "source": "Print accuracy of training and validation data.",
   "metadata": {
    "colab_type": "text",
    "id": "6Ys_J3O4pd0u",
    "cell_id": "00027-37ee0acc-7ffe-4b8a-b287-d02e0827e18e",
    "deepnote_cell_type": "markdown"
   }
  },
  {
   "cell_type": "code",
   "metadata": {
    "colab": {
     "autoexec": {
      "startup": false,
      "wait_interval": 0
     },
     "base_uri": "https://localhost:8080/",
     "height": 17
    },
    "colab_type": "code",
    "executionInfo": {
     "elapsed": 337,
     "status": "ok",
     "timestamp": 1530627851278,
     "user": {
      "displayName": "john passarelli",
      "photoUrl": "https://lh3.googleusercontent.com/a/default-user=s128",
      "userId": "102241934905781120798"
     },
     "user_tz": 240
    },
    "id": "aQdfjEWdfDOH",
    "outputId": "751008b5-156c-4bea-d599-37f84bd1b60c",
    "cell_id": "00028-6dc8051a-5dab-40fd-8577-1a964ad85ec1",
    "deepnote_to_be_reexecuted": false,
    "source_hash": "5b0f9d0f",
    "execution_start": 1625693193395,
    "execution_millis": 87,
    "deepnote_cell_type": "code"
   },
   "source": "## YOUR CODE HERE\ny_train_pred=random_forest.predict(X_train)\nprint(\"Training Accuracy is \", accuracy_score(y_train, y_train_pred)*100)\ny_val_pred=random_forest.predict(X_val)\nprint(\"Validation Accuracy is \", accuracy_score(y_val,y_val_pred)*100)",
   "outputs": [
    {
     "name": "stdout",
     "text": "Training Accuracy is  100.0\nValidation Accuracy is  74.60317460317461\n",
     "output_type": "stream"
    }
   ],
   "execution_count": null
  },
  {
   "cell_type": "markdown",
   "source": "How did the accuracy compare to the decision tree's accuracy?\n\n(YOUR ANSWER HERE)",
   "metadata": {
    "cell_id": "00029-e39ef078-6e30-45dd-926b-bbb507b140eb",
    "deepnote_cell_type": "markdown"
   }
  },
  {
   "cell_type": "markdown",
   "source": "Print the 3 most important features (hint: sklearn has an attribute to help you find these)",
   "metadata": {
    "colab_type": "text",
    "id": "jGlSHxuUqAnX",
    "cell_id": "00030-5e94d202-3299-4773-8fe0-f4448bcb9862",
    "deepnote_cell_type": "markdown"
   }
  },
  {
   "cell_type": "code",
   "source": "list(map(list, zip(sorted_features, names[:-1])))",
   "metadata": {
    "tags": [],
    "cell_id": "00034-c63b50ad-c364-4df8-a2da-19343c202589",
    "deepnote_to_be_reexecuted": false,
    "source_hash": "8337d3cb",
    "execution_start": 1625693193453,
    "execution_millis": 138,
    "deepnote_cell_type": "code"
   },
   "outputs": [],
   "execution_count": null
  },
  {
   "cell_type": "code",
   "metadata": {
    "colab": {
     "autoexec": {
      "startup": false,
      "wait_interval": 0
     },
     "base_uri": "https://localhost:8080/",
     "height": 17
    },
    "colab_type": "code",
    "executionInfo": {
     "elapsed": 448,
     "status": "ok",
     "timestamp": 1530627855691,
     "user": {
      "displayName": "john passarelli",
      "photoUrl": "https://lh3.googleusercontent.com/a/default-user=s128",
      "userId": "102241934905781120798"
     },
     "user_tz": 240
    },
    "id": "5rVekWn0qw3r",
    "outputId": "d5e516d3-4f91-4394-b2e5-f26427b404ef",
    "cell_id": "00031-8c53bed0-f3ad-4d2c-9d15-a2d331c52695",
    "deepnote_to_be_reexecuted": false,
    "source_hash": "63b6646c",
    "execution_start": 1625693202023,
    "execution_millis": 8,
    "deepnote_cell_type": "code"
   },
   "source": "## YOUR CODE HERE\nrank = random_forest.feature_importances_.argsort()\n\nprint(rank)\nprint(names[:-1])\nsorted_features = sorted(list(map(list, zip(rank, names[:-1]))))\nsorted_features = [row[1] for row in sorted_features]\n\nprint(sorted_features)",
   "outputs": [
    {
     "name": "stdout",
     "text": "[2 0 3 6 5 7 4 1]\n['preg', 'plas', 'pres', 'skin', 'test', 'mass', 'pedi', 'age']\n['plas', 'age', 'preg', 'pres', 'pedi', 'test', 'skin', 'mass']\n",
     "output_type": "stream"
    }
   ],
   "execution_count": null
  },
  {
   "cell_type": "markdown",
   "source": "Find the accuracy for random forests with 1 to 100 trees, counting by 5. Print and then plot these accuracies.",
   "metadata": {
    "colab_type": "text",
    "id": "lynu8pLDtd0S",
    "cell_id": "00032-b66c2556-892c-4fe8-8399-f5699345b768",
    "deepnote_cell_type": "markdown"
   }
  },
  {
   "cell_type": "code",
   "metadata": {
    "colab": {
     "autoexec": {
      "startup": false,
      "wait_interval": 0
     },
     "base_uri": "https://localhost:8080/",
     "height": 17
    },
    "colab_type": "code",
    "executionInfo": {
     "elapsed": 371,
     "status": "ok",
     "timestamp": 1530627860158,
     "user": {
      "displayName": "john passarelli",
      "photoUrl": "https://lh3.googleusercontent.com/a/default-user=s128",
      "userId": "102241934905781120798"
     },
     "user_tz": 240
    },
    "id": "e2hG7npcuM7f",
    "outputId": "fb9e32ed-fb17-462e-a2f2-8db7964bb3d7",
    "cell_id": "00033-cc17e767-e961-47c5-b451-f98211db658d",
    "deepnote_to_be_reexecuted": false,
    "source_hash": "ca54ae9",
    "execution_start": 1625693250043,
    "execution_millis": 2497,
    "deepnote_cell_type": "code"
   },
   "source": "## YOUR CODE HERE\n#trees = np.linspace(5, 100, num= 20)\ntrees_1= range(1,100,5)\naccuracies = []\nfor tree in trees_1:\n    random_forest = RandomForestClassifier(n_estimators=tree)\n\n    # Training/fitting the model with training data\n    random_forest.fit(X_train, y_train)\n\n    y_val_pred=random_forest.predict(X_val)\n    temp_accu=accuracy_score(y_val,y_val_pred)*100\n\n    accuracies.append(temp_accu)\n\n\nplt.plot(accuracies)\nplt.show()",
   "outputs": [
    {
     "data": {
      "text/plain": "<Figure size 432x288 with 1 Axes>",
      "image/png": "[encoded data removed]"
     },
     "metadata": {
      "needs_background": "light",
      "image/png": {
       "width": 368,
       "height": 248
      }
     },
     "output_type": "display_data"
    }
   ],
   "execution_count": null
  },
  {
   "cell_type": "markdown",
   "source": "Plot the roc_curve using predict_proba a function for our random forest model, and metrics.roc_curve\n\nIt might help to google these functions and look at sklearn's documentation.",
   "metadata": {
    "cell_id": "00034-e51aa614-cd4a-40a3-9dcd-64e7966fbf1c",
    "deepnote_cell_type": "markdown"
   }
  },
  {
   "cell_type": "code",
   "metadata": {
    "cell_id": "00035-104f4dee-fe87-4866-ad6c-d7b4b3d97e90",
    "deepnote_to_be_reexecuted": false,
    "source_hash": "4a17bd86",
    "execution_start": 1625693350702,
    "execution_millis": 190,
    "deepnote_cell_type": "code"
   },
   "source": "## YOUR CODE HERE\n\ny_val_prob = random_forest.predict_proba(X_val)\nfpr, tpr, thresholds = metrics.roc_curve(y_val, y_val_prob[:,1])\n\n# Calculate the area under the ROC curve\nroc_auc = metrics.auc(fpr, tpr)\nroc_auc\n\nplt.figure(figsize=(6,6))\nlw = 2\nplt.plot(fpr, tpr, color='darkorange',\n         lw=lw, label='ROC curve (area = %0.2f)' % roc_auc)\nplt.plot([0, 1], [0, 1], color='navy', lw=lw, linestyle='--')\nplt.xlim([0.0, 1.0])\nplt.ylim([0.0, 1.0])\nplt.xlabel('False Positive Rate')\nplt.ylabel('True Positive Rate')\nplt.title('Receiver operating characteristic')\nplt.legend(loc=\"lower right\")\nplt.show()",
   "outputs": [
    {
     "data": {
      "text/plain": "<Figure size 432x432 with 1 Axes>",
      "image/png": "[encoded data removed]"
     },
     "metadata": {
      "needs_background": "light",
      "image/png": {
       "width": 394,
       "height": 387
      }
     },
     "output_type": "display_data"
    }
   ],
   "execution_count": null
  },
  {
   "cell_type": "code",
   "source": "",
   "metadata": {
    "tags": [],
    "cell_id": "00039-a56f0979-7fe4-4994-909b-a5a0399a6f4b",
    "deepnote_to_be_reexecuted": true,
    "source_hash": "b623e53d",
    "execution_start": 1625690023334,
    "execution_millis": 1,
    "deepnote_cell_type": "code"
   },
   "outputs": [],
   "execution_count": null
  },
  {
   "cell_type": "markdown",
   "source": "<a style='text-decoration:none;line-height:16px;display:flex;color:#5B5B62;padding:10px;justify-content:end;' href='https://deepnote.com?utm_source=created-in-deepnote-cell&projectId=783c3aa1-1225-4605-b690-395c43d54391' target=\"_blank\">\n<img alt='Created in deepnote.com' style='display:inline;max-height:16px;margin:0px;margin-right:7.5px;' src='data:image/svg+xml;base64,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' > </img>\nCreated in <span style='font-weight:600;margin-left:4px;'>Deepnote</span></a>",
   "metadata": {
    "tags": [],
    "created_in_deepnote_cell": true,
    "deepnote_cell_type": "markdown"
   }
  }
 ],
 "nbformat": 4,
 "nbformat_minor": 1,
 "metadata": {
  "colab": {
   "collapsed_sections": [],
   "default_view": {},
   "name": "DecisionTreeWorksheetStudent",
   "provenance": [
    {
     "file_id": "165CSmT99w4_Sv1UENIyvIkH7ZEw2Xeh8",
     "timestamp": 1527780043079
    }
   ],
   "version": "0.3.2",
   "views": {}
  },
  "kernelspec": {
   "display_name": "Python 3",
   "language": "python",
   "name": "python3"
  },
  "language_info": {
   "codemirror_mode": {
    "name": "ipython",
    "version": 3
   },
   "file_extension": ".py",
   "mimetype": "text/x-python",
   "name": "python",
   "nbconvert_exporter": "python",
   "pygments_lexer": "ipython3",
   "version": "3.7.3"
  },
  "deepnote_notebook_id": "5160454b-8d9a-4d65-91ef-99b6d4c100e8",
  "deepnote": {},
  "deepnote_execution_queue": []
 }
}